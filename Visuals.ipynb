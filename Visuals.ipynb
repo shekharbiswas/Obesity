{
 "cells": [
  {
   "cell_type": "markdown",
   "metadata": {},
   "source": [
    "| Abbreviation   | Full Form                                 |\n",
    "|:---------------|:------------------------------------------|\n",
    "| FAVC           | Frequent consumption of high caloric food |\n",
    "| FCVC           | Frequency of consumption of vegetables    |\n",
    "| NCP            | Number of main meals                      |\n",
    "| CAEC           | Consumption of food between meals         |\n",
    "| CH20           | Consumption of water daily                |\n",
    "| CALC           | Consumption of alcohol                    |\n",
    "| SCC            | Calories consumption monitoring           |\n",
    "| FAF            | Physical activity frequency               |\n",
    "| TUE            | Time using technology devices             |\n",
    "| MTRANS         | Transportation used                       |"
   ]
  },
  {
   "cell_type": "code",
   "execution_count": 1,
   "metadata": {},
   "outputs": [
    {
     "data": {
      "text/plain": [
       "(2107, 20)"
      ]
     },
     "execution_count": 1,
     "metadata": {},
     "output_type": "execute_result"
    }
   ],
   "source": [
    "import pandas as pd\n",
    "import numpy as np\n",
    "\n",
    "import matplotlib.pyplot as plt\n",
    "import seaborn as sns\n",
    "import plotly \n",
    "import plotly.express as px\n",
    "import warnings\n",
    "warnings.filterwarnings(\"ignore\")\n",
    "from sklearn.ensemble import RandomForestClassifier\n",
    "from sklearn.model_selection import train_test_split\n",
    "from sklearn.model_selection import cross_val_score\n",
    "from sklearn.preprocessing import LabelEncoder\n",
    "import xgboost as xgb\n",
    "from xgboost import XGBClassifier\n",
    "from sklearn.metrics import accuracy_score\n",
    "\n",
    "from sklearn.model_selection import GridSearchCV\n",
    "\n",
    "from sklearn.metrics import roc_auc_score\n",
    "df = pd.read_csv('df.csv')\n",
    "df.shape"
   ]
  },
  {
   "cell_type": "code",
   "execution_count": 5,
   "metadata": {},
   "outputs": [],
   "source": [
    "#res = pd.read_csv('dataframe.csv')\n",
    "#res = res.loc[res['Train_Score'] < 1]\n",
    "#res = res.loc[res['Test_Acc_Score'] > 0.8]\n",
    "#\n",
    "#res.sort_values(by = ['Test_Acc_Score', 'Train_Score'], ascending= False).head(30)\n",
    "#res['index'] = res.index\n",
    "#data = pd.melt(res, id_vars= ['index'] , value_vars=['Train_Score', 'Test_Acc_Score'])\n",
    "#data\n",
    "#\n",
    "#\n",
    "#fig = px.scatter(data, x='index', y = 'value',  color='variable')\n",
    "#fig.show()"
   ]
  },
  {
   "cell_type": "code",
   "execution_count": 6,
   "metadata": {},
   "outputs": [],
   "source": [
    "#res = res[res['objective'] == 'multi:softprob']\n",
    "#res.sort_values(by = 'Test_Acc_Score', ascending= False)"
   ]
  },
  {
   "cell_type": "code",
   "execution_count": null,
   "metadata": {},
   "outputs": [],
   "source": []
  },
  {
   "cell_type": "code",
   "execution_count": 7,
   "metadata": {},
   "outputs": [],
   "source": [
    "#res.sort_values(by = ['Test_Acc_Score', 'Train_Score'], ascending= False).head(30)"
   ]
  },
  {
   "cell_type": "code",
   "execution_count": 8,
   "metadata": {},
   "outputs": [],
   "source": [
    "#res = pd.read_csv('dataframe.csv')\n",
    "#res"
   ]
  },
  {
   "cell_type": "code",
   "execution_count": 9,
   "metadata": {},
   "outputs": [],
   "source": [
    "#res.sort_values(by = ['Test_Acc_Score', 'Train_Score'], ascending= False).head(30)\n"
   ]
  },
  {
   "cell_type": "code",
   "execution_count": 10,
   "metadata": {},
   "outputs": [],
   "source": [
    "#res.groupby(['learning_rate', 'max_depth', 'n_estimators']).count()"
   ]
  },
  {
   "cell_type": "code",
   "execution_count": 11,
   "metadata": {},
   "outputs": [],
   "source": [
    "#Data Quality : Checking with WHO data and finding the significance of the Data\n",
    "# This is not done as it does not make much sense"
   ]
  },
  {
   "cell_type": "code",
   "execution_count": 12,
   "metadata": {},
   "outputs": [
    {
     "data": {
      "text/plain": [
       "Index(['Gender', 'Age', 'Height', 'Weight', 'family_history_with_overweight',\n",
       "       'FAVC', 'FCVC', 'NCP', 'CAEC', 'SMOKE', 'CH2O', 'SCC', 'FAF', 'TUE',\n",
       "       'CALC', 'MTRANS', 'NObeyesdad', 'BMI', 'Outliers', 'Level'],\n",
       "      dtype='object')"
      ]
     },
     "execution_count": 12,
     "metadata": {},
     "output_type": "execute_result"
    }
   ],
   "source": [
    "df.columns"
   ]
  },
  {
   "cell_type": "code",
   "execution_count": 13,
   "metadata": {},
   "outputs": [
    {
     "data": {
      "text/plain": [
       "<seaborn.axisgrid.FacetGrid at 0x23990067610>"
      ]
     },
     "execution_count": 13,
     "metadata": {},
     "output_type": "execute_result"
    },
    {
     "data": {
      "image/png": "[encoded data removed]",
      "text/plain": [
       "<Figure size 811.111x400 with 1 Axes>"
      ]
     },
     "metadata": {},
     "output_type": "display_data"
    }
   ],
   "source": [
    "sns.catplot(\n",
    "    data=df, x=\"Level\", y=\"FAF\", \n",
    "    kind=\"box\", height=4, aspect=2,\n",
    ")"
   ]
  },
  {
   "cell_type": "code",
   "execution_count": 14,
   "metadata": {},
   "outputs": [
    {
     "data": {
      "text/html": [
       "<div>\n",
       "<style scoped>\n",
       "    .dataframe tbody tr th:only-of-type {\n",
       "        vertical-align: middle;\n",
       "    }\n",
       "\n",
       "    .dataframe tbody tr th {\n",
       "        vertical-align: top;\n",
       "    }\n",
       "\n",
       "    .dataframe thead th {\n",
       "        text-align: right;\n",
       "    }\n",
       "</style>\n",
       "<table border=\"1\" class=\"dataframe\">\n",
       "  <thead>\n",
       "    <tr style=\"text-align: right;\">\n",
       "      <th></th>\n",
       "      <th>Level</th>\n",
       "      <th>Transport</th>\n",
       "      <th>Count</th>\n",
       "    </tr>\n",
       "  </thead>\n",
       "  <tbody>\n",
       "    <tr>\n",
       "      <th>0</th>\n",
       "      <td>Normal</td>\n",
       "      <td>Automobile</td>\n",
       "      <td>48</td>\n",
       "    </tr>\n",
       "    <tr>\n",
       "      <th>1</th>\n",
       "      <td>Normal</td>\n",
       "      <td>Bike</td>\n",
       "      <td>4</td>\n",
       "    </tr>\n",
       "    <tr>\n",
       "      <th>2</th>\n",
       "      <td>Normal</td>\n",
       "      <td>Motorbike</td>\n",
       "      <td>6</td>\n",
       "    </tr>\n",
       "    <tr>\n",
       "      <th>3</th>\n",
       "      <td>Normal</td>\n",
       "      <td>Public_Transportation</td>\n",
       "      <td>206</td>\n",
       "    </tr>\n",
       "    <tr>\n",
       "      <th>4</th>\n",
       "      <td>Normal</td>\n",
       "      <td>Walking</td>\n",
       "      <td>32</td>\n",
       "    </tr>\n",
       "    <tr>\n",
       "      <th>5</th>\n",
       "      <td>Obesity_I</td>\n",
       "      <td>Automobile</td>\n",
       "      <td>109</td>\n",
       "    </tr>\n",
       "    <tr>\n",
       "      <th>6</th>\n",
       "      <td>Obesity_I</td>\n",
       "      <td>Motorbike</td>\n",
       "      <td>3</td>\n",
       "    </tr>\n",
       "    <tr>\n",
       "      <th>7</th>\n",
       "      <td>Obesity_I</td>\n",
       "      <td>Public_Transportation</td>\n",
       "      <td>255</td>\n",
       "    </tr>\n",
       "    <tr>\n",
       "      <th>8</th>\n",
       "      <td>Obesity_I</td>\n",
       "      <td>Walking</td>\n",
       "      <td>3</td>\n",
       "    </tr>\n",
       "    <tr>\n",
       "      <th>9</th>\n",
       "      <td>Obesity_II</td>\n",
       "      <td>Automobile</td>\n",
       "      <td>97</td>\n",
       "    </tr>\n",
       "    <tr>\n",
       "      <th>10</th>\n",
       "      <td>Obesity_II</td>\n",
       "      <td>Bike</td>\n",
       "      <td>1</td>\n",
       "    </tr>\n",
       "    <tr>\n",
       "      <th>11</th>\n",
       "      <td>Obesity_II</td>\n",
       "      <td>Public_Transportation</td>\n",
       "      <td>238</td>\n",
       "    </tr>\n",
       "    <tr>\n",
       "      <th>12</th>\n",
       "      <td>Obesity_II</td>\n",
       "      <td>Walking</td>\n",
       "      <td>1</td>\n",
       "    </tr>\n",
       "    <tr>\n",
       "      <th>13</th>\n",
       "      <td>Obesity_III</td>\n",
       "      <td>Automobile</td>\n",
       "      <td>1</td>\n",
       "    </tr>\n",
       "    <tr>\n",
       "      <th>14</th>\n",
       "      <td>Obesity_III</td>\n",
       "      <td>Public_Transportation</td>\n",
       "      <td>270</td>\n",
       "    </tr>\n",
       "    <tr>\n",
       "      <th>15</th>\n",
       "      <td>Overweight</td>\n",
       "      <td>Automobile</td>\n",
       "      <td>157</td>\n",
       "    </tr>\n",
       "    <tr>\n",
       "      <th>16</th>\n",
       "      <td>Overweight</td>\n",
       "      <td>Bike</td>\n",
       "      <td>2</td>\n",
       "    </tr>\n",
       "    <tr>\n",
       "      <th>17</th>\n",
       "      <td>Overweight</td>\n",
       "      <td>Motorbike</td>\n",
       "      <td>2</td>\n",
       "    </tr>\n",
       "    <tr>\n",
       "      <th>18</th>\n",
       "      <td>Overweight</td>\n",
       "      <td>Public_Transportation</td>\n",
       "      <td>391</td>\n",
       "    </tr>\n",
       "    <tr>\n",
       "      <th>19</th>\n",
       "      <td>Overweight</td>\n",
       "      <td>Walking</td>\n",
       "      <td>14</td>\n",
       "    </tr>\n",
       "    <tr>\n",
       "      <th>20</th>\n",
       "      <td>Underweight</td>\n",
       "      <td>Automobile</td>\n",
       "      <td>45</td>\n",
       "    </tr>\n",
       "    <tr>\n",
       "      <th>21</th>\n",
       "      <td>Underweight</td>\n",
       "      <td>Public_Transportation</td>\n",
       "      <td>217</td>\n",
       "    </tr>\n",
       "    <tr>\n",
       "      <th>22</th>\n",
       "      <td>Underweight</td>\n",
       "      <td>Walking</td>\n",
       "      <td>5</td>\n",
       "    </tr>\n",
       "  </tbody>\n",
       "</table>\n",
       "</div>"
      ],
      "text/plain": [
       "          Level              Transport  Count\n",
       "0        Normal             Automobile     48\n",
       "1        Normal                   Bike      4\n",
       "2        Normal              Motorbike      6\n",
       "3        Normal  Public_Transportation    206\n",
       "4        Normal                Walking     32\n",
       "5     Obesity_I             Automobile    109\n",
       "6     Obesity_I              Motorbike      3\n",
       "7     Obesity_I  Public_Transportation    255\n",
       "8     Obesity_I                Walking      3\n",
       "9    Obesity_II             Automobile     97\n",
       "10   Obesity_II                   Bike      1\n",
       "11   Obesity_II  Public_Transportation    238\n",
       "12   Obesity_II                Walking      1\n",
       "13  Obesity_III             Automobile      1\n",
       "14  Obesity_III  Public_Transportation    270\n",
       "15   Overweight             Automobile    157\n",
       "16   Overweight                   Bike      2\n",
       "17   Overweight              Motorbike      2\n",
       "18   Overweight  Public_Transportation    391\n",
       "19   Overweight                Walking     14\n",
       "20  Underweight             Automobile     45\n",
       "21  Underweight  Public_Transportation    217\n",
       "22  Underweight                Walking      5"
      ]
     },
     "execution_count": 14,
     "metadata": {},
     "output_type": "execute_result"
    }
   ],
   "source": [
    "dfv1 = df.groupby(['Level', 'MTRANS'])['Gender'].count().reset_index()\n",
    "dfv1.columns = ['Level', 'Transport', 'Count']\n",
    "dfv1"
   ]
  },
  {
   "cell_type": "code",
   "execution_count": 15,
   "metadata": {},
   "outputs": [
    {
     "data": {
      "application/vnd.plotly.v1+json": {
       "config": {
        "plotlyServerURL": "https://plot.ly"
       },
       "data": [
        {
         "alignmentgroup": "True",
         "hovertemplate": "Transport=Automobile<br>Level=%{x}<br>Count=%{y}<extra></extra>",
         "legendgroup": "Automobile",
         "marker": {
          "color": "#636efa",
          "pattern": {
           "shape": ""
          }
         },
         "name": "Automobile",
         "offsetgroup": "Automobile",
         "orientation": "v",
         "showlegend": true,
         "textposition": "auto",
         "type": "bar",
         "x": [
          "Normal",
          "Obesity_I",
          "Obesity_II",
          "Obesity_III",
          "Overweight",
          "Underweight"
         ],
         "xaxis": "x",
         "y": [
          48,
          109,
          97,
          1,
          157,
          45
         ],
         "yaxis": "y"
        },
        {
         "alignmentgroup": "True",
         "hovertemplate": "Transport=Bike<br>Level=%{x}<br>Count=%{y}<extra></extra>",
         "legendgroup": "Bike",
         "marker": {
          "color": "#EF553B",
          "pattern": {
           "shape": ""
          }
         },
         "name": "Bike",
         "offsetgroup": "Bike",
         "orientation": "v",
         "showlegend": true,
         "textposition": "auto",
         "type": "bar",
         "x": [
          "Normal",
          "Obesity_II",
          "Overweight"
         ],
         "xaxis": "x",
         "y": [
          4,
          1,
          2
         ],
         "yaxis": "y"
        },
        {
         "alignmentgroup": "True",
         "hovertemplate": "Transport=Motorbike<br>Level=%{x}<br>Count=%{y}<extra></extra>",
         "legendgroup": "Motorbike",
         "marker": {
          "color": "#00cc96",
          "pattern": {
           "shape": ""
          }
         },
         "name": "Motorbike",
         "offsetgroup": "Motorbike",
         "orientation": "v",
         "showlegend": true,
         "textposition": "auto",
         "type": "bar",
         "x": [
          "Normal",
          "Obesity_I",
          "Overweight"
         ],
         "xaxis": "x",
         "y": [
          6,
          3,
          2
         ],
         "yaxis": "y"
        },
        {
         "alignmentgroup": "True",
         "hovertemplate": "Transport=Public_Transportation<br>Level=%{x}<br>Count=%{y}<extra></extra>",
         "legendgroup": "Public_Transportation",
         "marker": {
          "color": "#ab63fa",
          "pattern": {
           "shape": ""
          }
         },
         "name": "Public_Transportation",
         "offsetgroup": "Public_Transportation",
         "orientation": "v",
         "showlegend": true,
         "textposition": "auto",
         "type": "bar",
         "x": [
          "Normal",
          "Obesity_I",
          "Obesity_II",
          "Obesity_III",
          "Overweight",
          "Underweight"
         ],
         "xaxis": "x",
         "y": [
          206,
          255,
          238,
          270,
          391,
          217
         ],
         "yaxis": "y"
        },
        {
         "alignmentgroup": "True",
         "hovertemplate": "Transport=Walking<br>Level=%{x}<br>Count=%{y}<extra></extra>",
         "legendgroup": "Walking",
         "marker": {
          "color": "#FFA15A",
          "pattern": {
           "shape": ""
          }
         },
         "name": "Walking",
         "offsetgroup": "Walking",
         "orientation": "v",
         "showlegend": true,
         "textposition": "auto",
         "type": "bar",
         "x": [
          "Normal",
          "Obesity_I",
          "Obesity_II",
          "Overweight",
          "Underweight"
         ],
         "xaxis": "x",
         "y": [
          32,
          3,
          1,
          14,
          5
         ],
         "yaxis": "y"
        }
       ],
       "layout": {
        "barmode": "relative",
        "legend": {
         "title": {
          "text": "Transport"
         },
         "tracegroupgap": 0
        },
        "margin": {
         "t": 60
        },
        "template": {
         "data": {
          "bar": [
           {
            "error_x": {
             "color": "#2a3f5f"
            },
            "error_y": {
             "color": "#2a3f5f"
            },
            "marker": {
             "line": {
              "color": "#E5ECF6",
              "width": 0.5
             },
             "pattern": {
              "fillmode": "overlay",
              "size": 10,
              "solidity": 0.2
             }
            },
            "type": "bar"
           }
          ],
          "barpolar": [
           {
            "marker": {
             "line": {
              "color": "#E5ECF6",
              "width": 0.5
             },
             "pattern": {
              "fillmode": "overlay",
              "size": 10,
              "solidity": 0.2
             }
            },
            "type": "barpolar"
           }
          ],
          "carpet": [
           {
            "aaxis": {
             "endlinecolor": "#2a3f5f",
             "gridcolor": "white",
             "linecolor": "white",
             "minorgridcolor": "white",
             "startlinecolor": "#2a3f5f"
            },
            "baxis": {
             "endlinecolor": "#2a3f5f",
             "gridcolor": "white",
             "linecolor": "white",
             "minorgridcolor": "white",
             "startlinecolor": "#2a3f5f"
            },
            "type": "carpet"
           }
          ],
          "choropleth": [
           {
            "colorbar": {
             "outlinewidth": 0,
             "ticks": ""
            },
            "type": "choropleth"
           }
          ],
          "contour": [
           {
            "colorbar": {
             "outlinewidth": 0,
             "ticks": ""
            },
            "colorscale": [
             [
              0,
              "#0d0887"
             ],
             [
              0.1111111111111111,
              "#46039f"
             ],
             [
              0.2222222222222222,
              "#7201a8"
             ],
             [
              0.3333333333333333,
              "#9c179e"
             ],
             [
              0.4444444444444444,
              "#bd3786"
             ],
             [
              0.5555555555555556,
              "#d8576b"
             ],
             [
              0.6666666666666666,
              "#ed7953"
             ],
             [
              0.7777777777777778,
              "#fb9f3a"
             ],
             [
              0.8888888888888888,
              "#fdca26"
             ],
             [
              1,
              "#f0f921"
             ]
            ],
            "type": "contour"
           }
          ],
          "contourcarpet": [
           {
            "colorbar": {
             "outlinewidth": 0,
             "ticks": ""
            },
            "type": "contourcarpet"
           }
          ],
          "heatmap": [
           {
            "colorbar": {
             "outlinewidth": 0,
             "ticks": ""
            },
            "colorscale": [
             [
              0,
              "#0d0887"
             ],
             [
              0.1111111111111111,
              "#46039f"
             ],
             [
              0.2222222222222222,
              "#7201a8"
             ],
             [
              0.3333333333333333,
              "#9c179e"
             ],
             [
              0.4444444444444444,
              "#bd3786"
             ],
             [
              0.5555555555555556,
              "#d8576b"
             ],
             [
              0.6666666666666666,
              "#ed7953"
             ],
             [
              0.7777777777777778,
              "#fb9f3a"
             ],
             [
              0.8888888888888888,
              "#fdca26"
             ],
             [
              1,
              "#f0f921"
             ]
            ],
            "type": "heatmap"
           }
          ],
          "heatmapgl": [
           {
            "colorbar": {
             "outlinewidth": 0,
             "ticks": ""
            },
            "colorscale": [
             [
              0,
              "#0d0887"
             ],
             [
              0.1111111111111111,
              "#46039f"
             ],
             [
              0.2222222222222222,
              "#7201a8"
             ],
             [
              0.3333333333333333,
              "#9c179e"
             ],
             [
              0.4444444444444444,
              "#bd3786"
             ],
             [
              0.5555555555555556,
              "#d8576b"
             ],
             [
              0.6666666666666666,
              "#ed7953"
             ],
             [
              0.7777777777777778,
              "#fb9f3a"
             ],
             [
              0.8888888888888888,
              "#fdca26"
             ],
             [
              1,
              "#f0f921"
             ]
            ],
            "type": "heatmapgl"
           }
          ],
          "histogram": [
           {
            "marker": {
             "pattern": {
              "fillmode": "overlay",
              "size": 10,
              "solidity": 0.2
             }
            },
            "type": "histogram"
           }
          ],
          "histogram2d": [
           {
            "colorbar": {
             "outlinewidth": 0,
             "ticks": ""
            },
            "colorscale": [
             [
              0,
              "#0d0887"
             ],
             [
              0.1111111111111111,
              "#46039f"
             ],
             [
              0.2222222222222222,
              "#7201a8"
             ],
             [
              0.3333333333333333,
              "#9c179e"
             ],
             [
              0.4444444444444444,
              "#bd3786"
             ],
             [
              0.5555555555555556,
              "#d8576b"
             ],
             [
              0.6666666666666666,
              "#ed7953"
             ],
             [
              0.7777777777777778,
              "#fb9f3a"
             ],
             [
              0.8888888888888888,
              "#fdca26"
             ],
             [
              1,
              "#f0f921"
             ]
            ],
            "type": "histogram2d"
           }
          ],
          "histogram2dcontour": [
           {
            "colorbar": {
             "outlinewidth": 0,
             "ticks": ""
            },
            "colorscale": [
             [
              0,
              "#0d0887"
             ],
             [
              0.1111111111111111,
              "#46039f"
             ],
             [
              0.2222222222222222,
              "#7201a8"
             ],
             [
              0.3333333333333333,
              "#9c179e"
             ],
             [
              0.4444444444444444,
              "#bd3786"
             ],
             [
              0.5555555555555556,
              "#d8576b"
             ],
             [
              0.6666666666666666,
              "#ed7953"
             ],
             [
              0.7777777777777778,
              "#fb9f3a"
             ],
             [
              0.8888888888888888,
              "#fdca26"
             ],
             [
              1,
              "#f0f921"
             ]
            ],
            "type": "histogram2dcontour"
           }
          ],
          "mesh3d": [
           {
            "colorbar": {
             "outlinewidth": 0,
             "ticks": ""
            },
            "type": "mesh3d"
           }
          ],
          "parcoords": [
           {
            "line": {
             "colorbar": {
              "outlinewidth": 0,
              "ticks": ""
             }
            },
            "type": "parcoords"
           }
          ],
          "pie": [
           {
            "automargin": true,
            "type": "pie"
           }
          ],
          "scatter": [
           {
            "fillpattern": {
             "fillmode": "overlay",
             "size": 10,
             "solidity": 0.2
            },
            "type": "scatter"
           }
          ],
          "scatter3d": [
           {
            "line": {
             "colorbar": {
              "outlinewidth": 0,
              "ticks": ""
             }
            },
            "marker": {
             "colorbar": {
              "outlinewidth": 0,
              "ticks": ""
             }
            },
            "type": "scatter3d"
           }
          ],
          "scattercarpet": [
           {
            "marker": {
             "colorbar": {
              "outlinewidth": 0,
              "ticks": ""
             }
            },
            "type": "scattercarpet"
           }
          ],
          "scattergeo": [
           {
            "marker": {
             "colorbar": {
              "outlinewidth": 0,
              "ticks": ""
             }
            },
            "type": "scattergeo"
           }
          ],
          "scattergl": [
           {
            "marker": {
             "colorbar": {
              "outlinewidth": 0,
              "ticks": ""
             }
            },
            "type": "scattergl"
           }
          ],
          "scattermapbox": [
           {
            "marker": {
             "colorbar": {
              "outlinewidth": 0,
              "ticks": ""
             }
            },
            "type": "scattermapbox"
           }
          ],
          "scatterpolar": [
           {
            "marker": {
             "colorbar": {
              "outlinewidth": 0,
              "ticks": ""
             }
            },
            "type": "scatterpolar"
           }
          ],
          "scatterpolargl": [
           {
            "marker": {
             "colorbar": {
              "outlinewidth": 0,
              "ticks": ""
             }
            },
            "type": "scatterpolargl"
           }
          ],
          "scatterternary": [
           {
            "marker": {
             "colorbar": {
              "outlinewidth": 0,
              "ticks": ""
             }
            },
            "type": "scatterternary"
           }
          ],
          "surface": [
           {
            "colorbar": {
             "outlinewidth": 0,
             "ticks": ""
            },
            "colorscale": [
             [
              0,
              "#0d0887"
             ],
             [
              0.1111111111111111,
              "#46039f"
             ],
             [
              0.2222222222222222,
              "#7201a8"
             ],
             [
              0.3333333333333333,
              "#9c179e"
             ],
             [
              0.4444444444444444,
              "#bd3786"
             ],
             [
              0.5555555555555556,
              "#d8576b"
             ],
             [
              0.6666666666666666,
              "#ed7953"
             ],
             [
              0.7777777777777778,
              "#fb9f3a"
             ],
             [
              0.8888888888888888,
              "#fdca26"
             ],
             [
              1,
              "#f0f921"
             ]
            ],
            "type": "surface"
           }
          ],
          "table": [
           {
            "cells": {
             "fill": {
              "color": "#EBF0F8"
             },
             "line": {
              "color": "white"
             }
            },
            "header": {
             "fill": {
              "color": "#C8D4E3"
             },
             "line": {
              "color": "white"
             }
            },
            "type": "table"
           }
          ]
         },
         "layout": {
          "annotationdefaults": {
           "arrowcolor": "#2a3f5f",
           "arrowhead": 0,
           "arrowwidth": 1
          },
          "autotypenumbers": "strict",
          "coloraxis": {
           "colorbar": {
            "outlinewidth": 0,
            "ticks": ""
           }
          },
          "colorscale": {
           "diverging": [
            [
             0,
             "#8e0152"
            ],
            [
             0.1,
             "#c51b7d"
            ],
            [
             0.2,
             "#de77ae"
            ],
            [
             0.3,
             "#f1b6da"
            ],
            [
             0.4,
             "#fde0ef"
            ],
            [
             0.5,
             "#f7f7f7"
            ],
            [
             0.6,
             "#e6f5d0"
            ],
            [
             0.7,
             "#b8e186"
            ],
            [
             0.8,
             "#7fbc41"
            ],
            [
             0.9,
             "#4d9221"
            ],
            [
             1,
             "#276419"
            ]
           ],
           "sequential": [
            [
             0,
             "#0d0887"
            ],
            [
             0.1111111111111111,
             "#46039f"
            ],
            [
             0.2222222222222222,
             "#7201a8"
            ],
            [
             0.3333333333333333,
             "#9c179e"
            ],
            [
             0.4444444444444444,
             "#bd3786"
            ],
            [
             0.5555555555555556,
             "#d8576b"
            ],
            [
             0.6666666666666666,
             "#ed7953"
            ],
            [
             0.7777777777777778,
             "#fb9f3a"
            ],
            [
             0.8888888888888888,
             "#fdca26"
            ],
            [
             1,
             "#f0f921"
            ]
           ],
           "sequentialminus": [
            [
             0,
             "#0d0887"
            ],
            [
             0.1111111111111111,
             "#46039f"
            ],
            [
             0.2222222222222222,
             "#7201a8"
            ],
            [
             0.3333333333333333,
             "#9c179e"
            ],
            [
             0.4444444444444444,
             "#bd3786"
            ],
            [
             0.5555555555555556,
             "#d8576b"
            ],
            [
             0.6666666666666666,
             "#ed7953"
            ],
            [
             0.7777777777777778,
             "#fb9f3a"
            ],
            [
             0.8888888888888888,
             "#fdca26"
            ],
            [
             1,
             "#f0f921"
            ]
           ]
          },
          "colorway": [
           "#636efa",
           "#EF553B",
           "#00cc96",
           "#ab63fa",
           "#FFA15A",
           "#19d3f3",
           "#FF6692",
           "#B6E880",
           "#FF97FF",
           "#FECB52"
          ],
          "font": {
           "color": "#2a3f5f"
          },
          "geo": {
           "bgcolor": "white",
           "lakecolor": "white",
           "landcolor": "#E5ECF6",
           "showlakes": true,
           "showland": true,
           "subunitcolor": "white"
          },
          "hoverlabel": {
           "align": "left"
          },
          "hovermode": "closest",
          "mapbox": {
           "style": "light"
          },
          "paper_bgcolor": "white",
          "plot_bgcolor": "#E5ECF6",
          "polar": {
           "angularaxis": {
            "gridcolor": "white",
            "linecolor": "white",
            "ticks": ""
           },
           "bgcolor": "#E5ECF6",
           "radialaxis": {
            "gridcolor": "white",
            "linecolor": "white",
            "ticks": ""
           }
          },
          "scene": {
           "xaxis": {
            "backgroundcolor": "#E5ECF6",
            "gridcolor": "white",
            "gridwidth": 2,
            "linecolor": "white",
            "showbackground": true,
            "ticks": "",
            "zerolinecolor": "white"
           },
           "yaxis": {
            "backgroundcolor": "#E5ECF6",
            "gridcolor": "white",
            "gridwidth": 2,
            "linecolor": "white",
            "showbackground": true,
            "ticks": "",
            "zerolinecolor": "white"
           },
           "zaxis": {
            "backgroundcolor": "#E5ECF6",
            "gridcolor": "white",
            "gridwidth": 2,
            "linecolor": "white",
            "showbackground": true,
            "ticks": "",
            "zerolinecolor": "white"
           }
          },
          "shapedefaults": {
           "line": {
            "color": "#2a3f5f"
           }
          },
          "ternary": {
           "aaxis": {
            "gridcolor": "white",
            "linecolor": "white",
            "ticks": ""
           },
           "baxis": {
            "gridcolor": "white",
            "linecolor": "white",
            "ticks": ""
           },
           "bgcolor": "#E5ECF6",
           "caxis": {
            "gridcolor": "white",
            "linecolor": "white",
            "ticks": ""
           }
          },
          "title": {
           "x": 0.05
          },
          "xaxis": {
           "automargin": true,
           "gridcolor": "white",
           "linecolor": "white",
           "ticks": "",
           "title": {
            "standoff": 15
           },
           "zerolinecolor": "white",
           "zerolinewidth": 2
          },
          "yaxis": {
           "automargin": true,
           "gridcolor": "white",
           "linecolor": "white",
           "ticks": "",
           "title": {
            "standoff": 15
           },
           "zerolinecolor": "white",
           "zerolinewidth": 2
          }
         }
        },
        "xaxis": {
         "anchor": "y",
         "categoryarray": [
          "Underweight",
          "Normal",
          "Overweight",
          "Obesity_I",
          "Obesity_II",
          "Obesity_III"
         ],
         "categoryorder": "array",
         "domain": [
          0,
          1
         ],
         "title": {
          "text": "Level"
         }
        },
        "yaxis": {
         "anchor": "x",
         "domain": [
          0,
          1
         ],
         "title": {
          "text": "Count"
         }
        }
       }
      }
     },
     "metadata": {},
     "output_type": "display_data"
    }
   ],
   "source": [
    "fig = px.bar(dfv1, x='Level', y='Count', color = 'Transport')\n",
    "\n",
    "fig.update_xaxes(categoryorder='array', categoryarray= ['Underweight', 'Normal', 'Overweight', 'Obesity_I', 'Obesity_II', 'Obesity_III'])\n",
    "fig.show()"
   ]
  },
  {
   "cell_type": "code",
   "execution_count": 16,
   "metadata": {},
   "outputs": [
    {
     "data": {
      "application/vnd.plotly.v1+json": {
       "config": {
        "plotlyServerURL": "https://plot.ly"
       },
       "data": [
        {
         "alignmentgroup": "True",
         "hovertemplate": "FAVC=no<br>Level=%{x}<br>Count=%{y}<extra></extra>",
         "legendgroup": "no",
         "marker": {
          "color": "#636efa",
          "pattern": {
           "shape": ""
          }
         },
         "name": "no",
         "offsetgroup": "no",
         "orientation": "v",
         "showlegend": true,
         "textposition": "auto",
         "type": "bar",
         "x": [
          "Normal",
          "Obesity_I",
          "Obesity_II",
          "Obesity_III",
          "Overweight",
          "Underweight"
         ],
         "xaxis": "x",
         "y": [
          78,
          15,
          7,
          1,
          92,
          52
         ],
         "yaxis": "y"
        },
        {
         "alignmentgroup": "True",
         "hovertemplate": "FAVC=yes<br>Level=%{x}<br>Count=%{y}<extra></extra>",
         "legendgroup": "yes",
         "marker": {
          "color": "#EF553B",
          "pattern": {
           "shape": ""
          }
         },
         "name": "yes",
         "offsetgroup": "yes",
         "orientation": "v",
         "showlegend": true,
         "textposition": "auto",
         "type": "bar",
         "x": [
          "Normal",
          "Obesity_I",
          "Obesity_II",
          "Obesity_III",
          "Overweight",
          "Underweight"
         ],
         "xaxis": "x",
         "y": [
          218,
          355,
          330,
          270,
          474,
          215
         ],
         "yaxis": "y"
        }
       ],
       "layout": {
        "barmode": "relative",
        "legend": {
         "title": {
          "text": "FAVC"
         },
         "tracegroupgap": 0
        },
        "margin": {
         "t": 60
        },
        "template": {
         "data": {
          "bar": [
           {
            "error_x": {
             "color": "#2a3f5f"
            },
            "error_y": {
             "color": "#2a3f5f"
            },
            "marker": {
             "line": {
              "color": "#E5ECF6",
              "width": 0.5
             },
             "pattern": {
              "fillmode": "overlay",
              "size": 10,
              "solidity": 0.2
             }
            },
            "type": "bar"
           }
          ],
          "barpolar": [
           {
            "marker": {
             "line": {
              "color": "#E5ECF6",
              "width": 0.5
             },
             "pattern": {
              "fillmode": "overlay",
              "size": 10,
              "solidity": 0.2
             }
            },
            "type": "barpolar"
           }
          ],
          "carpet": [
           {
            "aaxis": {
             "endlinecolor": "#2a3f5f",
             "gridcolor": "white",
             "linecolor": "white",
             "minorgridcolor": "white",
             "startlinecolor": "#2a3f5f"
            },
            "baxis": {
             "endlinecolor": "#2a3f5f",
             "gridcolor": "white",
             "linecolor": "white",
             "minorgridcolor": "white",
             "startlinecolor": "#2a3f5f"
            },
            "type": "carpet"
           }
          ],
          "choropleth": [
           {
            "colorbar": {
             "outlinewidth": 0,
             "ticks": ""
            },
            "type": "choropleth"
           }
          ],
          "contour": [
           {
            "colorbar": {
             "outlinewidth": 0,
             "ticks": ""
            },
            "colorscale": [
             [
              0,
              "#0d0887"
             ],
             [
              0.1111111111111111,
              "#46039f"
             ],
             [
              0.2222222222222222,
              "#7201a8"
             ],
             [
              0.3333333333333333,
              "#9c179e"
             ],
             [
              0.4444444444444444,
              "#bd3786"
             ],
             [
              0.5555555555555556,
              "#d8576b"
             ],
             [
              0.6666666666666666,
              "#ed7953"
             ],
             [
              0.7777777777777778,
              "#fb9f3a"
             ],
             [
              0.8888888888888888,
              "#fdca26"
             ],
             [
              1,
              "#f0f921"
             ]
            ],
            "type": "contour"
           }
          ],
          "contourcarpet": [
           {
            "colorbar": {
             "outlinewidth": 0,
             "ticks": ""
            },
            "type": "contourcarpet"
           }
          ],
          "heatmap": [
           {
            "colorbar": {
             "outlinewidth": 0,
             "ticks": ""
            },
            "colorscale": [
             [
              0,
              "#0d0887"
             ],
             [
              0.1111111111111111,
              "#46039f"
             ],
             [
              0.2222222222222222,
              "#7201a8"
             ],
             [
              0.3333333333333333,
              "#9c179e"
             ],
             [
              0.4444444444444444,
              "#bd3786"
             ],
             [
              0.5555555555555556,
              "#d8576b"
             ],
             [
              0.6666666666666666,
              "#ed7953"
             ],
             [
              0.7777777777777778,
              "#fb9f3a"
             ],
             [
              0.8888888888888888,
              "#fdca26"
             ],
             [
              1,
              "#f0f921"
             ]
            ],
            "type": "heatmap"
           }
          ],
          "heatmapgl": [
           {
            "colorbar": {
             "outlinewidth": 0,
             "ticks": ""
            },
            "colorscale": [
             [
              0,
              "#0d0887"
             ],
             [
              0.1111111111111111,
              "#46039f"
             ],
             [
              0.2222222222222222,
              "#7201a8"
             ],
             [
              0.3333333333333333,
              "#9c179e"
             ],
             [
              0.4444444444444444,
              "#bd3786"
             ],
             [
              0.5555555555555556,
              "#d8576b"
             ],
             [
              0.6666666666666666,
              "#ed7953"
             ],
             [
              0.7777777777777778,
              "#fb9f3a"
             ],
             [
              0.8888888888888888,
              "#fdca26"
             ],
             [
              1,
              "#f0f921"
             ]
            ],
            "type": "heatmapgl"
           }
          ],
          "histogram": [
           {
            "marker": {
             "pattern": {
              "fillmode": "overlay",
              "size": 10,
              "solidity": 0.2
             }
            },
            "type": "histogram"
           }
          ],
          "histogram2d": [
           {
            "colorbar": {
             "outlinewidth": 0,
             "ticks": ""
            },
            "colorscale": [
             [
              0,
              "#0d0887"
             ],
             [
              0.1111111111111111,
              "#46039f"
             ],
             [
              0.2222222222222222,
              "#7201a8"
             ],
             [
              0.3333333333333333,
              "#9c179e"
             ],
             [
              0.4444444444444444,
              "#bd3786"
             ],
             [
              0.5555555555555556,
              "#d8576b"
             ],
             [
              0.6666666666666666,
              "#ed7953"
             ],
             [
              0.7777777777777778,
              "#fb9f3a"
             ],
             [
              0.8888888888888888,
              "#fdca26"
             ],
             [
              1,
              "#f0f921"
             ]
            ],
            "type": "histogram2d"
           }
          ],
          "histogram2dcontour": [
           {
            "colorbar": {
             "outlinewidth": 0,
             "ticks": ""
            },
            "colorscale": [
             [
              0,
              "#0d0887"
             ],
             [
              0.1111111111111111,
              "#46039f"
             ],
             [
              0.2222222222222222,
              "#7201a8"
             ],
             [
              0.3333333333333333,
              "#9c179e"
             ],
             [
              0.4444444444444444,
              "#bd3786"
             ],
             [
              0.5555555555555556,
              "#d8576b"
             ],
             [
              0.6666666666666666,
              "#ed7953"
             ],
             [
              0.7777777777777778,
              "#fb9f3a"
             ],
             [
              0.8888888888888888,
              "#fdca26"
             ],
             [
              1,
              "#f0f921"
             ]
            ],
            "type": "histogram2dcontour"
           }
          ],
          "mesh3d": [
           {
            "colorbar": {
             "outlinewidth": 0,
             "ticks": ""
            },
            "type": "mesh3d"
           }
          ],
          "parcoords": [
           {
            "line": {
             "colorbar": {
              "outlinewidth": 0,
              "ticks": ""
             }
            },
            "type": "parcoords"
           }
          ],
          "pie": [
           {
            "automargin": true,
            "type": "pie"
           }
          ],
          "scatter": [
           {
            "fillpattern": {
             "fillmode": "overlay",
             "size": 10,
             "solidity": 0.2
            },
            "type": "scatter"
           }
          ],
          "scatter3d": [
           {
            "line": {
             "colorbar": {
              "outlinewidth": 0,
              "ticks": ""
             }
            },
            "marker": {
             "colorbar": {
              "outlinewidth": 0,
              "ticks": ""
             }
            },
            "type": "scatter3d"
           }
          ],
          "scattercarpet": [
           {
            "marker": {
             "colorbar": {
              "outlinewidth": 0,
              "ticks": ""
             }
            },
            "type": "scattercarpet"
           }
          ],
          "scattergeo": [
           {
            "marker": {
             "colorbar": {
              "outlinewidth": 0,
              "ticks": ""
             }
            },
            "type": "scattergeo"
           }
          ],
          "scattergl": [
           {
            "marker": {
             "colorbar": {
              "outlinewidth": 0,
              "ticks": ""
             }
            },
            "type": "scattergl"
           }
          ],
          "scattermapbox": [
           {
            "marker": {
             "colorbar": {
              "outlinewidth": 0,
              "ticks": ""
             }
            },
            "type": "scattermapbox"
           }
          ],
          "scatterpolar": [
           {
            "marker": {
             "colorbar": {
              "outlinewidth": 0,
              "ticks": ""
             }
            },
            "type": "scatterpolar"
           }
          ],
          "scatterpolargl": [
           {
            "marker": {
             "colorbar": {
              "outlinewidth": 0,
              "ticks": ""
             }
            },
            "type": "scatterpolargl"
           }
          ],
          "scatterternary": [
           {
            "marker": {
             "colorbar": {
              "outlinewidth": 0,
              "ticks": ""
             }
            },
            "type": "scatterternary"
           }
          ],
          "surface": [
           {
            "colorbar": {
             "outlinewidth": 0,
             "ticks": ""
            },
            "colorscale": [
             [
              0,
              "#0d0887"
             ],
             [
              0.1111111111111111,
              "#46039f"
             ],
             [
              0.2222222222222222,
              "#7201a8"
             ],
             [
              0.3333333333333333,
              "#9c179e"
             ],
             [
              0.4444444444444444,
              "#bd3786"
             ],
             [
              0.5555555555555556,
              "#d8576b"
             ],
             [
              0.6666666666666666,
              "#ed7953"
             ],
             [
              0.7777777777777778,
              "#fb9f3a"
             ],
             [
              0.8888888888888888,
              "#fdca26"
             ],
             [
              1,
              "#f0f921"
             ]
            ],
            "type": "surface"
           }
          ],
          "table": [
           {
            "cells": {
             "fill": {
              "color": "#EBF0F8"
             },
             "line": {
              "color": "white"
             }
            },
            "header": {
             "fill": {
              "color": "#C8D4E3"
             },
             "line": {
              "color": "white"
             }
            },
            "type": "table"
           }
          ]
         },
         "layout": {
          "annotationdefaults": {
           "arrowcolor": "#2a3f5f",
           "arrowhead": 0,
           "arrowwidth": 1
          },
          "autotypenumbers": "strict",
          "coloraxis": {
           "colorbar": {
            "outlinewidth": 0,
            "ticks": ""
           }
          },
          "colorscale": {
           "diverging": [
            [
             0,
             "#8e0152"
            ],
            [
             0.1,
             "#c51b7d"
            ],
            [
             0.2,
             "#de77ae"
            ],
            [
             0.3,
             "#f1b6da"
            ],
            [
             0.4,
             "#fde0ef"
            ],
            [
             0.5,
             "#f7f7f7"
            ],
            [
             0.6,
             "#e6f5d0"
            ],
            [
             0.7,
             "#b8e186"
            ],
            [
             0.8,
             "#7fbc41"
            ],
            [
             0.9,
             "#4d9221"
            ],
            [
             1,
             "#276419"
            ]
           ],
           "sequential": [
            [
             0,
             "#0d0887"
            ],
            [
             0.1111111111111111,
             "#46039f"
            ],
            [
             0.2222222222222222,
             "#7201a8"
            ],
            [
             0.3333333333333333,
             "#9c179e"
            ],
            [
             0.4444444444444444,
             "#bd3786"
            ],
            [
             0.5555555555555556,
             "#d8576b"
            ],
            [
             0.6666666666666666,
             "#ed7953"
            ],
            [
             0.7777777777777778,
             "#fb9f3a"
            ],
            [
             0.8888888888888888,
             "#fdca26"
            ],
            [
             1,
             "#f0f921"
            ]
           ],
           "sequentialminus": [
            [
             0,
             "#0d0887"
            ],
            [
             0.1111111111111111,
             "#46039f"
            ],
            [
             0.2222222222222222,
             "#7201a8"
            ],
            [
             0.3333333333333333,
             "#9c179e"
            ],
            [
             0.4444444444444444,
             "#bd3786"
            ],
            [
             0.5555555555555556,
             "#d8576b"
            ],
            [
             0.6666666666666666,
             "#ed7953"
            ],
            [
             0.7777777777777778,
             "#fb9f3a"
            ],
            [
             0.8888888888888888,
             "#fdca26"
            ],
            [
             1,
             "#f0f921"
            ]
           ]
          },
          "colorway": [
           "#636efa",
           "#EF553B",
           "#00cc96",
           "#ab63fa",
           "#FFA15A",
           "#19d3f3",
           "#FF6692",
           "#B6E880",
           "#FF97FF",
           "#FECB52"
          ],
          "font": {
           "color": "#2a3f5f"
          },
          "geo": {
           "bgcolor": "white",
           "lakecolor": "white",
           "landcolor": "#E5ECF6",
           "showlakes": true,
           "showland": true,
           "subunitcolor": "white"
          },
          "hoverlabel": {
           "align": "left"
          },
          "hovermode": "closest",
          "mapbox": {
           "style": "light"
          },
          "paper_bgcolor": "white",
          "plot_bgcolor": "#E5ECF6",
          "polar": {
           "angularaxis": {
            "gridcolor": "white",
            "linecolor": "white",
            "ticks": ""
           },
           "bgcolor": "#E5ECF6",
           "radialaxis": {
            "gridcolor": "white",
            "linecolor": "white",
            "ticks": ""
           }
          },
          "scene": {
           "xaxis": {
            "backgroundcolor": "#E5ECF6",
            "gridcolor": "white",
            "gridwidth": 2,
            "linecolor": "white",
            "showbackground": true,
            "ticks": "",
            "zerolinecolor": "white"
           },
           "yaxis": {
            "backgroundcolor": "#E5ECF6",
            "gridcolor": "white",
            "gridwidth": 2,
            "linecolor": "white",
            "showbackground": true,
            "ticks": "",
            "zerolinecolor": "white"
           },
           "zaxis": {
            "backgroundcolor": "#E5ECF6",
            "gridcolor": "white",
            "gridwidth": 2,
            "linecolor": "white",
            "showbackground": true,
            "ticks": "",
            "zerolinecolor": "white"
           }
          },
          "shapedefaults": {
           "line": {
            "color": "#2a3f5f"
           }
          },
          "ternary": {
           "aaxis": {
            "gridcolor": "white",
            "linecolor": "white",
            "ticks": ""
           },
           "baxis": {
            "gridcolor": "white",
            "linecolor": "white",
            "ticks": ""
           },
           "bgcolor": "#E5ECF6",
           "caxis": {
            "gridcolor": "white",
            "linecolor": "white",
            "ticks": ""
           }
          },
          "title": {
           "x": 0.05
          },
          "xaxis": {
           "automargin": true,
           "gridcolor": "white",
           "linecolor": "white",
           "ticks": "",
           "title": {
            "standoff": 15
           },
           "zerolinecolor": "white",
           "zerolinewidth": 2
          },
          "yaxis": {
           "automargin": true,
           "gridcolor": "white",
           "linecolor": "white",
           "ticks": "",
           "title": {
            "standoff": 15
           },
           "zerolinecolor": "white",
           "zerolinewidth": 2
          }
         }
        },
        "xaxis": {
         "anchor": "y",
         "categoryarray": [
          "Underweight",
          "Normal",
          "Overweight",
          "Obesity_I",
          "Obesity_II",
          "Obesity_III"
         ],
         "categoryorder": "array",
         "domain": [
          0,
          1
         ],
         "title": {
          "text": "Level"
         }
        },
        "yaxis": {
         "anchor": "x",
         "domain": [
          0,
          1
         ],
         "title": {
          "text": "Count"
         }
        }
       }
      }
     },
     "metadata": {},
     "output_type": "display_data"
    }
   ],
   "source": [
    "# Frequent consumption of high caloric food\n",
    "\n",
    "dfv2 = df.groupby(['Level', 'FAVC'])['Gender'].count().reset_index()\n",
    "dfv2.columns = ['Level', 'FAVC', 'Count']\n",
    "fig = px.bar(dfv2, x='Level', y='Count', color = 'FAVC')\n",
    "\n",
    "fig.update_xaxes(categoryorder='array', categoryarray= ['Underweight', 'Normal', 'Overweight', 'Obesity_I', 'Obesity_II', 'Obesity_III'])\n",
    "fig.show()\n"
   ]
  },
  {
   "cell_type": "code",
   "execution_count": 17,
   "metadata": {},
   "outputs": [
    {
     "data": {
      "application/vnd.plotly.v1+json": {
       "config": {
        "plotlyServerURL": "https://plot.ly"
       },
       "data": [
        {
         "alignmentgroup": "True",
         "hovertemplate": "Level=%{x}<br>Count=%{y}<br>FCVC=%{marker.color}<extra></extra>",
         "legendgroup": "",
         "marker": {
          "color": [
           1,
           1.75375,
           1.773265,
           1.836554,
           1.972545,
           2,
           2.059138,
           2.388168,
           2.39728,
           2.568063,
           3,
           1,
           1.00876,
           1.036159,
           1.063449,
           1.081585,
           1.123672,
           1.164062,
           1.203754,
           1.220024,
           1.261288,
           1.276858,
           1.3307,
           1.362441,
           1.368978,
           1.492834,
           1.518966,
           1.524428,
           1.557287,
           1.70825,
           1.712848,
           1.754401,
           1.826885,
           1.851262,
           1.853314,
           1.880534,
           1.897796,
           1.899793,
           1.918251,
           1.961069,
           1.967061,
           1.996638,
           2,
           2.002564,
           2.014194,
           2.020502,
           2.020785,
           2.02091,
           2.025479,
           2.028225,
           2.028571,
           2.031185,
           2.036613,
           2.037585,
           2.043359,
           2.044326,
           2.04516,
           2.048962,
           2.049112,
           2.055209,
           2.058687,
           2.060922,
           2.061969,
           2.069267,
           2.071622,
           2.074843,
           2.078082,
           2.081238,
           2.08841,
           2.094184,
           2.09663,
           2.103335,
           2.104772,
           2.107854,
           2.108163,
           2.121909,
           2.123159,
           2.128574,
           2.129969,
           2.13683,
           2.14128,
           2.150054,
           2.152264,
           2.177243,
           2.180047,
           2.186322,
           2.19011,
           2.21498,
           2.222282,
           2.247795,
           2.252653,
           2.252698,
           2.253707,
           2.259679,
           2.260543,
           2.262171,
           2.271306,
           2.274164,
           2.274491,
           2.282803,
           2.290095,
           2.312825,
           2.319648,
           2.33361,
           2.334474,
           2.340405,
           2.348745,
           2.385502,
           2.387426,
           2.393837,
           2.396265,
           2.39728,
           2.407817,
           2.408561,
           2.423291,
           2.4277,
           2.443538,
           2.450784,
           2.457547,
           2.465575,
           2.467002,
           2.482575,
           2.490507,
           2.490776,
           2.496455,
           2.501224,
           2.501236,
           2.522183,
           2.533605,
           2.540949,
           2.569075,
           2.587789,
           2.607747,
           2.609123,
           2.630137,
           2.640801,
           2.642744,
           2.663866,
           2.667676,
           2.66889,
           2.685484,
           2.693859,
           2.699282,
           2.722161,
           2.736628,
           2.73691,
           2.737149,
           2.740633,
           2.76533,
           2.76632,
           2.772027,
           2.787589,
           2.805512,
           2.805533,
           2.808027,
           2.81646,
           2.818502,
           2.819934,
           2.836055,
           2.843456,
           2.845961,
           2.846452,
           2.85916,
           2.864776,
           2.870152,
           2.871137,
           2.871768,
           2.87599,
           2.902469,
           2.903545,
           2.909853,
           2.921225,
           2.921576,
           2.92711,
           2.928234,
           2.934671,
           2.949242,
           2.954417,
           2.954996,
           2.964419,
           2.972426,
           2.976509,
           2.977585,
           2.983851,
           3,
           1,
           1.067909,
           1.108663,
           1.168856,
           1.263216,
           1.264234,
           1.289315,
           1.369529,
           1.387489,
           1.392665,
           1.397468,
           1.412566,
           1.428289,
           1.431346,
           1.443674,
           1.451337,
           1.455602,
           1.457758,
           1.469384,
           1.475906,
           1.482722,
           1.517912,
           1.528331,
           1.537505,
           1.562804,
           1.572036,
           1.585183,
           1.588114,
           1.617093,
           1.624366,
           1.626369,
           1.631144,
           1.655684,
           1.735664,
           1.750809,
           1.760038,
           1.794825,
           1.800122,
           1.84199,
           1.868212,
           1.878251,
           1.893428,
           1.924632,
           1.947495,
           1.975675,
           1.99124,
           1.992889,
           1.994679,
           1.996646,
           1.99953,
           2,
           2.002076,
           2.002784,
           2.007845,
           2.008245,
           2.01695,
           2.02472,
           2.032883,
           2.037042,
           2.041376,
           2.046651,
           2.050619,
           2.05687,
           2.065752,
           2.068834,
           2.073224,
           2.075321,
           2.08868,
           2.09283,
           2.100177,
           2.108638,
           2.111887,
           2.113843,
           2.117121,
           2.133964,
           2.13683,
           2.139196,
           2.145114,
           2.14961,
           2.151335,
           2.155182,
           2.159033,
           2.175276,
           2.176317,
           2.177896,
           2.178308,
           2.181057,
           2.18354,
           2.191108,
           2.191429,
           2.19331,
           2.195964,
           2.197261,
           2.200588,
           2.203962,
           2.206119,
           2.206276,
           2.218599,
           2.219186,
           2.21965,
           2.22259,
           2.225149,
           2.225731,
           2.230742,
           2.232836,
           2.23372,
           2.239634,
           2.240757,
           2.244654,
           2.247037,
           2.252382,
           2.262292,
           2.263245,
           2.281963,
           2.294259,
           2.303041,
           2.305349,
           2.310751,
           2.312528,
           2.314175,
           2.317459,
           2.317734,
           2.320201,
           2.323003,
           2.323351,
           2.328469,
           2.341999,
           2.347942,
           2.381164,
           2.382705,
           2.392179,
           2.397284,
           2.403421,
           2.425503,
           2.432355,
           2.442536,
           2.467548,
           2.475892,
           2.487781,
           2.49619,
           2.497548,
           2.499108,
           2.499388,
           2.499626,
           2.519592,
           2.525884,
           2.535154,
           2.541785,
           2.549782,
           2.561638,
           2.562687,
           2.571274,
           2.576449,
           2.57649,
           2.57691,
           2.585942,
           2.591292,
           2.598207,
           2.600217,
           2.611222,
           2.611847,
           2.619987,
           2.630401,
           2.633855,
           2.636719,
           2.637202,
           2.644094,
           2.649406,
           2.653721,
           2.654076,
           2.654792,
           2.667229,
           2.668949,
           2.671238,
           2.679664,
           2.680375,
           2.684335,
           2.702457,
           2.723953,
           2.724121,
           2.72989,
           2.731368,
           2.736298,
           2.736647,
           2.739,
           2.744994,
           2.748971,
           2.754645,
           2.758394,
           2.765063,
           2.766441,
           2.766612,
           2.774562,
           2.777165,
           2.79166,
           2.795086,
           2.801992,
           2.813775,
           2.821727,
           2.826036,
           2.826251,
           2.859097,
           2.869778,
           2.869833,
           2.870895,
           2.871016,
           2.877743,
           2.880483,
           2.880759,
           2.885693,
           2.889485,
           2.906269,
           2.907542,
           2.907744,
           2.911312,
           2.913452,
           2.918113,
           2.919526,
           2.922511,
           2.927187,
           2.935157,
           2.938616,
           2.938687,
           2.938801,
           2.939727,
           2.941627,
           2.941929,
           2.9553,
           2.956297,
           2.95801,
           2.95841,
           2.962415,
           2.96405,
           2.964319,
           2.9673,
           2.969233,
           2.970983,
           2.971574,
           2.973569,
           2.974006,
           2.983042,
           2.996186,
           2.996717,
           2.997524,
           2.997951,
           2.998441,
           3,
           3,
           1,
           1.064162,
           1.078529,
           1.096455,
           1.116068,
           1.122127,
           1.142468,
           1.188089,
           1.206276,
           1.27785,
           1.306844,
           1.31415,
           1.317729,
           1.321028,
           1.34138,
           1.450218,
           1.452524,
           1.521604,
           1.570089,
           1.57223,
           1.588782,
           1.595746,
           1.620845,
           1.650505,
           1.653081,
           1.687569,
           1.718156,
           1.729824,
           1.758394,
           1.766849,
           1.771693,
           1.780746,
           1.834155,
           1.83746,
           1.874935,
           1.882235,
           1.887951,
           1.899116,
           1.901611,
           1.904732,
           1.906194,
           1.910176,
           1.925064,
           1.936479,
           1.94313,
           1.947405,
           1.952987,
           1.961347,
           1.963965,
           1.973499,
           1.977298,
           1.979944,
           1.989905,
           1.993101,
           2,
           2.000466,
           2.002796,
           2.003951,
           2.008656,
           2.009952,
           2.01054,
           2.010684,
           2.011656,
           2.013782,
           2.019674,
           2.021446,
           2.029634,
           2.030256,
           2.031246,
           2.033745,
           2.03414,
           2.042762,
           2.045027,
           2.047069,
           2.048216,
           2.048582,
           2.052152,
           2.061384,
           2.061461,
           2.061952,
           2.067817,
           2.076689,
           2.086093,
           2.086898,
           2.09449,
           2.097373,
           2.104105,
           2.108711,
           2.109162,
           2.116432,
           2.119643,
           2.1239,
           2.129668,
           2.133955,
           2.138334,
           2.146598,
           2.153639,
           2.156065,
           2.162519,
           2.164062,
           2.178889,
           2.182401,
           2.185938,
           2.188722,
           2.204914,
           2.206399,
           2.21232,
           2.213135,
           2.215464,
           2.217267,
           2.22399,
           2.244142,
           2.247704,
           2.252472,
           2.253371,
           2.253998,
           2.258795,
           2.265973,
           2.273548,
           2.277077,
           2.278644,
           2.286146,
           2.286481,
           2.288604,
           2.291846,
           2.293705,
           2.294067,
           2.300408,
           2.303367,
           2.303656,
           2.315932,
           2.319776,
           2.325623,
           2.332074,
           2.333503,
           2.341133,
           2.342323,
           2.353603,
           2.357496,
           2.366949,
           2.372494,
           2.37464,
           2.392665,
           2.399531,
           2.407817,
           2.413156,
           2.416044,
           2.417635,
           2.427689,
           2.442536,
           2.444599,
           2.446872,
           2.451009,
           2.459976,
           2.487167,
           2.492758,
           2.493448,
           2.501683,
           2.507841,
           2.510583,
           2.512719,
           2.522399,
           2.535315,
           2.53915,
           2.543563,
           2.54527,
           2.555401,
           2.5621,
           2.568063,
           2.577427,
           2.595128,
           2.598051,
           2.607335,
           2.615788,
           2.620963,
           2.628791,
           2.631565,
           2.63165,
           2.643183,
           2.650629,
           2.652958,
           2.661556,
           2.684528,
           2.689577,
           2.689929,
           2.694281,
           2.696381,
           2.706134,
           2.712747,
           2.714447,
           2.716909,
           2.733129,
           2.734314,
           2.735297,
           2.742796,
           2.746408,
           2.748243,
           2.749629,
           2.754646,
           2.759286,
           2.760607,
           2.765769,
           2.766036,
           2.76802,
           2.778079,
           2.780699,
           2.784383,
           2.784471,
           2.786008,
           2.793561,
           2.795086,
           2.79606,
           2.801514,
           2.802128,
           2.802696,
           2.814453,
           2.81646,
           2.821977,
           2.823179,
           2.838037,
           2.838969,
           2.839048,
           2.843709,
           2.846981,
           2.851664,
           2.8557,
           2.869436,
           2.872121,
           2.882522,
           2.884212,
           2.885178,
           2.901924,
           2.903545,
           2.907062,
           2.908757,
           2.915279,
           2.923433,
           2.923916,
           2.927409,
           2.938031,
           2.942154,
           2.944287,
           2.948248,
           2.948425,
           2.95118,
           2.951591,
           2.954996,
           2.956671,
           2.96008,
           2.971351,
           2.971588,
           2.976975,
           2.987148,
           2.992205,
           2.992329,
           2.99448,
           2.995599,
           3,
           1,
           1.003566,
           1.005578,
           1.031149,
           1.036414,
           1.052699,
           1.053534,
           1.0816,
           1.118436,
           1.123939,
           1.133844,
           1.140615,
           1.202075,
           1.204855,
           1.212908,
           1.21498,
           1.270448,
           1.303878,
           1.344854,
           1.4925,
           1.522001,
           1.567101,
           1.592183,
           1.601236,
           1.642241,
           1.649974,
           1.69427,
           1.757466,
           1.786841,
           1.813234,
           1.871213,
           1.889199,
           1.889883,
           1.950742,
           2,
           2.004146,
           2.00876,
           2.015258,
           2.027574,
           2.051283,
           2.052932,
           2.070964,
           2.120185,
           2.14084,
           2.19005,
           2.204914,
           2.205439,
           2.21498,
           2.241606,
           2.277436,
           2.310423,
           2.318355,
           2.336044,
           2.33998,
           2.34222,
           2.362918,
           2.371338,
           2.392665,
           2.424977,
           2.432302,
           2.432886,
           2.44004,
           2.449267,
           2.450218,
           2.478891,
           2.483979,
           2.486189,
           2.494451,
           2.508835,
           2.524428,
           2.530066,
           2.530233,
           2.559571,
           2.5596,
           2.55996,
           2.562409,
           2.580872,
           2.591439,
           2.592247,
           2.594653,
           2.596364,
           2.596579,
           2.613249,
           2.619835,
           2.627031,
           2.652779,
           2.658112,
           2.663421,
           2.673638,
           2.674431,
           2.68601,
           2.690754,
           2.703436,
           2.707666,
           2.708965,
           2.714447,
           2.71897,
           2.720701,
           2.724285,
           2.725282,
           2.737762,
           2.749268,
           2.750715,
           2.753752,
           2.762325,
           2.767731,
           2.784464,
           2.794197,
           2.815157,
           2.823179,
           2.824559,
           2.842102,
           2.844607,
           2.853513,
           2.86099,
           2.866383,
           2.880161,
           2.880792,
           2.8813,
           2.883745,
           2.886157,
           2.88626,
           2.88853,
           2.890535,
           2.896562,
           2.897899,
           2.910345,
           2.910733,
           2.913486,
           2.91548,
           2.919584,
           2.919751,
           2.927218,
           2.929889,
           2.938031,
           2.943749,
           2.959658,
           2.966126,
           2.967853,
           2.969205,
           2.971574,
           2.977018,
           2.979383,
           2.984004,
           2.984425,
           3
          ],
          "coloraxis": "coloraxis",
          "pattern": {
           "shape": ""
          }
         },
         "name": "",
         "offsetgroup": "",
         "orientation": "v",
         "showlegend": false,
         "textposition": "auto",
         "type": "bar",
         "x": [
          "Normal",
          "Normal",
          "Normal",
          "Normal",
          "Normal",
          "Normal",
          "Normal",
          "Normal",
          "Normal",
          "Normal",
          "Normal",
          "Obesity_I",
          "Obesity_I",
          "Obesity_I",
          "Obesity_I",
          "Obesity_I",
          "Obesity_I",
          "Obesity_I",
          "Obesity_I",
          "Obesity_I",
          "Obesity_I",
          "Obesity_I",
          "Obesity_I",
          "Obesity_I",
          "Obesity_I",
          "Obesity_I",
          "Obesity_I",
          "Obesity_I",
          "Obesity_I",
          "Obesity_I",
          "Obesity_I",
          "Obesity_I",
          "Obesity_I",
          "Obesity_I",
          "Obesity_I",
          "Obesity_I",
          "Obesity_I",
          "Obesity_I",
          "Obesity_I",
          "Obesity_I",
          "Obesity_I",
          "Obesity_I",
          "Obesity_I",
          "Obesity_I",
          "Obesity_I",
          "Obesity_I",
          "Obesity_I",
          "Obesity_I",
          "Obesity_I",
          "Obesity_I",
          "Obesity_I",
          "Obesity_I",
          "Obesity_I",
          "Obesity_I",
          "Obesity_I",
          "Obesity_I",
          "Obesity_I",
          "Obesity_I",
          "Obesity_I",
          "Obesity_I",
          "Obesity_I",
          "Obesity_I",
          "Obesity_I",
          "Obesity_I",
          "Obesity_I",
          "Obesity_I",
          "Obesity_I",
          "Obesity_I",
          "Obesity_I",
          "Obesity_I",
          "Obesity_I",
          "Obesity_I",
          "Obesity_I",
          "Obesity_I",
          "Obesity_I",
          "Obesity_I",
          "Obesity_I",
          "Obesity_I",
          "Obesity_I",
          "Obesity_I",
          "Obesity_I",
          "Obesity_I",
          "Obesity_I",
          "Obesity_I",
          "Obesity_I",
          "Obesity_I",
          "Obesity_I",
          "Obesity_I",
          "Obesity_I",
          "Obesity_I",
          "Obesity_I",
          "Obesity_I",
          "Obesity_I",
          "Obesity_I",
          "Obesity_I",
          "Obesity_I",
          "Obesity_I",
          "Obesity_I",
          "Obesity_I",
          "Obesity_I",
          "Obesity_I",
          "Obesity_I",
          "Obesity_I",
          "Obesity_I",
          "Obesity_I",
          "Obesity_I",
          "Obesity_I",
          "Obesity_I",
          "Obesity_I",
          "Obesity_I",
          "Obesity_I",
          "Obesity_I",
          "Obesity_I",
          "Obesity_I",
          "Obesity_I",
          "Obesity_I",
          "Obesity_I",
          "Obesity_I",
          "Obesity_I",
          "Obesity_I",
          "Obesity_I",
          "Obesity_I",
          "Obesity_I",
          "Obesity_I",
          "Obesity_I",
          "Obesity_I",
          "Obesity_I",
          "Obesity_I",
          "Obesity_I",
          "Obesity_I",
          "Obesity_I",
          "Obesity_I",
          "Obesity_I",
          "Obesity_I",
          "Obesity_I",
          "Obesity_I",
          "Obesity_I",
          "Obesity_I",
          "Obesity_I",
          "Obesity_I",
          "Obesity_I",
          "Obesity_I",
          "Obesity_I",
          "Obesity_I",
          "Obesity_I",
          "Obesity_I",
          "Obesity_I",
          "Obesity_I",
          "Obesity_I",
          "Obesity_I",
          "Obesity_I",
          "Obesity_I",
          "Obesity_I",
          "Obesity_I",
          "Obesity_I",
          "Obesity_I",
          "Obesity_I",
          "Obesity_I",
          "Obesity_I",
          "Obesity_I",
          "Obesity_I",
          "Obesity_I",
          "Obesity_I",
          "Obesity_I",
          "Obesity_I",
          "Obesity_I",
          "Obesity_I",
          "Obesity_I",
          "Obesity_I",
          "Obesity_I",
          "Obesity_I",
          "Obesity_I",
          "Obesity_I",
          "Obesity_I",
          "Obesity_I",
          "Obesity_I",
          "Obesity_I",
          "Obesity_I",
          "Obesity_I",
          "Obesity_I",
          "Obesity_I",
          "Obesity_I",
          "Obesity_I",
          "Obesity_I",
          "Obesity_I",
          "Obesity_II",
          "Obesity_II",
          "Obesity_II",
          "Obesity_II",
          "Obesity_II",
          "Obesity_II",
          "Obesity_II",
          "Obesity_II",
          "Obesity_II",
          "Obesity_II",
          "Obesity_II",
          "Obesity_II",
          "Obesity_II",
          "Obesity_II",
          "Obesity_II",
          "Obesity_II",
          "Obesity_II",
          "Obesity_II",
          "Obesity_II",
          "Obesity_II",
          "Obesity_II",
          "Obesity_II",
          "Obesity_II",
          "Obesity_II",
          "Obesity_II",
          "Obesity_II",
          "Obesity_II",
          "Obesity_II",
          "Obesity_II",
          "Obesity_II",
          "Obesity_II",
          "Obesity_II",
          "Obesity_II",
          "Obesity_II",
          "Obesity_II",
          "Obesity_II",
          "Obesity_II",
          "Obesity_II",
          "Obesity_II",
          "Obesity_II",
          "Obesity_II",
          "Obesity_II",
          "Obesity_II",
          "Obesity_II",
          "Obesity_II",
          "Obesity_II",
          "Obesity_II",
          "Obesity_II",
          "Obesity_II",
          "Obesity_II",
          "Obesity_II",
          "Obesity_II",
          "Obesity_II",
          "Obesity_II",
          "Obesity_II",
          "Obesity_II",
          "Obesity_II",
          "Obesity_II",
          "Obesity_II",
          "Obesity_II",
          "Obesity_II",
          "Obesity_II",
          "Obesity_II",
          "Obesity_II",
          "Obesity_II",
          "Obesity_II",
          "Obesity_II",
          "Obesity_II",
          "Obesity_II",
          "Obesity_II",
          "Obesity_II",
          "Obesity_II",
          "Obesity_II",
          "Obesity_II",
          "Obesity_II",
          "Obesity_II",
          "Obesity_II",
          "Obesity_II",
          "Obesity_II",
          "Obesity_II",
          "Obesity_II",
          "Obesity_II",
          "Obesity_II",
          "Obesity_II",
          "Obesity_II",
          "Obesity_II",
          "Obesity_II",
          "Obesity_II",
          "Obesity_II",
          "Obesity_II",
          "Obesity_II",
          "Obesity_II",
          "Obesity_II",
          "Obesity_II",
          "Obesity_II",
          "Obesity_II",
          "Obesity_II",
          "Obesity_II",
          "Obesity_II",
          "Obesity_II",
          "Obesity_II",
          "Obesity_II",
          "Obesity_II",
          "Obesity_II",
          "Obesity_II",
          "Obesity_II",
          "Obesity_II",
          "Obesity_II",
          "Obesity_II",
          "Obesity_II",
          "Obesity_II",
          "Obesity_II",
          "Obesity_II",
          "Obesity_II",
          "Obesity_II",
          "Obesity_II",
          "Obesity_II",
          "Obesity_II",
          "Obesity_II",
          "Obesity_II",
          "Obesity_II",
          "Obesity_II",
          "Obesity_II",
          "Obesity_II",
          "Obesity_II",
          "Obesity_II",
          "Obesity_II",
          "Obesity_II",
          "Obesity_II",
          "Obesity_II",
          "Obesity_II",
          "Obesity_II",
          "Obesity_II",
          "Obesity_II",
          "Obesity_II",
          "Obesity_II",
          "Obesity_II",
          "Obesity_II",
          "Obesity_II",
          "Obesity_II",
          "Obesity_II",
          "Obesity_II",
          "Obesity_II",
          "Obesity_II",
          "Obesity_II",
          "Obesity_II",
          "Obesity_II",
          "Obesity_II",
          "Obesity_II",
          "Obesity_II",
          "Obesity_II",
          "Obesity_II",
          "Obesity_II",
          "Obesity_II",
          "Obesity_II",
          "Obesity_II",
          "Obesity_II",
          "Obesity_II",
          "Obesity_II",
          "Obesity_II",
          "Obesity_II",
          "Obesity_II",
          "Obesity_II",
          "Obesity_II",
          "Obesity_II",
          "Obesity_II",
          "Obesity_II",
          "Obesity_II",
          "Obesity_II",
          "Obesity_II",
          "Obesity_II",
          "Obesity_II",
          "Obesity_II",
          "Obesity_II",
          "Obesity_II",
          "Obesity_II",
          "Obesity_II",
          "Obesity_II",
          "Obesity_II",
          "Obesity_II",
          "Obesity_II",
          "Obesity_II",
          "Obesity_II",
          "Obesity_II",
          "Obesity_II",
          "Obesity_II",
          "Obesity_II",
          "Obesity_II",
          "Obesity_II",
          "Obesity_II",
          "Obesity_II",
          "Obesity_II",
          "Obesity_II",
          "Obesity_II",
          "Obesity_II",
          "Obesity_II",
          "Obesity_II",
          "Obesity_II",
          "Obesity_II",
          "Obesity_II",
          "Obesity_II",
          "Obesity_II",
          "Obesity_II",
          "Obesity_II",
          "Obesity_II",
          "Obesity_II",
          "Obesity_II",
          "Obesity_II",
          "Obesity_II",
          "Obesity_II",
          "Obesity_II",
          "Obesity_II",
          "Obesity_II",
          "Obesity_II",
          "Obesity_II",
          "Obesity_II",
          "Obesity_II",
          "Obesity_II",
          "Obesity_II",
          "Obesity_II",
          "Obesity_II",
          "Obesity_II",
          "Obesity_II",
          "Obesity_II",
          "Obesity_II",
          "Obesity_II",
          "Obesity_II",
          "Obesity_II",
          "Obesity_II",
          "Obesity_II",
          "Obesity_II",
          "Obesity_II",
          "Obesity_II",
          "Obesity_II",
          "Obesity_II",
          "Obesity_II",
          "Obesity_II",
          "Obesity_II",
          "Obesity_II",
          "Obesity_II",
          "Obesity_II",
          "Obesity_II",
          "Obesity_II",
          "Obesity_II",
          "Obesity_II",
          "Obesity_II",
          "Obesity_II",
          "Obesity_III",
          "Overweight",
          "Overweight",
          "Overweight",
          "Overweight",
          "Overweight",
          "Overweight",
          "Overweight",
          "Overweight",
          "Overweight",
          "Overweight",
          "Overweight",
          "Overweight",
          "Overweight",
          "Overweight",
          "Overweight",
          "Overweight",
          "Overweight",
          "Overweight",
          "Overweight",
          "Overweight",
          "Overweight",
          "Overweight",
          "Overweight",
          "Overweight",
          "Overweight",
          "Overweight",
          "Overweight",
          "Overweight",
          "Overweight",
          "Overweight",
          "Overweight",
          "Overweight",
          "Overweight",
          "Overweight",
          "Overweight",
          "Overweight",
          "Overweight",
          "Overweight",
          "Overweight",
          "Overweight",
          "Overweight",
          "Overweight",
          "Overweight",
          "Overweight",
          "Overweight",
          "Overweight",
          "Overweight",
          "Overweight",
          "Overweight",
          "Overweight",
          "Overweight",
          "Overweight",
          "Overweight",
          "Overweight",
          "Overweight",
          "Overweight",
          "Overweight",
          "Overweight",
          "Overweight",
          "Overweight",
          "Overweight",
          "Overweight",
          "Overweight",
          "Overweight",
          "Overweight",
          "Overweight",
          "Overweight",
          "Overweight",
          "Overweight",
          "Overweight",
          "Overweight",
          "Overweight",
          "Overweight",
          "Overweight",
          "Overweight",
          "Overweight",
          "Overweight",
          "Overweight",
          "Overweight",
          "Overweight",
          "Overweight",
          "Overweight",
          "Overweight",
          "Overweight",
          "Overweight",
          "Overweight",
          "Overweight",
          "Overweight",
          "Overweight",
          "Overweight",
          "Overweight",
          "Overweight",
          "Overweight",
          "Overweight",
          "Overweight",
          "Overweight",
          "Overweight",
          "Overweight",
          "Overweight",
          "Overweight",
          "Overweight",
          "Overweight",
          "Overweight",
          "Overweight",
          "Overweight",
          "Overweight",
          "Overweight",
          "Overweight",
          "Overweight",
          "Overweight",
          "Overweight",
          "Overweight",
          "Overweight",
          "Overweight",
          "Overweight",
          "Overweight",
          "Overweight",
          "Overweight",
          "Overweight",
          "Overweight",
          "Overweight",
          "Overweight",
          "Overweight",
          "Overweight",
          "Overweight",
          "Overweight",
          "Overweight",
          "Overweight",
          "Overweight",
          "Overweight",
          "Overweight",
          "Overweight",
          "Overweight",
          "Overweight",
          "Overweight",
          "Overweight",
          "Overweight",
          "Overweight",
          "Overweight",
          "Overweight",
          "Overweight",
          "Overweight",
          "Overweight",
          "Overweight",
          "Overweight",
          "Overweight",
          "Overweight",
          "Overweight",
          "Overweight",
          "Overweight",
          "Overweight",
          "Overweight",
          "Overweight",
          "Overweight",
          "Overweight",
          "Overweight",
          "Overweight",
          "Overweight",
          "Overweight",
          "Overweight",
          "Overweight",
          "Overweight",
          "Overweight",
          "Overweight",
          "Overweight",
          "Overweight",
          "Overweight",
          "Overweight",
          "Overweight",
          "Overweight",
          "Overweight",
          "Overweight",
          "Overweight",
          "Overweight",
          "Overweight",
          "Overweight",
          "Overweight",
          "Overweight",
          "Overweight",
          "Overweight",
          "Overweight",
          "Overweight",
          "Overweight",
          "Overweight",
          "Overweight",
          "Overweight",
          "Overweight",
          "Overweight",
          "Overweight",
          "Overweight",
          "Overweight",
          "Overweight",
          "Overweight",
          "Overweight",
          "Overweight",
          "Overweight",
          "Overweight",
          "Overweight",
          "Overweight",
          "Overweight",
          "Overweight",
          "Overweight",
          "Overweight",
          "Overweight",
          "Overweight",
          "Overweight",
          "Overweight",
          "Overweight",
          "Overweight",
          "Overweight",
          "Overweight",
          "Overweight",
          "Overweight",
          "Overweight",
          "Overweight",
          "Overweight",
          "Overweight",
          "Overweight",
          "Overweight",
          "Overweight",
          "Overweight",
          "Overweight",
          "Overweight",
          "Overweight",
          "Overweight",
          "Overweight",
          "Overweight",
          "Overweight",
          "Overweight",
          "Overweight",
          "Overweight",
          "Overweight",
          "Overweight",
          "Overweight",
          "Overweight",
          "Overweight",
          "Overweight",
          "Overweight",
          "Overweight",
          "Overweight",
          "Overweight",
          "Overweight",
          "Overweight",
          "Overweight",
          "Overweight",
          "Overweight",
          "Overweight",
          "Overweight",
          "Overweight",
          "Overweight",
          "Overweight",
          "Overweight",
          "Overweight",
          "Overweight",
          "Overweight",
          "Overweight",
          "Overweight",
          "Overweight",
          "Underweight",
          "Underweight",
          "Underweight",
          "Underweight",
          "Underweight",
          "Underweight",
          "Underweight",
          "Underweight",
          "Underweight",
          "Underweight",
          "Underweight",
          "Underweight",
          "Underweight",
          "Underweight",
          "Underweight",
          "Underweight",
          "Underweight",
          "Underweight",
          "Underweight",
          "Underweight",
          "Underweight",
          "Underweight",
          "Underweight",
          "Underweight",
          "Underweight",
          "Underweight",
          "Underweight",
          "Underweight",
          "Underweight",
          "Underweight",
          "Underweight",
          "Underweight",
          "Underweight",
          "Underweight",
          "Underweight",
          "Underweight",
          "Underweight",
          "Underweight",
          "Underweight",
          "Underweight",
          "Underweight",
          "Underweight",
          "Underweight",
          "Underweight",
          "Underweight",
          "Underweight",
          "Underweight",
          "Underweight",
          "Underweight",
          "Underweight",
          "Underweight",
          "Underweight",
          "Underweight",
          "Underweight",
          "Underweight",
          "Underweight",
          "Underweight",
          "Underweight",
          "Underweight",
          "Underweight",
          "Underweight",
          "Underweight",
          "Underweight",
          "Underweight",
          "Underweight",
          "Underweight",
          "Underweight",
          "Underweight",
          "Underweight",
          "Underweight",
          "Underweight",
          "Underweight",
          "Underweight",
          "Underweight",
          "Underweight",
          "Underweight",
          "Underweight",
          "Underweight",
          "Underweight",
          "Underweight",
          "Underweight",
          "Underweight",
          "Underweight",
          "Underweight",
          "Underweight",
          "Underweight",
          "Underweight",
          "Underweight",
          "Underweight",
          "Underweight",
          "Underweight",
          "Underweight",
          "Underweight",
          "Underweight",
          "Underweight",
          "Underweight",
          "Underweight",
          "Underweight",
          "Underweight",
          "Underweight",
          "Underweight",
          "Underweight",
          "Underweight",
          "Underweight",
          "Underweight",
          "Underweight",
          "Underweight",
          "Underweight",
          "Underweight",
          "Underweight",
          "Underweight",
          "Underweight",
          "Underweight",
          "Underweight",
          "Underweight",
          "Underweight",
          "Underweight",
          "Underweight",
          "Underweight",
          "Underweight",
          "Underweight",
          "Underweight",
          "Underweight",
          "Underweight",
          "Underweight",
          "Underweight",
          "Underweight",
          "Underweight",
          "Underweight",
          "Underweight",
          "Underweight",
          "Underweight",
          "Underweight",
          "Underweight",
          "Underweight",
          "Underweight",
          "Underweight",
          "Underweight",
          "Underweight",
          "Underweight",
          "Underweight",
          "Underweight",
          "Underweight",
          "Underweight",
          "Underweight",
          "Underweight"
         ],
         "xaxis": "x",
         "y": [
          18,
          1,
          1,
          1,
          1,
          153,
          1,
          1,
          1,
          1,
          117,
          3,
          1,
          1,
          1,
          1,
          1,
          1,
          1,
          1,
          1,
          1,
          1,
          1,
          1,
          1,
          1,
          1,
          1,
          1,
          1,
          1,
          1,
          1,
          1,
          1,
          1,
          1,
          1,
          1,
          1,
          1,
          166,
          1,
          1,
          1,
          1,
          1,
          1,
          1,
          1,
          1,
          1,
          1,
          1,
          1,
          1,
          1,
          1,
          1,
          1,
          1,
          1,
          1,
          1,
          1,
          1,
          1,
          1,
          1,
          1,
          1,
          1,
          1,
          1,
          1,
          1,
          1,
          1,
          1,
          1,
          1,
          1,
          1,
          1,
          1,
          1,
          1,
          1,
          1,
          1,
          1,
          1,
          1,
          1,
          1,
          1,
          1,
          1,
          1,
          1,
          1,
          1,
          1,
          1,
          1,
          1,
          1,
          1,
          1,
          1,
          1,
          1,
          1,
          1,
          1,
          1,
          1,
          1,
          1,
          1,
          1,
          1,
          1,
          1,
          1,
          1,
          1,
          1,
          1,
          1,
          1,
          1,
          1,
          2,
          1,
          1,
          1,
          1,
          1,
          1,
          1,
          1,
          1,
          1,
          1,
          1,
          1,
          1,
          1,
          1,
          1,
          1,
          1,
          1,
          1,
          1,
          1,
          1,
          1,
          1,
          1,
          1,
          1,
          1,
          1,
          1,
          1,
          1,
          1,
          1,
          1,
          1,
          1,
          1,
          1,
          1,
          1,
          1,
          1,
          1,
          1,
          1,
          1,
          29,
          1,
          1,
          1,
          1,
          1,
          1,
          1,
          1,
          1,
          1,
          1,
          1,
          1,
          1,
          1,
          1,
          1,
          1,
          1,
          1,
          1,
          1,
          1,
          1,
          1,
          1,
          1,
          1,
          1,
          1,
          1,
          1,
          1,
          1,
          1,
          1,
          1,
          1,
          1,
          1,
          1,
          1,
          1,
          1,
          1,
          1,
          1,
          1,
          1,
          1,
          10,
          1,
          1,
          1,
          1,
          1,
          1,
          1,
          1,
          1,
          1,
          1,
          1,
          1,
          1,
          1,
          1,
          1,
          1,
          1,
          1,
          1,
          1,
          1,
          1,
          1,
          1,
          1,
          1,
          1,
          1,
          1,
          1,
          1,
          1,
          1,
          1,
          1,
          1,
          1,
          1,
          1,
          1,
          1,
          1,
          1,
          1,
          1,
          1,
          1,
          1,
          1,
          1,
          1,
          1,
          1,
          1,
          1,
          1,
          1,
          1,
          1,
          1,
          1,
          1,
          1,
          1,
          1,
          1,
          1,
          1,
          1,
          1,
          1,
          1,
          1,
          1,
          1,
          1,
          1,
          1,
          1,
          1,
          1,
          1,
          1,
          1,
          1,
          1,
          1,
          1,
          1,
          1,
          1,
          1,
          1,
          1,
          1,
          1,
          1,
          1,
          1,
          1,
          1,
          1,
          1,
          1,
          1,
          1,
          1,
          1,
          1,
          1,
          1,
          1,
          1,
          1,
          1,
          1,
          1,
          1,
          1,
          1,
          1,
          1,
          1,
          1,
          1,
          1,
          1,
          1,
          1,
          1,
          1,
          1,
          1,
          1,
          1,
          2,
          1,
          1,
          1,
          1,
          1,
          1,
          1,
          1,
          1,
          1,
          1,
          1,
          1,
          1,
          1,
          1,
          1,
          1,
          1,
          1,
          1,
          1,
          1,
          1,
          1,
          1,
          1,
          1,
          1,
          1,
          1,
          1,
          1,
          1,
          1,
          1,
          1,
          1,
          1,
          1,
          1,
          1,
          1,
          1,
          1,
          2,
          1,
          1,
          1,
          1,
          1,
          1,
          1,
          1,
          1,
          1,
          1,
          80,
          271,
          7,
          1,
          1,
          1,
          1,
          1,
          1,
          1,
          1,
          1,
          1,
          1,
          1,
          1,
          1,
          1,
          1,
          1,
          1,
          1,
          1,
          1,
          1,
          1,
          1,
          1,
          1,
          1,
          1,
          1,
          1,
          1,
          1,
          1,
          1,
          1,
          1,
          1,
          1,
          1,
          1,
          1,
          1,
          1,
          1,
          1,
          1,
          1,
          1,
          1,
          1,
          1,
          1,
          1,
          230,
          1,
          1,
          1,
          1,
          1,
          1,
          1,
          1,
          1,
          1,
          1,
          1,
          1,
          1,
          1,
          1,
          1,
          1,
          1,
          1,
          1,
          1,
          1,
          1,
          1,
          1,
          1,
          1,
          1,
          1,
          1,
          1,
          1,
          1,
          1,
          1,
          1,
          1,
          1,
          1,
          1,
          1,
          1,
          1,
          1,
          1,
          1,
          1,
          1,
          1,
          1,
          1,
          1,
          1,
          1,
          1,
          1,
          1,
          1,
          1,
          1,
          1,
          1,
          1,
          1,
          1,
          1,
          1,
          1,
          1,
          1,
          1,
          1,
          1,
          1,
          1,
          1,
          1,
          1,
          1,
          1,
          1,
          1,
          1,
          1,
          1,
          1,
          1,
          1,
          1,
          1,
          1,
          1,
          1,
          1,
          1,
          1,
          1,
          1,
          1,
          1,
          1,
          1,
          1,
          1,
          1,
          1,
          1,
          1,
          1,
          1,
          1,
          1,
          1,
          1,
          1,
          1,
          1,
          1,
          1,
          1,
          1,
          1,
          1,
          1,
          1,
          1,
          1,
          1,
          1,
          1,
          1,
          1,
          1,
          1,
          1,
          1,
          1,
          1,
          1,
          1,
          1,
          1,
          1,
          1,
          1,
          1,
          1,
          1,
          1,
          1,
          1,
          1,
          1,
          1,
          1,
          1,
          1,
          1,
          1,
          1,
          1,
          1,
          1,
          1,
          1,
          1,
          1,
          1,
          1,
          1,
          1,
          1,
          1,
          1,
          1,
          1,
          1,
          1,
          1,
          1,
          1,
          1,
          1,
          1,
          1,
          1,
          1,
          1,
          1,
          1,
          1,
          1,
          1,
          1,
          1,
          1,
          1,
          1,
          1,
          1,
          1,
          74,
          4,
          1,
          1,
          1,
          1,
          1,
          1,
          1,
          1,
          1,
          1,
          1,
          1,
          1,
          1,
          1,
          1,
          1,
          1,
          1,
          1,
          1,
          1,
          1,
          1,
          1,
          1,
          1,
          1,
          1,
          1,
          1,
          1,
          1,
          41,
          1,
          1,
          1,
          1,
          1,
          1,
          1,
          1,
          1,
          1,
          1,
          1,
          1,
          1,
          1,
          1,
          1,
          1,
          1,
          1,
          1,
          1,
          1,
          1,
          1,
          1,
          1,
          1,
          1,
          1,
          1,
          1,
          1,
          1,
          1,
          1,
          1,
          1,
          1,
          1,
          1,
          1,
          1,
          1,
          1,
          1,
          1,
          1,
          1,
          1,
          1,
          1,
          1,
          1,
          1,
          1,
          1,
          1,
          1,
          1,
          1,
          1,
          1,
          1,
          1,
          1,
          1,
          1,
          1,
          1,
          1,
          1,
          1,
          1,
          1,
          1,
          1,
          1,
          1,
          1,
          1,
          1,
          1,
          1,
          1,
          1,
          1,
          1,
          1,
          1,
          1,
          1,
          1,
          1,
          1,
          1,
          1,
          1,
          1,
          1,
          1,
          1,
          1,
          1,
          1,
          1,
          1,
          1,
          1,
          1,
          79
         ],
         "yaxis": "y"
        }
       ],
       "layout": {
        "barmode": "relative",
        "coloraxis": {
         "colorbar": {
          "title": {
           "text": "FCVC"
          }
         },
         "colorscale": [
          [
           0,
           "#0d0887"
          ],
          [
           0.1111111111111111,
           "#46039f"
          ],
          [
           0.2222222222222222,
           "#7201a8"
          ],
          [
           0.3333333333333333,
           "#9c179e"
          ],
          [
           0.4444444444444444,
           "#bd3786"
          ],
          [
           0.5555555555555556,
           "#d8576b"
          ],
          [
           0.6666666666666666,
           "#ed7953"
          ],
          [
           0.7777777777777778,
           "#fb9f3a"
          ],
          [
           0.8888888888888888,
           "#fdca26"
          ],
          [
           1,
           "#f0f921"
          ]
         ]
        },
        "legend": {
         "tracegroupgap": 0
        },
        "margin": {
         "t": 60
        },
        "template": {
         "data": {
          "bar": [
           {
            "error_x": {
             "color": "#2a3f5f"
            },
            "error_y": {
             "color": "#2a3f5f"
            },
            "marker": {
             "line": {
              "color": "#E5ECF6",
              "width": 0.5
             },
             "pattern": {
              "fillmode": "overlay",
              "size": 10,
              "solidity": 0.2
             }
            },
            "type": "bar"
           }
          ],
          "barpolar": [
           {
            "marker": {
             "line": {
              "color": "#E5ECF6",
              "width": 0.5
             },
             "pattern": {
              "fillmode": "overlay",
              "size": 10,
              "solidity": 0.2
             }
            },
            "type": "barpolar"
           }
          ],
          "carpet": [
           {
            "aaxis": {
             "endlinecolor": "#2a3f5f",
             "gridcolor": "white",
             "linecolor": "white",
             "minorgridcolor": "white",
             "startlinecolor": "#2a3f5f"
            },
            "baxis": {
             "endlinecolor": "#2a3f5f",
             "gridcolor": "white",
             "linecolor": "white",
             "minorgridcolor": "white",
             "startlinecolor": "#2a3f5f"
            },
            "type": "carpet"
           }
          ],
          "choropleth": [
           {
            "colorbar": {
             "outlinewidth": 0,
             "ticks": ""
            },
            "type": "choropleth"
           }
          ],
          "contour": [
           {
            "colorbar": {
             "outlinewidth": 0,
             "ticks": ""
            },
            "colorscale": [
             [
              0,
              "#0d0887"
             ],
             [
              0.1111111111111111,
              "#46039f"
             ],
             [
              0.2222222222222222,
              "#7201a8"
             ],
             [
              0.3333333333333333,
              "#9c179e"
             ],
             [
              0.4444444444444444,
              "#bd3786"
             ],
             [
              0.5555555555555556,
              "#d8576b"
             ],
             [
              0.6666666666666666,
              "#ed7953"
             ],
             [
              0.7777777777777778,
              "#fb9f3a"
             ],
             [
              0.8888888888888888,
              "#fdca26"
             ],
             [
              1,
              "#f0f921"
             ]
            ],
            "type": "contour"
           }
          ],
          "contourcarpet": [
           {
            "colorbar": {
             "outlinewidth": 0,
             "ticks": ""
            },
            "type": "contourcarpet"
           }
          ],
          "heatmap": [
           {
            "colorbar": {
             "outlinewidth": 0,
             "ticks": ""
            },
            "colorscale": [
             [
              0,
              "#0d0887"
             ],
             [
              0.1111111111111111,
              "#46039f"
             ],
             [
              0.2222222222222222,
              "#7201a8"
             ],
             [
              0.3333333333333333,
              "#9c179e"
             ],
             [
              0.4444444444444444,
              "#bd3786"
             ],
             [
              0.5555555555555556,
              "#d8576b"
             ],
             [
              0.6666666666666666,
              "#ed7953"
             ],
             [
              0.7777777777777778,
              "#fb9f3a"
             ],
             [
              0.8888888888888888,
              "#fdca26"
             ],
             [
              1,
              "#f0f921"
             ]
            ],
            "type": "heatmap"
           }
          ],
          "heatmapgl": [
           {
            "colorbar": {
             "outlinewidth": 0,
             "ticks": ""
            },
            "colorscale": [
             [
              0,
              "#0d0887"
             ],
             [
              0.1111111111111111,
              "#46039f"
             ],
             [
              0.2222222222222222,
              "#7201a8"
             ],
             [
              0.3333333333333333,
              "#9c179e"
             ],
             [
              0.4444444444444444,
              "#bd3786"
             ],
             [
              0.5555555555555556,
              "#d8576b"
             ],
             [
              0.6666666666666666,
              "#ed7953"
             ],
             [
              0.7777777777777778,
              "#fb9f3a"
             ],
             [
              0.8888888888888888,
              "#fdca26"
             ],
             [
              1,
              "#f0f921"
             ]
            ],
            "type": "heatmapgl"
           }
          ],
          "histogram": [
           {
            "marker": {
             "pattern": {
              "fillmode": "overlay",
              "size": 10,
              "solidity": 0.2
             }
            },
            "type": "histogram"
           }
          ],
          "histogram2d": [
           {
            "colorbar": {
             "outlinewidth": 0,
             "ticks": ""
            },
            "colorscale": [
             [
              0,
              "#0d0887"
             ],
             [
              0.1111111111111111,
              "#46039f"
             ],
             [
              0.2222222222222222,
              "#7201a8"
             ],
             [
              0.3333333333333333,
              "#9c179e"
             ],
             [
              0.4444444444444444,
              "#bd3786"
             ],
             [
              0.5555555555555556,
              "#d8576b"
             ],
             [
              0.6666666666666666,
              "#ed7953"
             ],
             [
              0.7777777777777778,
              "#fb9f3a"
             ],
             [
              0.8888888888888888,
              "#fdca26"
             ],
             [
              1,
              "#f0f921"
             ]
            ],
            "type": "histogram2d"
           }
          ],
          "histogram2dcontour": [
           {
            "colorbar": {
             "outlinewidth": 0,
             "ticks": ""
            },
            "colorscale": [
             [
              0,
              "#0d0887"
             ],
             [
              0.1111111111111111,
              "#46039f"
             ],
             [
              0.2222222222222222,
              "#7201a8"
             ],
             [
              0.3333333333333333,
              "#9c179e"
             ],
             [
              0.4444444444444444,
              "#bd3786"
             ],
             [
              0.5555555555555556,
              "#d8576b"
             ],
             [
              0.6666666666666666,
              "#ed7953"
             ],
             [
              0.7777777777777778,
              "#fb9f3a"
             ],
             [
              0.8888888888888888,
              "#fdca26"
             ],
             [
              1,
              "#f0f921"
             ]
            ],
            "type": "histogram2dcontour"
           }
          ],
          "mesh3d": [
           {
            "colorbar": {
             "outlinewidth": 0,
             "ticks": ""
            },
            "type": "mesh3d"
           }
          ],
          "parcoords": [
           {
            "line": {
             "colorbar": {
              "outlinewidth": 0,
              "ticks": ""
             }
            },
            "type": "parcoords"
           }
          ],
          "pie": [
           {
            "automargin": true,
            "type": "pie"
           }
          ],
          "scatter": [
           {
            "fillpattern": {
             "fillmode": "overlay",
             "size": 10,
             "solidity": 0.2
            },
            "type": "scatter"
           }
          ],
          "scatter3d": [
           {
            "line": {
             "colorbar": {
              "outlinewidth": 0,
              "ticks": ""
             }
            },
            "marker": {
             "colorbar": {
              "outlinewidth": 0,
              "ticks": ""
             }
            },
            "type": "scatter3d"
           }
          ],
          "scattercarpet": [
           {
            "marker": {
             "colorbar": {
              "outlinewidth": 0,
              "ticks": ""
             }
            },
            "type": "scattercarpet"
           }
          ],
          "scattergeo": [
           {
            "marker": {
             "colorbar": {
              "outlinewidth": 0,
              "ticks": ""
             }
            },
            "type": "scattergeo"
           }
          ],
          "scattergl": [
           {
            "marker": {
             "colorbar": {
              "outlinewidth": 0,
              "ticks": ""
             }
            },
            "type": "scattergl"
           }
          ],
          "scattermapbox": [
           {
            "marker": {
             "colorbar": {
              "outlinewidth": 0,
              "ticks": ""
             }
            },
            "type": "scattermapbox"
           }
          ],
          "scatterpolar": [
           {
            "marker": {
             "colorbar": {
              "outlinewidth": 0,
              "ticks": ""
             }
            },
            "type": "scatterpolar"
           }
          ],
          "scatterpolargl": [
           {
            "marker": {
             "colorbar": {
              "outlinewidth": 0,
              "ticks": ""
             }
            },
            "type": "scatterpolargl"
           }
          ],
          "scatterternary": [
           {
            "marker": {
             "colorbar": {
              "outlinewidth": 0,
              "ticks": ""
             }
            },
            "type": "scatterternary"
           }
          ],
          "surface": [
           {
            "colorbar": {
             "outlinewidth": 0,
             "ticks": ""
            },
            "colorscale": [
             [
              0,
              "#0d0887"
             ],
             [
              0.1111111111111111,
              "#46039f"
             ],
             [
              0.2222222222222222,
              "#7201a8"
             ],
             [
              0.3333333333333333,
              "#9c179e"
             ],
             [
              0.4444444444444444,
              "#bd3786"
             ],
             [
              0.5555555555555556,
              "#d8576b"
             ],
             [
              0.6666666666666666,
              "#ed7953"
             ],
             [
              0.7777777777777778,
              "#fb9f3a"
             ],
             [
              0.8888888888888888,
              "#fdca26"
             ],
             [
              1,
              "#f0f921"
             ]
            ],
            "type": "surface"
           }
          ],
          "table": [
           {
            "cells": {
             "fill": {
              "color": "#EBF0F8"
             },
             "line": {
              "color": "white"
             }
            },
            "header": {
             "fill": {
              "color": "#C8D4E3"
             },
             "line": {
              "color": "white"
             }
            },
            "type": "table"
           }
          ]
         },
         "layout": {
          "annotationdefaults": {
           "arrowcolor": "#2a3f5f",
           "arrowhead": 0,
           "arrowwidth": 1
          },
          "autotypenumbers": "strict",
          "coloraxis": {
           "colorbar": {
            "outlinewidth": 0,
            "ticks": ""
           }
          },
          "colorscale": {
           "diverging": [
            [
             0,
             "#8e0152"
            ],
            [
             0.1,
             "#c51b7d"
            ],
            [
             0.2,
             "#de77ae"
            ],
            [
             0.3,
             "#f1b6da"
            ],
            [
             0.4,
             "#fde0ef"
            ],
            [
             0.5,
             "#f7f7f7"
            ],
            [
             0.6,
             "#e6f5d0"
            ],
            [
             0.7,
             "#b8e186"
            ],
            [
             0.8,
             "#7fbc41"
            ],
            [
             0.9,
             "#4d9221"
            ],
            [
             1,
             "#276419"
            ]
           ],
           "sequential": [
            [
             0,
             "#0d0887"
            ],
            [
             0.1111111111111111,
             "#46039f"
            ],
            [
             0.2222222222222222,
             "#7201a8"
            ],
            [
             0.3333333333333333,
             "#9c179e"
            ],
            [
             0.4444444444444444,
             "#bd3786"
            ],
            [
             0.5555555555555556,
             "#d8576b"
            ],
            [
             0.6666666666666666,
             "#ed7953"
            ],
            [
             0.7777777777777778,
             "#fb9f3a"
            ],
            [
             0.8888888888888888,
             "#fdca26"
            ],
            [
             1,
             "#f0f921"
            ]
           ],
           "sequentialminus": [
            [
             0,
             "#0d0887"
            ],
            [
             0.1111111111111111,
             "#46039f"
            ],
            [
             0.2222222222222222,
             "#7201a8"
            ],
            [
             0.3333333333333333,
             "#9c179e"
            ],
            [
             0.4444444444444444,
             "#bd3786"
            ],
            [
             0.5555555555555556,
             "#d8576b"
            ],
            [
             0.6666666666666666,
             "#ed7953"
            ],
            [
             0.7777777777777778,
             "#fb9f3a"
            ],
            [
             0.8888888888888888,
             "#fdca26"
            ],
            [
             1,
             "#f0f921"
            ]
           ]
          },
          "colorway": [
           "#636efa",
           "#EF553B",
           "#00cc96",
           "#ab63fa",
           "#FFA15A",
           "#19d3f3",
           "#FF6692",
           "#B6E880",
           "#FF97FF",
           "#FECB52"
          ],
          "font": {
           "color": "#2a3f5f"
          },
          "geo": {
           "bgcolor": "white",
           "lakecolor": "white",
           "landcolor": "#E5ECF6",
           "showlakes": true,
           "showland": true,
           "subunitcolor": "white"
          },
          "hoverlabel": {
           "align": "left"
          },
          "hovermode": "closest",
          "mapbox": {
           "style": "light"
          },
          "paper_bgcolor": "white",
          "plot_bgcolor": "#E5ECF6",
          "polar": {
           "angularaxis": {
            "gridcolor": "white",
            "linecolor": "white",
            "ticks": ""
           },
           "bgcolor": "#E5ECF6",
           "radialaxis": {
            "gridcolor": "white",
            "linecolor": "white",
            "ticks": ""
           }
          },
          "scene": {
           "xaxis": {
            "backgroundcolor": "#E5ECF6",
            "gridcolor": "white",
            "gridwidth": 2,
            "linecolor": "white",
            "showbackground": true,
            "ticks": "",
            "zerolinecolor": "white"
           },
           "yaxis": {
            "backgroundcolor": "#E5ECF6",
            "gridcolor": "white",
            "gridwidth": 2,
            "linecolor": "white",
            "showbackground": true,
            "ticks": "",
            "zerolinecolor": "white"
           },
           "zaxis": {
            "backgroundcolor": "#E5ECF6",
            "gridcolor": "white",
            "gridwidth": 2,
            "linecolor": "white",
            "showbackground": true,
            "ticks": "",
            "zerolinecolor": "white"
           }
          },
          "shapedefaults": {
           "line": {
            "color": "#2a3f5f"
           }
          },
          "ternary": {
           "aaxis": {
            "gridcolor": "white",
            "linecolor": "white",
            "ticks": ""
           },
           "baxis": {
            "gridcolor": "white",
            "linecolor": "white",
            "ticks": ""
           },
           "bgcolor": "#E5ECF6",
           "caxis": {
            "gridcolor": "white",
            "linecolor": "white",
            "ticks": ""
           }
          },
          "title": {
           "x": 0.05
          },
          "xaxis": {
           "automargin": true,
           "gridcolor": "white",
           "linecolor": "white",
           "ticks": "",
           "title": {
            "standoff": 15
           },
           "zerolinecolor": "white",
           "zerolinewidth": 2
          },
          "yaxis": {
           "automargin": true,
           "gridcolor": "white",
           "linecolor": "white",
           "ticks": "",
           "title": {
            "standoff": 15
           },
           "zerolinecolor": "white",
           "zerolinewidth": 2
          }
         }
        },
        "xaxis": {
         "anchor": "y",
         "categoryarray": [
          "Underweight",
          "Normal",
          "Overweight",
          "Obesity_I",
          "Obesity_II",
          "Obesity_III"
         ],
         "categoryorder": "array",
         "domain": [
          0,
          1
         ],
         "title": {
          "text": "Level"
         }
        },
        "yaxis": {
         "anchor": "x",
         "domain": [
          0,
          1
         ],
         "title": {
          "text": "Count"
         }
        }
       }
      }
     },
     "metadata": {},
     "output_type": "display_data"
    }
   ],
   "source": [
    "# Vegetables consumptions\n",
    "\n",
    "dfv3 = df.groupby(['Level', 'FCVC'])['Gender'].count().reset_index()\n",
    "dfv3.columns = ['Level', 'FCVC', 'Count']\n",
    "fig = px.bar(dfv3, x='Level', y='Count', color = 'FCVC')\n",
    "\n",
    "fig.update_xaxes(categoryorder='array', categoryarray= ['Underweight', 'Normal', 'Overweight', 'Obesity_I', 'Obesity_II', 'Obesity_III'])\n",
    "fig.show()\n"
   ]
  },
  {
   "cell_type": "code",
   "execution_count": 18,
   "metadata": {},
   "outputs": [
    {
     "data": {
      "text/html": [
       "<div>\n",
       "<style scoped>\n",
       "    .dataframe tbody tr th:only-of-type {\n",
       "        vertical-align: middle;\n",
       "    }\n",
       "\n",
       "    .dataframe tbody tr th {\n",
       "        vertical-align: top;\n",
       "    }\n",
       "\n",
       "    .dataframe thead th {\n",
       "        text-align: right;\n",
       "    }\n",
       "</style>\n",
       "<table border=\"1\" class=\"dataframe\">\n",
       "  <thead>\n",
       "    <tr style=\"text-align: right;\">\n",
       "      <th></th>\n",
       "      <th>Level</th>\n",
       "      <th>FCVC</th>\n",
       "      <th>Gender</th>\n",
       "    </tr>\n",
       "  </thead>\n",
       "  <tbody>\n",
       "    <tr>\n",
       "      <th>0</th>\n",
       "      <td>Normal</td>\n",
       "      <td>1.000000</td>\n",
       "      <td>18</td>\n",
       "    </tr>\n",
       "    <tr>\n",
       "      <th>1</th>\n",
       "      <td>Normal</td>\n",
       "      <td>1.753750</td>\n",
       "      <td>1</td>\n",
       "    </tr>\n",
       "    <tr>\n",
       "      <th>2</th>\n",
       "      <td>Normal</td>\n",
       "      <td>1.773265</td>\n",
       "      <td>1</td>\n",
       "    </tr>\n",
       "    <tr>\n",
       "      <th>3</th>\n",
       "      <td>Normal</td>\n",
       "      <td>1.836554</td>\n",
       "      <td>1</td>\n",
       "    </tr>\n",
       "    <tr>\n",
       "      <th>4</th>\n",
       "      <td>Normal</td>\n",
       "      <td>1.972545</td>\n",
       "      <td>1</td>\n",
       "    </tr>\n",
       "    <tr>\n",
       "      <th>...</th>\n",
       "      <td>...</td>\n",
       "      <td>...</td>\n",
       "      <td>...</td>\n",
       "    </tr>\n",
       "    <tr>\n",
       "      <th>832</th>\n",
       "      <td>Underweight</td>\n",
       "      <td>2.977018</td>\n",
       "      <td>1</td>\n",
       "    </tr>\n",
       "    <tr>\n",
       "      <th>833</th>\n",
       "      <td>Underweight</td>\n",
       "      <td>2.979383</td>\n",
       "      <td>1</td>\n",
       "    </tr>\n",
       "    <tr>\n",
       "      <th>834</th>\n",
       "      <td>Underweight</td>\n",
       "      <td>2.984004</td>\n",
       "      <td>1</td>\n",
       "    </tr>\n",
       "    <tr>\n",
       "      <th>835</th>\n",
       "      <td>Underweight</td>\n",
       "      <td>2.984425</td>\n",
       "      <td>1</td>\n",
       "    </tr>\n",
       "    <tr>\n",
       "      <th>836</th>\n",
       "      <td>Underweight</td>\n",
       "      <td>3.000000</td>\n",
       "      <td>79</td>\n",
       "    </tr>\n",
       "  </tbody>\n",
       "</table>\n",
       "<p>837 rows × 3 columns</p>\n",
       "</div>"
      ],
      "text/plain": [
       "           Level      FCVC  Gender\n",
       "0         Normal  1.000000      18\n",
       "1         Normal  1.753750       1\n",
       "2         Normal  1.773265       1\n",
       "3         Normal  1.836554       1\n",
       "4         Normal  1.972545       1\n",
       "..           ...       ...     ...\n",
       "832  Underweight  2.977018       1\n",
       "833  Underweight  2.979383       1\n",
       "834  Underweight  2.984004       1\n",
       "835  Underweight  2.984425       1\n",
       "836  Underweight  3.000000      79\n",
       "\n",
       "[837 rows x 3 columns]"
      ]
     },
     "execution_count": 18,
     "metadata": {},
     "output_type": "execute_result"
    }
   ],
   "source": [
    "df.groupby(['Level', 'FCVC'])['Gender'].count().reset_index()"
   ]
  },
  {
   "cell_type": "code",
   "execution_count": 19,
   "metadata": {},
   "outputs": [
    {
     "data": {
      "text/plain": [
       "FCVC\n",
       "3.000000    650\n",
       "2.000000    600\n",
       "1.000000     33\n",
       "2.823179      2\n",
       "2.214980      2\n",
       "           ... \n",
       "2.706134      1\n",
       "2.010684      1\n",
       "2.300408      1\n",
       "2.119643      1\n",
       "2.680375      1\n",
       "Name: count, Length: 808, dtype: int64"
      ]
     },
     "execution_count": 19,
     "metadata": {},
     "output_type": "execute_result"
    }
   ],
   "source": [
    "df['FCVC'].value_counts()"
   ]
  },
  {
   "cell_type": "code",
   "execution_count": 20,
   "metadata": {},
   "outputs": [
    {
     "data": {
      "text/html": [
       "<div>\n",
       "<style scoped>\n",
       "    .dataframe tbody tr th:only-of-type {\n",
       "        vertical-align: middle;\n",
       "    }\n",
       "\n",
       "    .dataframe tbody tr th {\n",
       "        vertical-align: top;\n",
       "    }\n",
       "\n",
       "    .dataframe thead th {\n",
       "        text-align: right;\n",
       "    }\n",
       "</style>\n",
       "<table border=\"1\" class=\"dataframe\">\n",
       "  <thead>\n",
       "    <tr style=\"text-align: right;\">\n",
       "      <th></th>\n",
       "      <th>Gender</th>\n",
       "      <th>Age</th>\n",
       "      <th>Height</th>\n",
       "      <th>family_history_with_overweight</th>\n",
       "      <th>FAVC</th>\n",
       "      <th>FCVC</th>\n",
       "      <th>NCP</th>\n",
       "      <th>CAEC</th>\n",
       "      <th>SMOKE</th>\n",
       "      <th>CH2O</th>\n",
       "      <th>SCC</th>\n",
       "      <th>FAF</th>\n",
       "      <th>TUE</th>\n",
       "      <th>CALC</th>\n",
       "      <th>MTRANS</th>\n",
       "      <th>Level</th>\n",
       "    </tr>\n",
       "  </thead>\n",
       "  <tbody>\n",
       "    <tr>\n",
       "      <th>0</th>\n",
       "      <td>Female</td>\n",
       "      <td>21.000000</td>\n",
       "      <td>1.620000</td>\n",
       "      <td>yes</td>\n",
       "      <td>no</td>\n",
       "      <td>2.0</td>\n",
       "      <td>3.0</td>\n",
       "      <td>Sometimes</td>\n",
       "      <td>no</td>\n",
       "      <td>2.000000</td>\n",
       "      <td>no</td>\n",
       "      <td>0.000000</td>\n",
       "      <td>1.000000</td>\n",
       "      <td>no</td>\n",
       "      <td>Public_Transportation</td>\n",
       "      <td>Normal</td>\n",
       "    </tr>\n",
       "    <tr>\n",
       "      <th>1</th>\n",
       "      <td>Female</td>\n",
       "      <td>21.000000</td>\n",
       "      <td>1.520000</td>\n",
       "      <td>yes</td>\n",
       "      <td>no</td>\n",
       "      <td>3.0</td>\n",
       "      <td>3.0</td>\n",
       "      <td>Sometimes</td>\n",
       "      <td>yes</td>\n",
       "      <td>3.000000</td>\n",
       "      <td>yes</td>\n",
       "      <td>3.000000</td>\n",
       "      <td>0.000000</td>\n",
       "      <td>Sometimes</td>\n",
       "      <td>Public_Transportation</td>\n",
       "      <td>Normal</td>\n",
       "    </tr>\n",
       "    <tr>\n",
       "      <th>2</th>\n",
       "      <td>Male</td>\n",
       "      <td>23.000000</td>\n",
       "      <td>1.800000</td>\n",
       "      <td>yes</td>\n",
       "      <td>no</td>\n",
       "      <td>2.0</td>\n",
       "      <td>3.0</td>\n",
       "      <td>Sometimes</td>\n",
       "      <td>no</td>\n",
       "      <td>2.000000</td>\n",
       "      <td>no</td>\n",
       "      <td>2.000000</td>\n",
       "      <td>1.000000</td>\n",
       "      <td>Frequently</td>\n",
       "      <td>Public_Transportation</td>\n",
       "      <td>Normal</td>\n",
       "    </tr>\n",
       "    <tr>\n",
       "      <th>3</th>\n",
       "      <td>Male</td>\n",
       "      <td>27.000000</td>\n",
       "      <td>1.800000</td>\n",
       "      <td>no</td>\n",
       "      <td>no</td>\n",
       "      <td>3.0</td>\n",
       "      <td>3.0</td>\n",
       "      <td>Sometimes</td>\n",
       "      <td>no</td>\n",
       "      <td>2.000000</td>\n",
       "      <td>no</td>\n",
       "      <td>2.000000</td>\n",
       "      <td>0.000000</td>\n",
       "      <td>Frequently</td>\n",
       "      <td>Walking</td>\n",
       "      <td>Overweight</td>\n",
       "    </tr>\n",
       "    <tr>\n",
       "      <th>4</th>\n",
       "      <td>Male</td>\n",
       "      <td>22.000000</td>\n",
       "      <td>1.780000</td>\n",
       "      <td>no</td>\n",
       "      <td>no</td>\n",
       "      <td>2.0</td>\n",
       "      <td>1.0</td>\n",
       "      <td>Sometimes</td>\n",
       "      <td>no</td>\n",
       "      <td>2.000000</td>\n",
       "      <td>no</td>\n",
       "      <td>0.000000</td>\n",
       "      <td>0.000000</td>\n",
       "      <td>Sometimes</td>\n",
       "      <td>Public_Transportation</td>\n",
       "      <td>Overweight</td>\n",
       "    </tr>\n",
       "    <tr>\n",
       "      <th>...</th>\n",
       "      <td>...</td>\n",
       "      <td>...</td>\n",
       "      <td>...</td>\n",
       "      <td>...</td>\n",
       "      <td>...</td>\n",
       "      <td>...</td>\n",
       "      <td>...</td>\n",
       "      <td>...</td>\n",
       "      <td>...</td>\n",
       "      <td>...</td>\n",
       "      <td>...</td>\n",
       "      <td>...</td>\n",
       "      <td>...</td>\n",
       "      <td>...</td>\n",
       "      <td>...</td>\n",
       "      <td>...</td>\n",
       "    </tr>\n",
       "    <tr>\n",
       "      <th>2102</th>\n",
       "      <td>Female</td>\n",
       "      <td>20.976842</td>\n",
       "      <td>1.710730</td>\n",
       "      <td>yes</td>\n",
       "      <td>yes</td>\n",
       "      <td>3.0</td>\n",
       "      <td>3.0</td>\n",
       "      <td>Sometimes</td>\n",
       "      <td>no</td>\n",
       "      <td>1.728139</td>\n",
       "      <td>no</td>\n",
       "      <td>1.676269</td>\n",
       "      <td>0.906247</td>\n",
       "      <td>Sometimes</td>\n",
       "      <td>Public_Transportation</td>\n",
       "      <td>Obesity_III</td>\n",
       "    </tr>\n",
       "    <tr>\n",
       "      <th>2103</th>\n",
       "      <td>Female</td>\n",
       "      <td>21.982942</td>\n",
       "      <td>1.748584</td>\n",
       "      <td>yes</td>\n",
       "      <td>yes</td>\n",
       "      <td>3.0</td>\n",
       "      <td>3.0</td>\n",
       "      <td>Sometimes</td>\n",
       "      <td>no</td>\n",
       "      <td>2.005130</td>\n",
       "      <td>no</td>\n",
       "      <td>1.341390</td>\n",
       "      <td>0.599270</td>\n",
       "      <td>Sometimes</td>\n",
       "      <td>Public_Transportation</td>\n",
       "      <td>Obesity_III</td>\n",
       "    </tr>\n",
       "    <tr>\n",
       "      <th>2104</th>\n",
       "      <td>Female</td>\n",
       "      <td>22.524036</td>\n",
       "      <td>1.752206</td>\n",
       "      <td>yes</td>\n",
       "      <td>yes</td>\n",
       "      <td>3.0</td>\n",
       "      <td>3.0</td>\n",
       "      <td>Sometimes</td>\n",
       "      <td>no</td>\n",
       "      <td>2.054193</td>\n",
       "      <td>no</td>\n",
       "      <td>1.414209</td>\n",
       "      <td>0.646288</td>\n",
       "      <td>Sometimes</td>\n",
       "      <td>Public_Transportation</td>\n",
       "      <td>Obesity_III</td>\n",
       "    </tr>\n",
       "    <tr>\n",
       "      <th>2105</th>\n",
       "      <td>Female</td>\n",
       "      <td>24.361936</td>\n",
       "      <td>1.739450</td>\n",
       "      <td>yes</td>\n",
       "      <td>yes</td>\n",
       "      <td>3.0</td>\n",
       "      <td>3.0</td>\n",
       "      <td>Sometimes</td>\n",
       "      <td>no</td>\n",
       "      <td>2.852339</td>\n",
       "      <td>no</td>\n",
       "      <td>1.139107</td>\n",
       "      <td>0.586035</td>\n",
       "      <td>Sometimes</td>\n",
       "      <td>Public_Transportation</td>\n",
       "      <td>Obesity_III</td>\n",
       "    </tr>\n",
       "    <tr>\n",
       "      <th>2106</th>\n",
       "      <td>Female</td>\n",
       "      <td>23.664709</td>\n",
       "      <td>1.738836</td>\n",
       "      <td>yes</td>\n",
       "      <td>yes</td>\n",
       "      <td>3.0</td>\n",
       "      <td>3.0</td>\n",
       "      <td>Sometimes</td>\n",
       "      <td>no</td>\n",
       "      <td>2.863513</td>\n",
       "      <td>no</td>\n",
       "      <td>1.026452</td>\n",
       "      <td>0.714137</td>\n",
       "      <td>Sometimes</td>\n",
       "      <td>Public_Transportation</td>\n",
       "      <td>Obesity_III</td>\n",
       "    </tr>\n",
       "  </tbody>\n",
       "</table>\n",
       "<p>2107 rows × 16 columns</p>\n",
       "</div>"
      ],
      "text/plain": [
       "      Gender        Age    Height family_history_with_overweight FAVC  FCVC  \\\n",
       "0     Female  21.000000  1.620000                            yes   no   2.0   \n",
       "1     Female  21.000000  1.520000                            yes   no   3.0   \n",
       "2       Male  23.000000  1.800000                            yes   no   2.0   \n",
       "3       Male  27.000000  1.800000                             no   no   3.0   \n",
       "4       Male  22.000000  1.780000                             no   no   2.0   \n",
       "...      ...        ...       ...                            ...  ...   ...   \n",
       "2102  Female  20.976842  1.710730                            yes  yes   3.0   \n",
       "2103  Female  21.982942  1.748584                            yes  yes   3.0   \n",
       "2104  Female  22.524036  1.752206                            yes  yes   3.0   \n",
       "2105  Female  24.361936  1.739450                            yes  yes   3.0   \n",
       "2106  Female  23.664709  1.738836                            yes  yes   3.0   \n",
       "\n",
       "      NCP       CAEC SMOKE      CH2O  SCC       FAF       TUE        CALC  \\\n",
       "0     3.0  Sometimes    no  2.000000   no  0.000000  1.000000          no   \n",
       "1     3.0  Sometimes   yes  3.000000  yes  3.000000  0.000000   Sometimes   \n",
       "2     3.0  Sometimes    no  2.000000   no  2.000000  1.000000  Frequently   \n",
       "3     3.0  Sometimes    no  2.000000   no  2.000000  0.000000  Frequently   \n",
       "4     1.0  Sometimes    no  2.000000   no  0.000000  0.000000   Sometimes   \n",
       "...   ...        ...   ...       ...  ...       ...       ...         ...   \n",
       "2102  3.0  Sometimes    no  1.728139   no  1.676269  0.906247   Sometimes   \n",
       "2103  3.0  Sometimes    no  2.005130   no  1.341390  0.599270   Sometimes   \n",
       "2104  3.0  Sometimes    no  2.054193   no  1.414209  0.646288   Sometimes   \n",
       "2105  3.0  Sometimes    no  2.852339   no  1.139107  0.586035   Sometimes   \n",
       "2106  3.0  Sometimes    no  2.863513   no  1.026452  0.714137   Sometimes   \n",
       "\n",
       "                     MTRANS        Level  \n",
       "0     Public_Transportation       Normal  \n",
       "1     Public_Transportation       Normal  \n",
       "2     Public_Transportation       Normal  \n",
       "3                   Walking   Overweight  \n",
       "4     Public_Transportation   Overweight  \n",
       "...                     ...          ...  \n",
       "2102  Public_Transportation  Obesity_III  \n",
       "2103  Public_Transportation  Obesity_III  \n",
       "2104  Public_Transportation  Obesity_III  \n",
       "2105  Public_Transportation  Obesity_III  \n",
       "2106  Public_Transportation  Obesity_III  \n",
       "\n",
       "[2107 rows x 16 columns]"
      ]
     },
     "execution_count": 20,
     "metadata": {},
     "output_type": "execute_result"
    }
   ],
   "source": [
    "df = df.drop(columns = ['NObeyesdad', 'BMI', 'Outliers', 'Weight'])\n",
    "df"
   ]
  },
  {
   "cell_type": "code",
   "execution_count": 3,
   "metadata": {},
   "outputs": [
    {
     "name": "stdout",
     "output_type": "stream",
     "text": [
      "Fitting 5 folds for each of 108 candidates, totalling 540 fits\n",
      "Best Parameters: {'max_depth': None, 'min_samples_leaf': 1, 'min_samples_split': 2, 'n_estimators': 50}\n",
      "Best Score: 0.9653352996138734\n"
     ]
    }
   ],
   "source": [
    "#############################\n",
    "# RF Hyper parameter tuning\n",
    "#############################\n",
    "\n",
    "param_grid = {\n",
    "    'n_estimators': [50, 100, 200],\n",
    "    'max_depth': [5, 10, 20, 30],\n",
    "    'min_samples_split': [2, 5, 10],\n",
    "    'min_samples_leaf': [1, 2, 4]\n",
    "}\n",
    "\n",
    "rf = RandomForestClassifier(random_state=42)\n",
    "grid_search = GridSearchCV(estimator=rf, param_grid=param_grid, cv=5, n_jobs=-1, verbose=2)\n",
    "X = df.drop('Level', axis = 1)\n",
    "y = df['Level']\n",
    "X = pd.get_dummies(X)\n",
    "\n",
    "grid_search.fit(X, y)\n",
    "\n",
    "print(\"Best Parameters:\", grid_search.best_params_)\n",
    "print(\"Best Score:\", grid_search.best_score_)\n"
   ]
  },
  {
   "cell_type": "code",
   "execution_count": 4,
   "metadata": {},
   "outputs": [
    {
     "data": {
      "text/html": [
       "<style>#sk-container-id-1 {color: black;background-color: white;}#sk-container-id-1 pre{padding: 0;}#sk-container-id-1 div.sk-toggleable {background-color: white;}#sk-container-id-1 label.sk-toggleable__label {cursor: pointer;display: block;width: 100%;margin-bottom: 0;padding: 0.3em;box-sizing: border-box;text-align: center;}#sk-container-id-1 label.sk-toggleable__label-arrow:before {content: \"▸\";float: left;margin-right: 0.25em;color: #696969;}#sk-container-id-1 label.sk-toggleable__label-arrow:hover:before {color: black;}#sk-container-id-1 div.sk-estimator:hover label.sk-toggleable__label-arrow:before {color: black;}#sk-container-id-1 div.sk-toggleable__content {max-height: 0;max-width: 0;overflow: hidden;text-align: left;background-color: #f0f8ff;}#sk-container-id-1 div.sk-toggleable__content pre {margin: 0.2em;color: black;border-radius: 0.25em;background-color: #f0f8ff;}#sk-container-id-1 input.sk-toggleable__control:checked~div.sk-toggleable__content {max-height: 200px;max-width: 100%;overflow: auto;}#sk-container-id-1 input.sk-toggleable__control:checked~label.sk-toggleable__label-arrow:before {content: \"▾\";}#sk-container-id-1 div.sk-estimator input.sk-toggleable__control:checked~label.sk-toggleable__label {background-color: #d4ebff;}#sk-container-id-1 div.sk-label input.sk-toggleable__control:checked~label.sk-toggleable__label {background-color: #d4ebff;}#sk-container-id-1 input.sk-hidden--visually {border: 0;clip: rect(1px 1px 1px 1px);clip: rect(1px, 1px, 1px, 1px);height: 1px;margin: -1px;overflow: hidden;padding: 0;position: absolute;width: 1px;}#sk-container-id-1 div.sk-estimator {font-family: monospace;background-color: #f0f8ff;border: 1px dotted black;border-radius: 0.25em;box-sizing: border-box;margin-bottom: 0.5em;}#sk-container-id-1 div.sk-estimator:hover {background-color: #d4ebff;}#sk-container-id-1 div.sk-parallel-item::after {content: \"\";width: 100%;border-bottom: 1px solid gray;flex-grow: 1;}#sk-container-id-1 div.sk-label:hover label.sk-toggleable__label {background-color: #d4ebff;}#sk-container-id-1 div.sk-serial::before {content: \"\";position: absolute;border-left: 1px solid gray;box-sizing: border-box;top: 0;bottom: 0;left: 50%;z-index: 0;}#sk-container-id-1 div.sk-serial {display: flex;flex-direction: column;align-items: center;background-color: white;padding-right: 0.2em;padding-left: 0.2em;position: relative;}#sk-container-id-1 div.sk-item {position: relative;z-index: 1;}#sk-container-id-1 div.sk-parallel {display: flex;align-items: stretch;justify-content: center;background-color: white;position: relative;}#sk-container-id-1 div.sk-item::before, #sk-container-id-1 div.sk-parallel-item::before {content: \"\";position: absolute;border-left: 1px solid gray;box-sizing: border-box;top: 0;bottom: 0;left: 50%;z-index: -1;}#sk-container-id-1 div.sk-parallel-item {display: flex;flex-direction: column;z-index: 1;position: relative;background-color: white;}#sk-container-id-1 div.sk-parallel-item:first-child::after {align-self: flex-end;width: 50%;}#sk-container-id-1 div.sk-parallel-item:last-child::after {align-self: flex-start;width: 50%;}#sk-container-id-1 div.sk-parallel-item:only-child::after {width: 0;}#sk-container-id-1 div.sk-dashed-wrapped {border: 1px dashed gray;margin: 0 0.4em 0.5em 0.4em;box-sizing: border-box;padding-bottom: 0.4em;background-color: white;}#sk-container-id-1 div.sk-label label {font-family: monospace;font-weight: bold;display: inline-block;line-height: 1.2em;}#sk-container-id-1 div.sk-label-container {text-align: center;}#sk-container-id-1 div.sk-container {/* jupyter's `normalize.less` sets `[hidden] { display: none; }` but bootstrap.min.css set `[hidden] { display: none !important; }` so we also need the `!important` here to be able to override the default hidden behavior on the sphinx rendered scikit-learn.org. See: https://github.com/scikit-learn/scikit-learn/issues/21755 */display: inline-block !important;position: relative;}#sk-container-id-1 div.sk-text-repr-fallback {display: none;}</style><div id=\"sk-container-id-1\" class=\"sk-top-container\"><div class=\"sk-text-repr-fallback\"><pre>GridSearchCV(cv=5, estimator=RandomForestClassifier(random_state=42), n_jobs=-1,\n",
       "             param_grid={&#x27;max_depth&#x27;: [None, 10, 20, 30],\n",
       "                         &#x27;min_samples_leaf&#x27;: [1, 2, 4],\n",
       "                         &#x27;min_samples_split&#x27;: [2, 5, 10],\n",
       "                         &#x27;n_estimators&#x27;: [50, 100, 200]},\n",
       "             verbose=2)</pre><b>In a Jupyter environment, please rerun this cell to show the HTML representation or trust the notebook. <br />On GitHub, the HTML representation is unable to render, please try loading this page with nbviewer.org.</b></div><div class=\"sk-container\" hidden><div class=\"sk-item sk-dashed-wrapped\"><div class=\"sk-label-container\"><div class=\"sk-label sk-toggleable\"><input class=\"sk-toggleable__control sk-hidden--visually\" id=\"sk-estimator-id-1\" type=\"checkbox\" ><label for=\"sk-estimator-id-1\" class=\"sk-toggleable__label sk-toggleable__label-arrow\">GridSearchCV</label><div class=\"sk-toggleable__content\"><pre>GridSearchCV(cv=5, estimator=RandomForestClassifier(random_state=42), n_jobs=-1,\n",
       "             param_grid={&#x27;max_depth&#x27;: [None, 10, 20, 30],\n",
       "                         &#x27;min_samples_leaf&#x27;: [1, 2, 4],\n",
       "                         &#x27;min_samples_split&#x27;: [2, 5, 10],\n",
       "                         &#x27;n_estimators&#x27;: [50, 100, 200]},\n",
       "             verbose=2)</pre></div></div></div><div class=\"sk-parallel\"><div class=\"sk-parallel-item\"><div class=\"sk-item\"><div class=\"sk-label-container\"><div class=\"sk-label sk-toggleable\"><input class=\"sk-toggleable__control sk-hidden--visually\" id=\"sk-estimator-id-2\" type=\"checkbox\" ><label for=\"sk-estimator-id-2\" class=\"sk-toggleable__label sk-toggleable__label-arrow\">estimator: RandomForestClassifier</label><div class=\"sk-toggleable__content\"><pre>RandomForestClassifier(random_state=42)</pre></div></div></div><div class=\"sk-serial\"><div class=\"sk-item\"><div class=\"sk-estimator sk-toggleable\"><input class=\"sk-toggleable__control sk-hidden--visually\" id=\"sk-estimator-id-3\" type=\"checkbox\" ><label for=\"sk-estimator-id-3\" class=\"sk-toggleable__label sk-toggleable__label-arrow\">RandomForestClassifier</label><div class=\"sk-toggleable__content\"><pre>RandomForestClassifier(random_state=42)</pre></div></div></div></div></div></div></div></div></div></div>"
      ],
      "text/plain": [
       "GridSearchCV(cv=5, estimator=RandomForestClassifier(random_state=42), n_jobs=-1,\n",
       "             param_grid={'max_depth': [None, 10, 20, 30],\n",
       "                         'min_samples_leaf': [1, 2, 4],\n",
       "                         'min_samples_split': [2, 5, 10],\n",
       "                         'n_estimators': [50, 100, 200]},\n",
       "             verbose=2)"
      ]
     },
     "execution_count": 4,
     "metadata": {},
     "output_type": "execute_result"
    }
   ],
   "source": [
    "grid_search"
   ]
  },
  {
   "cell_type": "code",
   "execution_count": null,
   "metadata": {},
   "outputs": [],
   "source": []
  },
  {
   "cell_type": "code",
   "execution_count": 34,
   "metadata": {},
   "outputs": [
    {
     "data": {
      "text/html": [
       "<div>\n",
       "<style scoped>\n",
       "    .dataframe tbody tr th:only-of-type {\n",
       "        vertical-align: middle;\n",
       "    }\n",
       "\n",
       "    .dataframe tbody tr th {\n",
       "        vertical-align: top;\n",
       "    }\n",
       "\n",
       "    .dataframe thead th {\n",
       "        text-align: right;\n",
       "    }\n",
       "</style>\n",
       "<table border=\"1\" class=\"dataframe\">\n",
       "  <thead>\n",
       "    <tr style=\"text-align: right;\">\n",
       "      <th></th>\n",
       "      <th>train_scores</th>\n",
       "      <th>test_scores</th>\n",
       "    </tr>\n",
       "  </thead>\n",
       "  <tbody>\n",
       "    <tr>\n",
       "      <th>0</th>\n",
       "      <td>0.302671</td>\n",
       "      <td>0.286730</td>\n",
       "    </tr>\n",
       "    <tr>\n",
       "      <th>1</th>\n",
       "      <td>0.463501</td>\n",
       "      <td>0.428910</td>\n",
       "    </tr>\n",
       "    <tr>\n",
       "      <th>2</th>\n",
       "      <td>0.583976</td>\n",
       "      <td>0.563981</td>\n",
       "    </tr>\n",
       "    <tr>\n",
       "      <th>3</th>\n",
       "      <td>0.693175</td>\n",
       "      <td>0.637441</td>\n",
       "    </tr>\n",
       "    <tr>\n",
       "      <th>4</th>\n",
       "      <td>0.756083</td>\n",
       "      <td>0.680095</td>\n",
       "    </tr>\n",
       "    <tr>\n",
       "      <th>5</th>\n",
       "      <td>0.813056</td>\n",
       "      <td>0.736967</td>\n",
       "    </tr>\n",
       "    <tr>\n",
       "      <th>6</th>\n",
       "      <td>0.864688</td>\n",
       "      <td>0.753555</td>\n",
       "    </tr>\n",
       "    <tr>\n",
       "      <th>7</th>\n",
       "      <td>0.897923</td>\n",
       "      <td>0.770142</td>\n",
       "    </tr>\n",
       "    <tr>\n",
       "      <th>8</th>\n",
       "      <td>0.937685</td>\n",
       "      <td>0.786730</td>\n",
       "    </tr>\n",
       "    <tr>\n",
       "      <th>9</th>\n",
       "      <td>0.965579</td>\n",
       "      <td>0.810427</td>\n",
       "    </tr>\n",
       "    <tr>\n",
       "      <th>10</th>\n",
       "      <td>0.980415</td>\n",
       "      <td>0.815166</td>\n",
       "    </tr>\n",
       "    <tr>\n",
       "      <th>11</th>\n",
       "      <td>0.988131</td>\n",
       "      <td>0.822275</td>\n",
       "    </tr>\n",
       "    <tr>\n",
       "      <th>12</th>\n",
       "      <td>0.992285</td>\n",
       "      <td>0.848341</td>\n",
       "    </tr>\n",
       "    <tr>\n",
       "      <th>13</th>\n",
       "      <td>0.995846</td>\n",
       "      <td>0.841232</td>\n",
       "    </tr>\n",
       "    <tr>\n",
       "      <th>14</th>\n",
       "      <td>0.998220</td>\n",
       "      <td>0.843602</td>\n",
       "    </tr>\n",
       "    <tr>\n",
       "      <th>15</th>\n",
       "      <td>1.000000</td>\n",
       "      <td>0.843602</td>\n",
       "    </tr>\n",
       "    <tr>\n",
       "      <th>16</th>\n",
       "      <td>1.000000</td>\n",
       "      <td>0.848341</td>\n",
       "    </tr>\n",
       "    <tr>\n",
       "      <th>17</th>\n",
       "      <td>1.000000</td>\n",
       "      <td>0.848341</td>\n",
       "    </tr>\n",
       "    <tr>\n",
       "      <th>18</th>\n",
       "      <td>1.000000</td>\n",
       "      <td>0.845972</td>\n",
       "    </tr>\n",
       "  </tbody>\n",
       "</table>\n",
       "</div>"
      ],
      "text/plain": [
       "    train_scores  test_scores\n",
       "0       0.302671     0.286730\n",
       "1       0.463501     0.428910\n",
       "2       0.583976     0.563981\n",
       "3       0.693175     0.637441\n",
       "4       0.756083     0.680095\n",
       "5       0.813056     0.736967\n",
       "6       0.864688     0.753555\n",
       "7       0.897923     0.770142\n",
       "8       0.937685     0.786730\n",
       "9       0.965579     0.810427\n",
       "10      0.980415     0.815166\n",
       "11      0.988131     0.822275\n",
       "12      0.992285     0.848341\n",
       "13      0.995846     0.841232\n",
       "14      0.998220     0.843602\n",
       "15      1.000000     0.843602\n",
       "16      1.000000     0.848341\n",
       "17      1.000000     0.848341\n",
       "18      1.000000     0.845972"
      ]
     },
     "execution_count": 34,
     "metadata": {},
     "output_type": "execute_result"
    }
   ],
   "source": [
    "###################\n",
    "# Random Forest   #\n",
    "###################\n",
    "\n",
    "X = df.drop('Level', axis = 1)\n",
    "y = df['Level']\n",
    "X = pd.get_dummies(X)\n",
    "\n",
    "X_train, X_test, y_train, y_test = train_test_split(X, y, test_size=0.2, random_state=42)\n",
    "rf = RandomForestClassifier()\n",
    "\n",
    "cross_val_score(rf, X_train, y_train, cv=10)\n",
    "\n",
    "train_scores = []\n",
    "test_scores = []\n",
    "\n",
    "\n",
    "for i in range(1, 20, 1):\n",
    "\n",
    "    rf = RandomForestClassifier(max_depth= i )\n",
    "    rf.fit(X_train, y_train)\n",
    "\n",
    "\n",
    "\n",
    "\n",
    "    train_scores.append(accuracy_score(y_train, rf.predict(X_train)))\n",
    "\n",
    "    y_pred = rf.predict(X_test)\n",
    "    test_scores.append(accuracy_score(y_test, y_pred))\n",
    "\n",
    "\n",
    "\n",
    "scores = pd.DataFrame({'train_scores': train_scores, 'test_scores': test_scores})\n",
    "\n",
    "scores"
   ]
  },
  {
   "cell_type": "code",
   "execution_count": 35,
   "metadata": {},
   "outputs": [
    {
     "data": {
      "text/html": [
       "<div>\n",
       "<style scoped>\n",
       "    .dataframe tbody tr th:only-of-type {\n",
       "        vertical-align: middle;\n",
       "    }\n",
       "\n",
       "    .dataframe tbody tr th {\n",
       "        vertical-align: top;\n",
       "    }\n",
       "\n",
       "    .dataframe thead th {\n",
       "        text-align: right;\n",
       "    }\n",
       "</style>\n",
       "<table border=\"1\" class=\"dataframe\">\n",
       "  <thead>\n",
       "    <tr style=\"text-align: right;\">\n",
       "      <th></th>\n",
       "      <th>train_scores</th>\n",
       "      <th>test_scores</th>\n",
       "      <th>index</th>\n",
       "    </tr>\n",
       "  </thead>\n",
       "  <tbody>\n",
       "    <tr>\n",
       "      <th>0</th>\n",
       "      <td>0.302671</td>\n",
       "      <td>0.286730</td>\n",
       "      <td>0</td>\n",
       "    </tr>\n",
       "    <tr>\n",
       "      <th>1</th>\n",
       "      <td>0.463501</td>\n",
       "      <td>0.428910</td>\n",
       "      <td>1</td>\n",
       "    </tr>\n",
       "    <tr>\n",
       "      <th>2</th>\n",
       "      <td>0.583976</td>\n",
       "      <td>0.563981</td>\n",
       "      <td>2</td>\n",
       "    </tr>\n",
       "    <tr>\n",
       "      <th>3</th>\n",
       "      <td>0.693175</td>\n",
       "      <td>0.637441</td>\n",
       "      <td>3</td>\n",
       "    </tr>\n",
       "    <tr>\n",
       "      <th>4</th>\n",
       "      <td>0.756083</td>\n",
       "      <td>0.680095</td>\n",
       "      <td>4</td>\n",
       "    </tr>\n",
       "    <tr>\n",
       "      <th>5</th>\n",
       "      <td>0.813056</td>\n",
       "      <td>0.736967</td>\n",
       "      <td>5</td>\n",
       "    </tr>\n",
       "    <tr>\n",
       "      <th>6</th>\n",
       "      <td>0.864688</td>\n",
       "      <td>0.753555</td>\n",
       "      <td>6</td>\n",
       "    </tr>\n",
       "    <tr>\n",
       "      <th>7</th>\n",
       "      <td>0.897923</td>\n",
       "      <td>0.770142</td>\n",
       "      <td>7</td>\n",
       "    </tr>\n",
       "    <tr>\n",
       "      <th>8</th>\n",
       "      <td>0.937685</td>\n",
       "      <td>0.786730</td>\n",
       "      <td>8</td>\n",
       "    </tr>\n",
       "    <tr>\n",
       "      <th>9</th>\n",
       "      <td>0.965579</td>\n",
       "      <td>0.810427</td>\n",
       "      <td>9</td>\n",
       "    </tr>\n",
       "    <tr>\n",
       "      <th>10</th>\n",
       "      <td>0.980415</td>\n",
       "      <td>0.815166</td>\n",
       "      <td>10</td>\n",
       "    </tr>\n",
       "    <tr>\n",
       "      <th>11</th>\n",
       "      <td>0.988131</td>\n",
       "      <td>0.822275</td>\n",
       "      <td>11</td>\n",
       "    </tr>\n",
       "    <tr>\n",
       "      <th>12</th>\n",
       "      <td>0.992285</td>\n",
       "      <td>0.848341</td>\n",
       "      <td>12</td>\n",
       "    </tr>\n",
       "    <tr>\n",
       "      <th>13</th>\n",
       "      <td>0.995846</td>\n",
       "      <td>0.841232</td>\n",
       "      <td>13</td>\n",
       "    </tr>\n",
       "    <tr>\n",
       "      <th>14</th>\n",
       "      <td>0.998220</td>\n",
       "      <td>0.843602</td>\n",
       "      <td>14</td>\n",
       "    </tr>\n",
       "    <tr>\n",
       "      <th>15</th>\n",
       "      <td>1.000000</td>\n",
       "      <td>0.843602</td>\n",
       "      <td>15</td>\n",
       "    </tr>\n",
       "    <tr>\n",
       "      <th>16</th>\n",
       "      <td>1.000000</td>\n",
       "      <td>0.848341</td>\n",
       "      <td>16</td>\n",
       "    </tr>\n",
       "    <tr>\n",
       "      <th>17</th>\n",
       "      <td>1.000000</td>\n",
       "      <td>0.848341</td>\n",
       "      <td>17</td>\n",
       "    </tr>\n",
       "    <tr>\n",
       "      <th>18</th>\n",
       "      <td>1.000000</td>\n",
       "      <td>0.845972</td>\n",
       "      <td>18</td>\n",
       "    </tr>\n",
       "  </tbody>\n",
       "</table>\n",
       "</div>"
      ],
      "text/plain": [
       "    train_scores  test_scores  index\n",
       "0       0.302671     0.286730      0\n",
       "1       0.463501     0.428910      1\n",
       "2       0.583976     0.563981      2\n",
       "3       0.693175     0.637441      3\n",
       "4       0.756083     0.680095      4\n",
       "5       0.813056     0.736967      5\n",
       "6       0.864688     0.753555      6\n",
       "7       0.897923     0.770142      7\n",
       "8       0.937685     0.786730      8\n",
       "9       0.965579     0.810427      9\n",
       "10      0.980415     0.815166     10\n",
       "11      0.988131     0.822275     11\n",
       "12      0.992285     0.848341     12\n",
       "13      0.995846     0.841232     13\n",
       "14      0.998220     0.843602     14\n",
       "15      1.000000     0.843602     15\n",
       "16      1.000000     0.848341     16\n",
       "17      1.000000     0.848341     17\n",
       "18      1.000000     0.845972     18"
      ]
     },
     "execution_count": 35,
     "metadata": {},
     "output_type": "execute_result"
    }
   ],
   "source": [
    "scores['index'] = scores.index\n",
    "scores"
   ]
  },
  {
   "cell_type": "code",
   "execution_count": 37,
   "metadata": {},
   "outputs": [],
   "source": [
    "scores= pd.melt(scores, id_vars = ['index'])"
   ]
  },
  {
   "cell_type": "code",
   "execution_count": 38,
   "metadata": {},
   "outputs": [
    {
     "data": {
      "text/html": [
       "<div>\n",
       "<style scoped>\n",
       "    .dataframe tbody tr th:only-of-type {\n",
       "        vertical-align: middle;\n",
       "    }\n",
       "\n",
       "    .dataframe tbody tr th {\n",
       "        vertical-align: top;\n",
       "    }\n",
       "\n",
       "    .dataframe thead th {\n",
       "        text-align: right;\n",
       "    }\n",
       "</style>\n",
       "<table border=\"1\" class=\"dataframe\">\n",
       "  <thead>\n",
       "    <tr style=\"text-align: right;\">\n",
       "      <th></th>\n",
       "      <th>index</th>\n",
       "      <th>variable</th>\n",
       "      <th>value</th>\n",
       "    </tr>\n",
       "  </thead>\n",
       "  <tbody>\n",
       "    <tr>\n",
       "      <th>0</th>\n",
       "      <td>0</td>\n",
       "      <td>train_scores</td>\n",
       "      <td>0.302671</td>\n",
       "    </tr>\n",
       "    <tr>\n",
       "      <th>1</th>\n",
       "      <td>1</td>\n",
       "      <td>train_scores</td>\n",
       "      <td>0.463501</td>\n",
       "    </tr>\n",
       "  </tbody>\n",
       "</table>\n",
       "</div>"
      ],
      "text/plain": [
       "   index      variable     value\n",
       "0      0  train_scores  0.302671\n",
       "1      1  train_scores  0.463501"
      ]
     },
     "execution_count": 38,
     "metadata": {},
     "output_type": "execute_result"
    }
   ],
   "source": [
    "scores.head(2)"
   ]
  },
  {
   "cell_type": "code",
   "execution_count": 41,
   "metadata": {},
   "outputs": [
    {
     "data": {
      "application/vnd.plotly.v1+json": {
       "config": {
        "plotlyServerURL": "https://plot.ly"
       },
       "data": [
        {
         "hovertemplate": "variable=train_scores<br>index=%{x}<br>value=%{y}<extra></extra>",
         "legendgroup": "train_scores",
         "marker": {
          "color": "#636efa",
          "symbol": "circle"
         },
         "mode": "markers",
         "name": "train_scores",
         "orientation": "v",
         "showlegend": true,
         "type": "scatter",
         "x": [
          0,
          1,
          2,
          3,
          4,
          5,
          6,
          7,
          8,
          9,
          10,
          11,
          12,
          13,
          14,
          15,
          16,
          17,
          18
         ],
         "xaxis": "x",
         "y": [
          0.3026706231454006,
          0.4635014836795252,
          0.5839762611275965,
          0.6931750741839763,
          0.7560830860534125,
          0.8130563798219584,
          0.8646884272997033,
          0.8979228486646884,
          0.9376854599406528,
          0.9655786350148368,
          0.9804154302670623,
          0.9881305637982196,
          0.9922848664688427,
          0.9958456973293769,
          0.9982195845697329,
          1,
          1,
          1,
          1
         ],
         "yaxis": "y"
        },
        {
         "hovertemplate": "variable=test_scores<br>index=%{x}<br>value=%{y}<extra></extra>",
         "legendgroup": "test_scores",
         "marker": {
          "color": "#EF553B",
          "symbol": "circle"
         },
         "mode": "markers",
         "name": "test_scores",
         "orientation": "v",
         "showlegend": true,
         "type": "scatter",
         "x": [
          0,
          1,
          2,
          3,
          4,
          5,
          6,
          7,
          8,
          9,
          10,
          11,
          12,
          13,
          14,
          15,
          16,
          17,
          18
         ],
         "xaxis": "x",
         "y": [
          0.28672985781990523,
          0.42890995260663506,
          0.5639810426540285,
          0.6374407582938388,
          0.6800947867298578,
          0.7369668246445498,
          0.7535545023696683,
          0.7701421800947867,
          0.7867298578199052,
          0.8104265402843602,
          0.8151658767772512,
          0.8222748815165877,
          0.8483412322274881,
          0.8412322274881516,
          0.8436018957345972,
          0.8436018957345972,
          0.8483412322274881,
          0.8483412322274881,
          0.8459715639810427
         ],
         "yaxis": "y"
        }
       ],
       "layout": {
        "legend": {
         "title": {
          "text": "variable"
         },
         "tracegroupgap": 0
        },
        "margin": {
         "t": 60
        },
        "template": {
         "data": {
          "bar": [
           {
            "error_x": {
             "color": "#2a3f5f"
            },
            "error_y": {
             "color": "#2a3f5f"
            },
            "marker": {
             "line": {
              "color": "#E5ECF6",
              "width": 0.5
             },
             "pattern": {
              "fillmode": "overlay",
              "size": 10,
              "solidity": 0.2
             }
            },
            "type": "bar"
           }
          ],
          "barpolar": [
           {
            "marker": {
             "line": {
              "color": "#E5ECF6",
              "width": 0.5
             },
             "pattern": {
              "fillmode": "overlay",
              "size": 10,
              "solidity": 0.2
             }
            },
            "type": "barpolar"
           }
          ],
          "carpet": [
           {
            "aaxis": {
             "endlinecolor": "#2a3f5f",
             "gridcolor": "white",
             "linecolor": "white",
             "minorgridcolor": "white",
             "startlinecolor": "#2a3f5f"
            },
            "baxis": {
             "endlinecolor": "#2a3f5f",
             "gridcolor": "white",
             "linecolor": "white",
             "minorgridcolor": "white",
             "startlinecolor": "#2a3f5f"
            },
            "type": "carpet"
           }
          ],
          "choropleth": [
           {
            "colorbar": {
             "outlinewidth": 0,
             "ticks": ""
            },
            "type": "choropleth"
           }
          ],
          "contour": [
           {
            "colorbar": {
             "outlinewidth": 0,
             "ticks": ""
            },
            "colorscale": [
             [
              0,
              "#0d0887"
             ],
             [
              0.1111111111111111,
              "#46039f"
             ],
             [
              0.2222222222222222,
              "#7201a8"
             ],
             [
              0.3333333333333333,
              "#9c179e"
             ],
             [
              0.4444444444444444,
              "#bd3786"
             ],
             [
              0.5555555555555556,
              "#d8576b"
             ],
             [
              0.6666666666666666,
              "#ed7953"
             ],
             [
              0.7777777777777778,
              "#fb9f3a"
             ],
             [
              0.8888888888888888,
              "#fdca26"
             ],
             [
              1,
              "#f0f921"
             ]
            ],
            "type": "contour"
           }
          ],
          "contourcarpet": [
           {
            "colorbar": {
             "outlinewidth": 0,
             "ticks": ""
            },
            "type": "contourcarpet"
           }
          ],
          "heatmap": [
           {
            "colorbar": {
             "outlinewidth": 0,
             "ticks": ""
            },
            "colorscale": [
             [
              0,
              "#0d0887"
             ],
             [
              0.1111111111111111,
              "#46039f"
             ],
             [
              0.2222222222222222,
              "#7201a8"
             ],
             [
              0.3333333333333333,
              "#9c179e"
             ],
             [
              0.4444444444444444,
              "#bd3786"
             ],
             [
              0.5555555555555556,
              "#d8576b"
             ],
             [
              0.6666666666666666,
              "#ed7953"
             ],
             [
              0.7777777777777778,
              "#fb9f3a"
             ],
             [
              0.8888888888888888,
              "#fdca26"
             ],
             [
              1,
              "#f0f921"
             ]
            ],
            "type": "heatmap"
           }
          ],
          "heatmapgl": [
           {
            "colorbar": {
             "outlinewidth": 0,
             "ticks": ""
            },
            "colorscale": [
             [
              0,
              "#0d0887"
             ],
             [
              0.1111111111111111,
              "#46039f"
             ],
             [
              0.2222222222222222,
              "#7201a8"
             ],
             [
              0.3333333333333333,
              "#9c179e"
             ],
             [
              0.4444444444444444,
              "#bd3786"
             ],
             [
              0.5555555555555556,
              "#d8576b"
             ],
             [
              0.6666666666666666,
              "#ed7953"
             ],
             [
              0.7777777777777778,
              "#fb9f3a"
             ],
             [
              0.8888888888888888,
              "#fdca26"
             ],
             [
              1,
              "#f0f921"
             ]
            ],
            "type": "heatmapgl"
           }
          ],
          "histogram": [
           {
            "marker": {
             "pattern": {
              "fillmode": "overlay",
              "size": 10,
              "solidity": 0.2
             }
            },
            "type": "histogram"
           }
          ],
          "histogram2d": [
           {
            "colorbar": {
             "outlinewidth": 0,
             "ticks": ""
            },
            "colorscale": [
             [
              0,
              "#0d0887"
             ],
             [
              0.1111111111111111,
              "#46039f"
             ],
             [
              0.2222222222222222,
              "#7201a8"
             ],
             [
              0.3333333333333333,
              "#9c179e"
             ],
             [
              0.4444444444444444,
              "#bd3786"
             ],
             [
              0.5555555555555556,
              "#d8576b"
             ],
             [
              0.6666666666666666,
              "#ed7953"
             ],
             [
              0.7777777777777778,
              "#fb9f3a"
             ],
             [
              0.8888888888888888,
              "#fdca26"
             ],
             [
              1,
              "#f0f921"
             ]
            ],
            "type": "histogram2d"
           }
          ],
          "histogram2dcontour": [
           {
            "colorbar": {
             "outlinewidth": 0,
             "ticks": ""
            },
            "colorscale": [
             [
              0,
              "#0d0887"
             ],
             [
              0.1111111111111111,
              "#46039f"
             ],
             [
              0.2222222222222222,
              "#7201a8"
             ],
             [
              0.3333333333333333,
              "#9c179e"
             ],
             [
              0.4444444444444444,
              "#bd3786"
             ],
             [
              0.5555555555555556,
              "#d8576b"
             ],
             [
              0.6666666666666666,
              "#ed7953"
             ],
             [
              0.7777777777777778,
              "#fb9f3a"
             ],
             [
              0.8888888888888888,
              "#fdca26"
             ],
             [
              1,
              "#f0f921"
             ]
            ],
            "type": "histogram2dcontour"
           }
          ],
          "mesh3d": [
           {
            "colorbar": {
             "outlinewidth": 0,
             "ticks": ""
            },
            "type": "mesh3d"
           }
          ],
          "parcoords": [
           {
            "line": {
             "colorbar": {
              "outlinewidth": 0,
              "ticks": ""
             }
            },
            "type": "parcoords"
           }
          ],
          "pie": [
           {
            "automargin": true,
            "type": "pie"
           }
          ],
          "scatter": [
           {
            "fillpattern": {
             "fillmode": "overlay",
             "size": 10,
             "solidity": 0.2
            },
            "type": "scatter"
           }
          ],
          "scatter3d": [
           {
            "line": {
             "colorbar": {
              "outlinewidth": 0,
              "ticks": ""
             }
            },
            "marker": {
             "colorbar": {
              "outlinewidth": 0,
              "ticks": ""
             }
            },
            "type": "scatter3d"
           }
          ],
          "scattercarpet": [
           {
            "marker": {
             "colorbar": {
              "outlinewidth": 0,
              "ticks": ""
             }
            },
            "type": "scattercarpet"
           }
          ],
          "scattergeo": [
           {
            "marker": {
             "colorbar": {
              "outlinewidth": 0,
              "ticks": ""
             }
            },
            "type": "scattergeo"
           }
          ],
          "scattergl": [
           {
            "marker": {
             "colorbar": {
              "outlinewidth": 0,
              "ticks": ""
             }
            },
            "type": "scattergl"
           }
          ],
          "scattermapbox": [
           {
            "marker": {
             "colorbar": {
              "outlinewidth": 0,
              "ticks": ""
             }
            },
            "type": "scattermapbox"
           }
          ],
          "scatterpolar": [
           {
            "marker": {
             "colorbar": {
              "outlinewidth": 0,
              "ticks": ""
             }
            },
            "type": "scatterpolar"
           }
          ],
          "scatterpolargl": [
           {
            "marker": {
             "colorbar": {
              "outlinewidth": 0,
              "ticks": ""
             }
            },
            "type": "scatterpolargl"
           }
          ],
          "scatterternary": [
           {
            "marker": {
             "colorbar": {
              "outlinewidth": 0,
              "ticks": ""
             }
            },
            "type": "scatterternary"
           }
          ],
          "surface": [
           {
            "colorbar": {
             "outlinewidth": 0,
             "ticks": ""
            },
            "colorscale": [
             [
              0,
              "#0d0887"
             ],
             [
              0.1111111111111111,
              "#46039f"
             ],
             [
              0.2222222222222222,
              "#7201a8"
             ],
             [
              0.3333333333333333,
              "#9c179e"
             ],
             [
              0.4444444444444444,
              "#bd3786"
             ],
             [
              0.5555555555555556,
              "#d8576b"
             ],
             [
              0.6666666666666666,
              "#ed7953"
             ],
             [
              0.7777777777777778,
              "#fb9f3a"
             ],
             [
              0.8888888888888888,
              "#fdca26"
             ],
             [
              1,
              "#f0f921"
             ]
            ],
            "type": "surface"
           }
          ],
          "table": [
           {
            "cells": {
             "fill": {
              "color": "#EBF0F8"
             },
             "line": {
              "color": "white"
             }
            },
            "header": {
             "fill": {
              "color": "#C8D4E3"
             },
             "line": {
              "color": "white"
             }
            },
            "type": "table"
           }
          ]
         },
         "layout": {
          "annotationdefaults": {
           "arrowcolor": "#2a3f5f",
           "arrowhead": 0,
           "arrowwidth": 1
          },
          "autotypenumbers": "strict",
          "coloraxis": {
           "colorbar": {
            "outlinewidth": 0,
            "ticks": ""
           }
          },
          "colorscale": {
           "diverging": [
            [
             0,
             "#8e0152"
            ],
            [
             0.1,
             "#c51b7d"
            ],
            [
             0.2,
             "#de77ae"
            ],
            [
             0.3,
             "#f1b6da"
            ],
            [
             0.4,
             "#fde0ef"
            ],
            [
             0.5,
             "#f7f7f7"
            ],
            [
             0.6,
             "#e6f5d0"
            ],
            [
             0.7,
             "#b8e186"
            ],
            [
             0.8,
             "#7fbc41"
            ],
            [
             0.9,
             "#4d9221"
            ],
            [
             1,
             "#276419"
            ]
           ],
           "sequential": [
            [
             0,
             "#0d0887"
            ],
            [
             0.1111111111111111,
             "#46039f"
            ],
            [
             0.2222222222222222,
             "#7201a8"
            ],
            [
             0.3333333333333333,
             "#9c179e"
            ],
            [
             0.4444444444444444,
             "#bd3786"
            ],
            [
             0.5555555555555556,
             "#d8576b"
            ],
            [
             0.6666666666666666,
             "#ed7953"
            ],
            [
             0.7777777777777778,
             "#fb9f3a"
            ],
            [
             0.8888888888888888,
             "#fdca26"
            ],
            [
             1,
             "#f0f921"
            ]
           ],
           "sequentialminus": [
            [
             0,
             "#0d0887"
            ],
            [
             0.1111111111111111,
             "#46039f"
            ],
            [
             0.2222222222222222,
             "#7201a8"
            ],
            [
             0.3333333333333333,
             "#9c179e"
            ],
            [
             0.4444444444444444,
             "#bd3786"
            ],
            [
             0.5555555555555556,
             "#d8576b"
            ],
            [
             0.6666666666666666,
             "#ed7953"
            ],
            [
             0.7777777777777778,
             "#fb9f3a"
            ],
            [
             0.8888888888888888,
             "#fdca26"
            ],
            [
             1,
             "#f0f921"
            ]
           ]
          },
          "colorway": [
           "#636efa",
           "#EF553B",
           "#00cc96",
           "#ab63fa",
           "#FFA15A",
           "#19d3f3",
           "#FF6692",
           "#B6E880",
           "#FF97FF",
           "#FECB52"
          ],
          "font": {
           "color": "#2a3f5f"
          },
          "geo": {
           "bgcolor": "white",
           "lakecolor": "white",
           "landcolor": "#E5ECF6",
           "showlakes": true,
           "showland": true,
           "subunitcolor": "white"
          },
          "hoverlabel": {
           "align": "left"
          },
          "hovermode": "closest",
          "mapbox": {
           "style": "light"
          },
          "paper_bgcolor": "white",
          "plot_bgcolor": "#E5ECF6",
          "polar": {
           "angularaxis": {
            "gridcolor": "white",
            "linecolor": "white",
            "ticks": ""
           },
           "bgcolor": "#E5ECF6",
           "radialaxis": {
            "gridcolor": "white",
            "linecolor": "white",
            "ticks": ""
           }
          },
          "scene": {
           "xaxis": {
            "backgroundcolor": "#E5ECF6",
            "gridcolor": "white",
            "gridwidth": 2,
            "linecolor": "white",
            "showbackground": true,
            "ticks": "",
            "zerolinecolor": "white"
           },
           "yaxis": {
            "backgroundcolor": "#E5ECF6",
            "gridcolor": "white",
            "gridwidth": 2,
            "linecolor": "white",
            "showbackground": true,
            "ticks": "",
            "zerolinecolor": "white"
           },
           "zaxis": {
            "backgroundcolor": "#E5ECF6",
            "gridcolor": "white",
            "gridwidth": 2,
            "linecolor": "white",
            "showbackground": true,
            "ticks": "",
            "zerolinecolor": "white"
           }
          },
          "shapedefaults": {
           "line": {
            "color": "#2a3f5f"
           }
          },
          "ternary": {
           "aaxis": {
            "gridcolor": "white",
            "linecolor": "white",
            "ticks": ""
           },
           "baxis": {
            "gridcolor": "white",
            "linecolor": "white",
            "ticks": ""
           },
           "bgcolor": "#E5ECF6",
           "caxis": {
            "gridcolor": "white",
            "linecolor": "white",
            "ticks": ""
           }
          },
          "title": {
           "x": 0.05
          },
          "xaxis": {
           "automargin": true,
           "gridcolor": "white",
           "linecolor": "white",
           "ticks": "",
           "title": {
            "standoff": 15
           },
           "zerolinecolor": "white",
           "zerolinewidth": 2
          },
          "yaxis": {
           "automargin": true,
           "gridcolor": "white",
           "linecolor": "white",
           "ticks": "",
           "title": {
            "standoff": 15
           },
           "zerolinecolor": "white",
           "zerolinewidth": 2
          }
         }
        },
        "xaxis": {
         "anchor": "y",
         "domain": [
          0,
          1
         ],
         "title": {
          "text": "index"
         }
        },
        "yaxis": {
         "anchor": "x",
         "domain": [
          0,
          1
         ],
         "title": {
          "text": "value"
         }
        }
       }
      }
     },
     "metadata": {},
     "output_type": "display_data"
    }
   ],
   "source": [
    "px.scatter(scores, x = 'index', y = 'value', color = 'variable' )"
   ]
  },
  {
   "cell_type": "code",
   "execution_count": null,
   "metadata": {},
   "outputs": [],
   "source": []
  },
  {
   "cell_type": "code",
   "execution_count": null,
   "metadata": {},
   "outputs": [],
   "source": []
  },
  {
   "cell_type": "code",
   "execution_count": 24,
   "metadata": {},
   "outputs": [
    {
     "data": {
      "text/plain": [
       "0.8436018957345972"
      ]
     },
     "execution_count": 24,
     "metadata": {},
     "output_type": "execute_result"
    }
   ],
   "source": []
  },
  {
   "cell_type": "code",
   "execution_count": 15,
   "metadata": {},
   "outputs": [],
   "source": [
    "importances = rf.feature_importances_"
   ]
  },
  {
   "cell_type": "code",
   "execution_count": 16,
   "metadata": {},
   "outputs": [
    {
     "data": {
      "text/plain": [
       "array([0.13231014, 0.11648281, 0.11478614, 0.07578544, 0.082538  ,\n",
       "       0.08001646, 0.07979055, 0.02792584, 0.03173216, 0.02853158,\n",
       "       0.02579166, 0.01305655, 0.01416116, 0.00476234, 0.02323114,\n",
       "       0.02392751, 0.00403693, 0.00342581, 0.00295132, 0.00604144,\n",
       "       0.00609808, 0.00014894, 0.00497074, 0.02566908, 0.02353556,\n",
       "       0.02038004, 0.00057571, 0.00106349, 0.02119898, 0.0050744 ])"
      ]
     },
     "execution_count": 16,
     "metadata": {},
     "output_type": "execute_result"
    }
   ],
   "source": [
    "importances"
   ]
  },
  {
   "cell_type": "code",
   "execution_count": 17,
   "metadata": {},
   "outputs": [
    {
     "data": {
      "image/png": "[encoded data removed]",
      "text/plain": [
       "<Figure size 640x480 with 1 Axes>"
      ]
     },
     "metadata": {},
     "output_type": "display_data"
    }
   ],
   "source": [
    "feature_names = X_train.columns\n",
    "#std = np.std([tree.feature_importances_ for tree in forest.estimators_], axis=0)\n",
    "\n",
    "forest_importances = pd.Series(importances, index=feature_names)\n",
    "\n",
    "fig, ax = plt.subplots()\n",
    "forest_importances.plot.bar( ax=ax)\n",
    "\n",
    "ax.set_title(\"Feature importances using MDI\")\n",
    "ax.set_ylabel(\"Mean decrease in impurity\")\n",
    "fig.tight_layout()"
   ]
  },
  {
   "cell_type": "code",
   "execution_count": 18,
   "metadata": {},
   "outputs": [],
   "source": [
    "\n",
    "le = LabelEncoder()\n",
    "le.fit(y)\n",
    "\n",
    "\n",
    "le.classes_\n",
    "\n",
    "y = le.transform(y)"
   ]
  },
  {
   "cell_type": "code",
   "execution_count": 19,
   "metadata": {},
   "outputs": [
    {
     "data": {
      "text/plain": [
       "array([0, 1, 2, 3, 4, 5])"
      ]
     },
     "execution_count": 19,
     "metadata": {},
     "output_type": "execute_result"
    }
   ],
   "source": [
    "np.unique(y)"
   ]
  },
  {
   "cell_type": "code",
   "execution_count": null,
   "metadata": {},
   "outputs": [],
   "source": []
  },
  {
   "cell_type": "code",
   "execution_count": null,
   "metadata": {},
   "outputs": [],
   "source": []
  },
  {
   "cell_type": "code",
   "execution_count": 20,
   "metadata": {},
   "outputs": [
    {
     "data": {
      "text/plain": [
       "0.8507109004739336"
      ]
     },
     "execution_count": 20,
     "metadata": {},
     "output_type": "execute_result"
    }
   ],
   "source": [
    "# conda install -c conda-forge xgboost\n",
    "\n",
    "X_train, X_test, y_train, y_test = train_test_split(X, y, test_size=0.2, random_state=42)\n",
    "\n",
    "\n",
    "# declare parameters\n",
    "params = {\n",
    "            'objective':'multi:softprob',\n",
    "            'max_depth': 4,\n",
    "            'alpha': 10,\n",
    "            'learning_rate': 1.0,\n",
    "            'n_estimators':100\n",
    "        }         \n",
    "           \n",
    "\n",
    "params = {\n",
    "            'objective':'multi:softprob',\n",
    "            'verbosity' : 1\n",
    "}\n",
    "\n",
    "\n",
    "# instantiate the classifier \n",
    "xgb_clf = XGBClassifier(**params)\n",
    "\n",
    "\n",
    "# fit the classifier to the training data\n",
    "xgb_clf.fit(X_train, y_train)\n",
    "\n",
    "y_pred = xgb_clf.predict(X_test)\n",
    "accuracy_score(y_pred, y_test)"
   ]
  },
  {
   "cell_type": "code",
   "execution_count": 21,
   "metadata": {},
   "outputs": [],
   "source": [
    "\n",
    "\n",
    "\n",
    "#y_test\n"
   ]
  },
  {
   "cell_type": "code",
   "execution_count": 22,
   "metadata": {},
   "outputs": [
    {
     "data": {
      "text/plain": [
       "<Axes: title={'center': 'Feature importance'}, xlabel='F score', ylabel='Features'>"
      ]
     },
     "execution_count": 22,
     "metadata": {},
     "output_type": "execute_result"
    },
    {
     "data": {
      "image/png": "[encoded data removed]",
      "text/plain": [
       "<Figure size 640x480 with 1 Axes>"
      ]
     },
     "metadata": {},
     "output_type": "display_data"
    }
   ],
   "source": [
    "xgb.plot_importance(xgb_clf)\n"
   ]
  },
  {
   "cell_type": "code",
   "execution_count": 23,
   "metadata": {},
   "outputs": [
    {
     "data": {
      "image/png": "[encoded data removed]",
      "text/plain": [
       "<Figure size 640x480 with 1 Axes>"
      ]
     },
     "metadata": {},
     "output_type": "display_data"
    }
   ],
   "source": [
    "feature_names = X_train.columns\n",
    "#std = np.std([tree.feature_importances_ for tree in forest.estimators_], axis=0)\n",
    "\n",
    "forest_importances = pd.Series(importances, index=feature_names)\n",
    "\n",
    "fig, ax = plt.subplots()\n",
    "forest_importances.plot.bar( ax=ax)\n",
    "\n",
    "ax.set_title(\"Feature importances using MDI\")\n",
    "ax.set_ylabel(\"Mean decrease in impurity\")\n",
    "fig.tight_layout()"
   ]
  },
  {
   "cell_type": "code",
   "execution_count": 24,
   "metadata": {},
   "outputs": [
    {
     "data": {
      "text/plain": [
       "Index(['Age', 'Height', 'FCVC', 'NCP', 'CH2O', 'FAF', 'TUE', 'Gender_Female',\n",
       "       'Gender_Male', 'family_history_with_overweight_no',\n",
       "       'family_history_with_overweight_yes', 'FAVC_no', 'FAVC_yes',\n",
       "       'CAEC_Always', 'CAEC_Frequently', 'CAEC_Sometimes', 'CAEC_no',\n",
       "       'SMOKE_no', 'SMOKE_yes', 'SCC_no', 'SCC_yes', 'CALC_Always',\n",
       "       'CALC_Frequently', 'CALC_Sometimes', 'CALC_no', 'MTRANS_Automobile',\n",
       "       'MTRANS_Bike', 'MTRANS_Motorbike', 'MTRANS_Public_Transportation',\n",
       "       'MTRANS_Walking'],\n",
       "      dtype='object')"
      ]
     },
     "execution_count": 24,
     "metadata": {},
     "output_type": "execute_result"
    }
   ],
   "source": [
    "X_train.columns"
   ]
  },
  {
   "cell_type": "code",
   "execution_count": 25,
   "metadata": {},
   "outputs": [
    {
     "data": {
      "text/html": [
       "<div>\n",
       "<style scoped>\n",
       "    .dataframe tbody tr th:only-of-type {\n",
       "        vertical-align: middle;\n",
       "    }\n",
       "\n",
       "    .dataframe tbody tr th {\n",
       "        vertical-align: top;\n",
       "    }\n",
       "\n",
       "    .dataframe thead th {\n",
       "        text-align: right;\n",
       "    }\n",
       "</style>\n",
       "<table border=\"1\" class=\"dataframe\">\n",
       "  <thead>\n",
       "    <tr style=\"text-align: right;\">\n",
       "      <th></th>\n",
       "      <th>Age</th>\n",
       "      <th>Height</th>\n",
       "      <th>FCVC</th>\n",
       "      <th>NCP</th>\n",
       "      <th>CH2O</th>\n",
       "      <th>FAF</th>\n",
       "      <th>TUE</th>\n",
       "      <th>Gender_Female</th>\n",
       "      <th>Gender_Male</th>\n",
       "      <th>family_history_with_overweight_no</th>\n",
       "      <th>...</th>\n",
       "      <th>CALC_Always</th>\n",
       "      <th>CALC_Frequently</th>\n",
       "      <th>CALC_Sometimes</th>\n",
       "      <th>CALC_no</th>\n",
       "      <th>MTRANS_Automobile</th>\n",
       "      <th>MTRANS_Bike</th>\n",
       "      <th>MTRANS_Motorbike</th>\n",
       "      <th>MTRANS_Public_Transportation</th>\n",
       "      <th>MTRANS_Walking</th>\n",
       "      <th>Levels</th>\n",
       "    </tr>\n",
       "  </thead>\n",
       "  <tbody>\n",
       "    <tr>\n",
       "      <th>0</th>\n",
       "      <td>21.000000</td>\n",
       "      <td>1.620000</td>\n",
       "      <td>2.0</td>\n",
       "      <td>3.0</td>\n",
       "      <td>2.000000</td>\n",
       "      <td>0.000000</td>\n",
       "      <td>1.000000</td>\n",
       "      <td>True</td>\n",
       "      <td>False</td>\n",
       "      <td>False</td>\n",
       "      <td>...</td>\n",
       "      <td>False</td>\n",
       "      <td>False</td>\n",
       "      <td>False</td>\n",
       "      <td>True</td>\n",
       "      <td>False</td>\n",
       "      <td>False</td>\n",
       "      <td>False</td>\n",
       "      <td>True</td>\n",
       "      <td>False</td>\n",
       "      <td>0</td>\n",
       "    </tr>\n",
       "    <tr>\n",
       "      <th>1</th>\n",
       "      <td>21.000000</td>\n",
       "      <td>1.520000</td>\n",
       "      <td>3.0</td>\n",
       "      <td>3.0</td>\n",
       "      <td>3.000000</td>\n",
       "      <td>3.000000</td>\n",
       "      <td>0.000000</td>\n",
       "      <td>True</td>\n",
       "      <td>False</td>\n",
       "      <td>False</td>\n",
       "      <td>...</td>\n",
       "      <td>False</td>\n",
       "      <td>False</td>\n",
       "      <td>True</td>\n",
       "      <td>False</td>\n",
       "      <td>False</td>\n",
       "      <td>False</td>\n",
       "      <td>False</td>\n",
       "      <td>True</td>\n",
       "      <td>False</td>\n",
       "      <td>0</td>\n",
       "    </tr>\n",
       "    <tr>\n",
       "      <th>2</th>\n",
       "      <td>23.000000</td>\n",
       "      <td>1.800000</td>\n",
       "      <td>2.0</td>\n",
       "      <td>3.0</td>\n",
       "      <td>2.000000</td>\n",
       "      <td>2.000000</td>\n",
       "      <td>1.000000</td>\n",
       "      <td>False</td>\n",
       "      <td>True</td>\n",
       "      <td>False</td>\n",
       "      <td>...</td>\n",
       "      <td>False</td>\n",
       "      <td>True</td>\n",
       "      <td>False</td>\n",
       "      <td>False</td>\n",
       "      <td>False</td>\n",
       "      <td>False</td>\n",
       "      <td>False</td>\n",
       "      <td>True</td>\n",
       "      <td>False</td>\n",
       "      <td>0</td>\n",
       "    </tr>\n",
       "    <tr>\n",
       "      <th>3</th>\n",
       "      <td>27.000000</td>\n",
       "      <td>1.800000</td>\n",
       "      <td>3.0</td>\n",
       "      <td>3.0</td>\n",
       "      <td>2.000000</td>\n",
       "      <td>2.000000</td>\n",
       "      <td>0.000000</td>\n",
       "      <td>False</td>\n",
       "      <td>True</td>\n",
       "      <td>True</td>\n",
       "      <td>...</td>\n",
       "      <td>False</td>\n",
       "      <td>True</td>\n",
       "      <td>False</td>\n",
       "      <td>False</td>\n",
       "      <td>False</td>\n",
       "      <td>False</td>\n",
       "      <td>False</td>\n",
       "      <td>False</td>\n",
       "      <td>True</td>\n",
       "      <td>4</td>\n",
       "    </tr>\n",
       "    <tr>\n",
       "      <th>4</th>\n",
       "      <td>22.000000</td>\n",
       "      <td>1.780000</td>\n",
       "      <td>2.0</td>\n",
       "      <td>1.0</td>\n",
       "      <td>2.000000</td>\n",
       "      <td>0.000000</td>\n",
       "      <td>0.000000</td>\n",
       "      <td>False</td>\n",
       "      <td>True</td>\n",
       "      <td>True</td>\n",
       "      <td>...</td>\n",
       "      <td>False</td>\n",
       "      <td>False</td>\n",
       "      <td>True</td>\n",
       "      <td>False</td>\n",
       "      <td>False</td>\n",
       "      <td>False</td>\n",
       "      <td>False</td>\n",
       "      <td>True</td>\n",
       "      <td>False</td>\n",
       "      <td>4</td>\n",
       "    </tr>\n",
       "    <tr>\n",
       "      <th>...</th>\n",
       "      <td>...</td>\n",
       "      <td>...</td>\n",
       "      <td>...</td>\n",
       "      <td>...</td>\n",
       "      <td>...</td>\n",
       "      <td>...</td>\n",
       "      <td>...</td>\n",
       "      <td>...</td>\n",
       "      <td>...</td>\n",
       "      <td>...</td>\n",
       "      <td>...</td>\n",
       "      <td>...</td>\n",
       "      <td>...</td>\n",
       "      <td>...</td>\n",
       "      <td>...</td>\n",
       "      <td>...</td>\n",
       "      <td>...</td>\n",
       "      <td>...</td>\n",
       "      <td>...</td>\n",
       "      <td>...</td>\n",
       "      <td>...</td>\n",
       "    </tr>\n",
       "    <tr>\n",
       "      <th>2102</th>\n",
       "      <td>20.976842</td>\n",
       "      <td>1.710730</td>\n",
       "      <td>3.0</td>\n",
       "      <td>3.0</td>\n",
       "      <td>1.728139</td>\n",
       "      <td>1.676269</td>\n",
       "      <td>0.906247</td>\n",
       "      <td>True</td>\n",
       "      <td>False</td>\n",
       "      <td>False</td>\n",
       "      <td>...</td>\n",
       "      <td>False</td>\n",
       "      <td>False</td>\n",
       "      <td>True</td>\n",
       "      <td>False</td>\n",
       "      <td>False</td>\n",
       "      <td>False</td>\n",
       "      <td>False</td>\n",
       "      <td>True</td>\n",
       "      <td>False</td>\n",
       "      <td>3</td>\n",
       "    </tr>\n",
       "    <tr>\n",
       "      <th>2103</th>\n",
       "      <td>21.982942</td>\n",
       "      <td>1.748584</td>\n",
       "      <td>3.0</td>\n",
       "      <td>3.0</td>\n",
       "      <td>2.005130</td>\n",
       "      <td>1.341390</td>\n",
       "      <td>0.599270</td>\n",
       "      <td>True</td>\n",
       "      <td>False</td>\n",
       "      <td>False</td>\n",
       "      <td>...</td>\n",
       "      <td>False</td>\n",
       "      <td>False</td>\n",
       "      <td>True</td>\n",
       "      <td>False</td>\n",
       "      <td>False</td>\n",
       "      <td>False</td>\n",
       "      <td>False</td>\n",
       "      <td>True</td>\n",
       "      <td>False</td>\n",
       "      <td>3</td>\n",
       "    </tr>\n",
       "    <tr>\n",
       "      <th>2104</th>\n",
       "      <td>22.524036</td>\n",
       "      <td>1.752206</td>\n",
       "      <td>3.0</td>\n",
       "      <td>3.0</td>\n",
       "      <td>2.054193</td>\n",
       "      <td>1.414209</td>\n",
       "      <td>0.646288</td>\n",
       "      <td>True</td>\n",
       "      <td>False</td>\n",
       "      <td>False</td>\n",
       "      <td>...</td>\n",
       "      <td>False</td>\n",
       "      <td>False</td>\n",
       "      <td>True</td>\n",
       "      <td>False</td>\n",
       "      <td>False</td>\n",
       "      <td>False</td>\n",
       "      <td>False</td>\n",
       "      <td>True</td>\n",
       "      <td>False</td>\n",
       "      <td>3</td>\n",
       "    </tr>\n",
       "    <tr>\n",
       "      <th>2105</th>\n",
       "      <td>24.361936</td>\n",
       "      <td>1.739450</td>\n",
       "      <td>3.0</td>\n",
       "      <td>3.0</td>\n",
       "      <td>2.852339</td>\n",
       "      <td>1.139107</td>\n",
       "      <td>0.586035</td>\n",
       "      <td>True</td>\n",
       "      <td>False</td>\n",
       "      <td>False</td>\n",
       "      <td>...</td>\n",
       "      <td>False</td>\n",
       "      <td>False</td>\n",
       "      <td>True</td>\n",
       "      <td>False</td>\n",
       "      <td>False</td>\n",
       "      <td>False</td>\n",
       "      <td>False</td>\n",
       "      <td>True</td>\n",
       "      <td>False</td>\n",
       "      <td>3</td>\n",
       "    </tr>\n",
       "    <tr>\n",
       "      <th>2106</th>\n",
       "      <td>23.664709</td>\n",
       "      <td>1.738836</td>\n",
       "      <td>3.0</td>\n",
       "      <td>3.0</td>\n",
       "      <td>2.863513</td>\n",
       "      <td>1.026452</td>\n",
       "      <td>0.714137</td>\n",
       "      <td>True</td>\n",
       "      <td>False</td>\n",
       "      <td>False</td>\n",
       "      <td>...</td>\n",
       "      <td>False</td>\n",
       "      <td>False</td>\n",
       "      <td>True</td>\n",
       "      <td>False</td>\n",
       "      <td>False</td>\n",
       "      <td>False</td>\n",
       "      <td>False</td>\n",
       "      <td>True</td>\n",
       "      <td>False</td>\n",
       "      <td>3</td>\n",
       "    </tr>\n",
       "  </tbody>\n",
       "</table>\n",
       "<p>2107 rows × 31 columns</p>\n",
       "</div>"
      ],
      "text/plain": [
       "            Age    Height  FCVC  NCP      CH2O       FAF       TUE  \\\n",
       "0     21.000000  1.620000   2.0  3.0  2.000000  0.000000  1.000000   \n",
       "1     21.000000  1.520000   3.0  3.0  3.000000  3.000000  0.000000   \n",
       "2     23.000000  1.800000   2.0  3.0  2.000000  2.000000  1.000000   \n",
       "3     27.000000  1.800000   3.0  3.0  2.000000  2.000000  0.000000   \n",
       "4     22.000000  1.780000   2.0  1.0  2.000000  0.000000  0.000000   \n",
       "...         ...       ...   ...  ...       ...       ...       ...   \n",
       "2102  20.976842  1.710730   3.0  3.0  1.728139  1.676269  0.906247   \n",
       "2103  21.982942  1.748584   3.0  3.0  2.005130  1.341390  0.599270   \n",
       "2104  22.524036  1.752206   3.0  3.0  2.054193  1.414209  0.646288   \n",
       "2105  24.361936  1.739450   3.0  3.0  2.852339  1.139107  0.586035   \n",
       "2106  23.664709  1.738836   3.0  3.0  2.863513  1.026452  0.714137   \n",
       "\n",
       "      Gender_Female  Gender_Male  family_history_with_overweight_no  ...  \\\n",
       "0              True        False                              False  ...   \n",
       "1              True        False                              False  ...   \n",
       "2             False         True                              False  ...   \n",
       "3             False         True                               True  ...   \n",
       "4             False         True                               True  ...   \n",
       "...             ...          ...                                ...  ...   \n",
       "2102           True        False                              False  ...   \n",
       "2103           True        False                              False  ...   \n",
       "2104           True        False                              False  ...   \n",
       "2105           True        False                              False  ...   \n",
       "2106           True        False                              False  ...   \n",
       "\n",
       "      CALC_Always  CALC_Frequently  CALC_Sometimes  CALC_no  \\\n",
       "0           False            False           False     True   \n",
       "1           False            False            True    False   \n",
       "2           False             True           False    False   \n",
       "3           False             True           False    False   \n",
       "4           False            False            True    False   \n",
       "...           ...              ...             ...      ...   \n",
       "2102        False            False            True    False   \n",
       "2103        False            False            True    False   \n",
       "2104        False            False            True    False   \n",
       "2105        False            False            True    False   \n",
       "2106        False            False            True    False   \n",
       "\n",
       "      MTRANS_Automobile  MTRANS_Bike  MTRANS_Motorbike  \\\n",
       "0                 False        False             False   \n",
       "1                 False        False             False   \n",
       "2                 False        False             False   \n",
       "3                 False        False             False   \n",
       "4                 False        False             False   \n",
       "...                 ...          ...               ...   \n",
       "2102              False        False             False   \n",
       "2103              False        False             False   \n",
       "2104              False        False             False   \n",
       "2105              False        False             False   \n",
       "2106              False        False             False   \n",
       "\n",
       "      MTRANS_Public_Transportation  MTRANS_Walking  Levels  \n",
       "0                             True           False       0  \n",
       "1                             True           False       0  \n",
       "2                             True           False       0  \n",
       "3                            False            True       4  \n",
       "4                             True           False       4  \n",
       "...                            ...             ...     ...  \n",
       "2102                          True           False       3  \n",
       "2103                          True           False       3  \n",
       "2104                          True           False       3  \n",
       "2105                          True           False       3  \n",
       "2106                          True           False       3  \n",
       "\n",
       "[2107 rows x 31 columns]"
      ]
     },
     "execution_count": 25,
     "metadata": {},
     "output_type": "execute_result"
    }
   ],
   "source": [
    "dtrain = X.copy()\n",
    "dtrain['Levels'] = y\n",
    "\n",
    "dtrain "
   ]
  },
  {
   "cell_type": "code",
   "execution_count": 26,
   "metadata": {},
   "outputs": [],
   "source": [
    "def modelfit(alg, dtrain, predictors,useTrainCV=True, cv_folds=5, early_stopping_rounds=50):\n",
    "    \n",
    "    if useTrainCV:\n",
    "        xgb_param = alg.get_xgb_params()\n",
    "        xgtrain = xgb.DMatrix(dtrain[predictors].values, label=dtrain['Levels'].values) \n",
    "\n",
    "        \n",
    "\n",
    "        cvresult = xgb.cv(xgb_param, xgtrain, num_boost_round=alg.get_params()['n_estimators'], nfold=cv_folds,\n",
    "            metrics='auc', early_stopping_rounds=early_stopping_rounds)\n",
    "        \n",
    "\n",
    "        alg.set_params(n_estimators=cvresult.shape[0])\n",
    "    \n",
    "    #Fit the algorithm on the data\n",
    "    alg.fit(dtrain[predictors], dtrain['Levels'],eval_metric='auc')\n",
    "        \n",
    "    #Predict training set:\n",
    "    dtrain_predictions = alg.predict(dtrain[predictors])\n",
    "    dtrain_predprob = alg.predict_proba(dtrain[predictors])[:,1]\n",
    "        \n",
    "    #Print model report:\n",
    "    print (\"\\nModel Report\")\n",
    "    print (\"Accuracy : \" , accuracy_score(dtrain['Levels'].values, dtrain_predictions))\n",
    "    #print (\"AUC Score (Train): \", roc_auc_score(dtrain['Levels'], dtrain_predprob))\n",
    "                    \n",
    "    #feat_imp = pd.Series(alg.booster().get_fscore()).sort_values(ascending=False)\n",
    "    #feat_imp.plot(kind='bar', title='Feature Importances')\n",
    "    #plt.ylabel('Feature Importance Score')\n",
    "\n",
    "    xgb.plot_importance(xgb_clf)"
   ]
  },
  {
   "cell_type": "code",
   "execution_count": 27,
   "metadata": {},
   "outputs": [
    {
     "name": "stdout",
     "output_type": "stream",
     "text": [
      "\n",
      "Model Report\n",
      "Accuracy :  1.0\n"
     ]
    },
    {
     "data": {
      "image/png": "[encoded data removed]",
      "text/plain": [
       "<Figure size 640x480 with 1 Axes>"
      ]
     },
     "metadata": {},
     "output_type": "display_data"
    }
   ],
   "source": [
    "predictors = [x for x in dtrain.columns if x not in ['Levels']]\n",
    "\n",
    "\n",
    "\n",
    "xgb1 = XGBClassifier(\n",
    " learning_rate =0.1,\n",
    " n_estimators=1000,\n",
    " num_class = 6,\n",
    " max_depth=5,\n",
    " min_child_weight=1,\n",
    " gamma=0,\n",
    " subsample=0.8,\n",
    " colsample_bytree=0.8,\n",
    " objective= 'multi:softprob',\n",
    " nthread=4,\n",
    " scale_pos_weight=1,\n",
    " seed=27)\n",
    "\n",
    "\n",
    "\n",
    "modelfit(xgb1, dtrain, predictors)"
   ]
  },
  {
   "cell_type": "code",
   "execution_count": 28,
   "metadata": {},
   "outputs": [],
   "source": [
    "#xgtrain = xgb.DMatrix(dtrain[predictors].values, label=dtrain['Levels'].values)\n",
    "#\n",
    "#xgb_param = xgb1.get_xgb_params()\n",
    "#early_stopping_rounds=50\n",
    "#\n",
    "#cvresult = xgb.cv(xgb_param, xgtrain, num_boost_round=xgb1.get_params()['n_estimators'], nfold=5,\n",
    "#            metrics='auc', early_stopping_rounds=early_stopping_rounds)\n",
    "\n",
    "# Evaluation XGB vs RF ( Confusion matrix, Acc score, Kappa)\n",
    "# 0.8 - 0.9 score \n",
    "# Class prediction Percentage + ROC Curve\n",
    "# "
   ]
  },
  {
   "cell_type": "code",
   "execution_count": 46,
   "metadata": {},
   "outputs": [],
   "source": [
    "def calculate_acc(objective, max_depth, learning_rate, n_estimators):\n",
    "    X_train, X_test, y_train, y_test = train_test_split(X, y, test_size=0.2, random_state=42)\n",
    "\n",
    "    #{'learning_rate': 1, 'max_depth': 8, 'n_estimators': 20}\n",
    "    # declare parameters\n",
    "    params = {\n",
    "                'objective':objective,\n",
    "                'max_depth': max_depth,\n",
    "                #'alpha': 10,\n",
    "                'learning_rate': learning_rate,\n",
    "                'n_estimators':n_estimators\n",
    "            }         \n",
    "\n",
    "\n",
    "\n",
    "\n",
    "    # instantiate the classifier \n",
    "    xgb_clf = XGBClassifier(**params)\n",
    "\n",
    "\n",
    "    # fit the classifier to the training data\n",
    "    xgb_clf.fit(X_train, y_train)\n",
    "    train_score = accuracy_score(xgb_clf.predict(X_train), y_train)\n",
    "\n",
    "\n",
    "    y_pred = xgb_clf.predict(X_test)\n",
    "    test_score = accuracy_score(y_pred, y_test)\n",
    "    auc_score = roc_auc_score(y_pred, y_test)\n",
    "\n",
    "\n",
    "    return train_score, test_score"
   ]
  },
  {
   "cell_type": "code",
   "execution_count": 49,
   "metadata": {},
   "outputs": [
    {
     "name": "stdout",
     "output_type": "stream",
     "text": [
      "Fitting 5 folds for each of 96 candidates, totalling 480 fits\n",
      "Grid scores on development set:\n",
      "0.922 (+/-0.123) for {'learning_rate': 1, 'max_depth': 2, 'n_estimators': 20, 'objective': 'multi:softprob'}\n",
      "0.922 (+/-0.123) for {'learning_rate': 1, 'max_depth': 2, 'n_estimators': 20, 'objective': 'multi:softmax'}\n",
      "0.933 (+/-0.119) for {'learning_rate': 1, 'max_depth': 2, 'n_estimators': 40, 'objective': 'multi:softprob'}\n",
      "0.933 (+/-0.119) for {'learning_rate': 1, 'max_depth': 2, 'n_estimators': 40, 'objective': 'multi:softmax'}\n",
      "0.935 (+/-0.117) for {'learning_rate': 1, 'max_depth': 2, 'n_estimators': 60, 'objective': 'multi:softprob'}\n",
      "0.935 (+/-0.117) for {'learning_rate': 1, 'max_depth': 2, 'n_estimators': 60, 'objective': 'multi:softmax'}\n",
      "0.937 (+/-0.116) for {'learning_rate': 1, 'max_depth': 2, 'n_estimators': 80, 'objective': 'multi:softprob'}\n",
      "0.937 (+/-0.116) for {'learning_rate': 1, 'max_depth': 2, 'n_estimators': 80, 'objective': 'multi:softmax'}\n",
      "0.943 (+/-0.110) for {'learning_rate': 1, 'max_depth': 4, 'n_estimators': 20, 'objective': 'multi:softprob'}\n",
      "0.943 (+/-0.110) for {'learning_rate': 1, 'max_depth': 4, 'n_estimators': 20, 'objective': 'multi:softmax'}\n",
      "0.949 (+/-0.104) for {'learning_rate': 1, 'max_depth': 4, 'n_estimators': 40, 'objective': 'multi:softprob'}\n",
      "0.949 (+/-0.104) for {'learning_rate': 1, 'max_depth': 4, 'n_estimators': 40, 'objective': 'multi:softmax'}\n",
      "0.950 (+/-0.102) for {'learning_rate': 1, 'max_depth': 4, 'n_estimators': 60, 'objective': 'multi:softprob'}\n",
      "0.950 (+/-0.102) for {'learning_rate': 1, 'max_depth': 4, 'n_estimators': 60, 'objective': 'multi:softmax'}\n",
      "0.951 (+/-0.099) for {'learning_rate': 1, 'max_depth': 4, 'n_estimators': 80, 'objective': 'multi:softprob'}\n",
      "0.951 (+/-0.099) for {'learning_rate': 1, 'max_depth': 4, 'n_estimators': 80, 'objective': 'multi:softmax'}\n",
      "0.952 (+/-0.100) for {'learning_rate': 1, 'max_depth': 6, 'n_estimators': 20, 'objective': 'multi:softprob'}\n",
      "0.952 (+/-0.100) for {'learning_rate': 1, 'max_depth': 6, 'n_estimators': 20, 'objective': 'multi:softmax'}\n",
      "0.954 (+/-0.098) for {'learning_rate': 1, 'max_depth': 6, 'n_estimators': 40, 'objective': 'multi:softprob'}\n",
      "0.954 (+/-0.098) for {'learning_rate': 1, 'max_depth': 6, 'n_estimators': 40, 'objective': 'multi:softmax'}\n",
      "0.955 (+/-0.097) for {'learning_rate': 1, 'max_depth': 6, 'n_estimators': 60, 'objective': 'multi:softprob'}\n",
      "0.955 (+/-0.097) for {'learning_rate': 1, 'max_depth': 6, 'n_estimators': 60, 'objective': 'multi:softmax'}\n",
      "0.955 (+/-0.097) for {'learning_rate': 1, 'max_depth': 6, 'n_estimators': 80, 'objective': 'multi:softprob'}\n",
      "0.955 (+/-0.097) for {'learning_rate': 1, 'max_depth': 6, 'n_estimators': 80, 'objective': 'multi:softmax'}\n",
      "0.954 (+/-0.094) for {'learning_rate': 1, 'max_depth': 8, 'n_estimators': 20, 'objective': 'multi:softprob'}\n",
      "0.954 (+/-0.094) for {'learning_rate': 1, 'max_depth': 8, 'n_estimators': 20, 'objective': 'multi:softmax'}\n",
      "0.955 (+/-0.093) for {'learning_rate': 1, 'max_depth': 8, 'n_estimators': 40, 'objective': 'multi:softprob'}\n",
      "0.955 (+/-0.093) for {'learning_rate': 1, 'max_depth': 8, 'n_estimators': 40, 'objective': 'multi:softmax'}\n",
      "0.955 (+/-0.093) for {'learning_rate': 1, 'max_depth': 8, 'n_estimators': 60, 'objective': 'multi:softprob'}\n",
      "0.955 (+/-0.093) for {'learning_rate': 1, 'max_depth': 8, 'n_estimators': 60, 'objective': 'multi:softmax'}\n",
      "0.956 (+/-0.093) for {'learning_rate': 1, 'max_depth': 8, 'n_estimators': 80, 'objective': 'multi:softprob'}\n",
      "0.956 (+/-0.093) for {'learning_rate': 1, 'max_depth': 8, 'n_estimators': 80, 'objective': 'multi:softmax'}\n",
      "0.834 (+/-0.088) for {'learning_rate': 0.01, 'max_depth': 2, 'n_estimators': 20, 'objective': 'multi:softprob'}\n",
      "0.834 (+/-0.088) for {'learning_rate': 0.01, 'max_depth': 2, 'n_estimators': 20, 'objective': 'multi:softmax'}\n",
      "0.846 (+/-0.087) for {'learning_rate': 0.01, 'max_depth': 2, 'n_estimators': 40, 'objective': 'multi:softprob'}\n",
      "0.846 (+/-0.087) for {'learning_rate': 0.01, 'max_depth': 2, 'n_estimators': 40, 'objective': 'multi:softmax'}\n",
      "0.852 (+/-0.090) for {'learning_rate': 0.01, 'max_depth': 2, 'n_estimators': 60, 'objective': 'multi:softprob'}\n",
      "0.852 (+/-0.090) for {'learning_rate': 0.01, 'max_depth': 2, 'n_estimators': 60, 'objective': 'multi:softmax'}\n",
      "0.856 (+/-0.094) for {'learning_rate': 0.01, 'max_depth': 2, 'n_estimators': 80, 'objective': 'multi:softprob'}\n",
      "0.856 (+/-0.094) for {'learning_rate': 0.01, 'max_depth': 2, 'n_estimators': 80, 'objective': 'multi:softmax'}\n",
      "0.874 (+/-0.111) for {'learning_rate': 0.01, 'max_depth': 4, 'n_estimators': 20, 'objective': 'multi:softprob'}\n",
      "0.874 (+/-0.111) for {'learning_rate': 0.01, 'max_depth': 4, 'n_estimators': 20, 'objective': 'multi:softmax'}\n",
      "0.878 (+/-0.113) for {'learning_rate': 0.01, 'max_depth': 4, 'n_estimators': 40, 'objective': 'multi:softprob'}\n",
      "0.878 (+/-0.113) for {'learning_rate': 0.01, 'max_depth': 4, 'n_estimators': 40, 'objective': 'multi:softmax'}\n",
      "0.883 (+/-0.115) for {'learning_rate': 0.01, 'max_depth': 4, 'n_estimators': 60, 'objective': 'multi:softprob'}\n",
      "0.883 (+/-0.115) for {'learning_rate': 0.01, 'max_depth': 4, 'n_estimators': 60, 'objective': 'multi:softmax'}\n",
      "0.886 (+/-0.112) for {'learning_rate': 0.01, 'max_depth': 4, 'n_estimators': 80, 'objective': 'multi:softprob'}\n",
      "0.886 (+/-0.112) for {'learning_rate': 0.01, 'max_depth': 4, 'n_estimators': 80, 'objective': 'multi:softmax'}\n",
      "0.894 (+/-0.112) for {'learning_rate': 0.01, 'max_depth': 6, 'n_estimators': 20, 'objective': 'multi:softprob'}\n",
      "0.894 (+/-0.112) for {'learning_rate': 0.01, 'max_depth': 6, 'n_estimators': 20, 'objective': 'multi:softmax'}\n",
      "0.900 (+/-0.113) for {'learning_rate': 0.01, 'max_depth': 6, 'n_estimators': 40, 'objective': 'multi:softprob'}\n",
      "0.900 (+/-0.113) for {'learning_rate': 0.01, 'max_depth': 6, 'n_estimators': 40, 'objective': 'multi:softmax'}\n",
      "0.902 (+/-0.118) for {'learning_rate': 0.01, 'max_depth': 6, 'n_estimators': 60, 'objective': 'multi:softprob'}\n",
      "0.902 (+/-0.118) for {'learning_rate': 0.01, 'max_depth': 6, 'n_estimators': 60, 'objective': 'multi:softmax'}\n",
      "0.905 (+/-0.120) for {'learning_rate': 0.01, 'max_depth': 6, 'n_estimators': 80, 'objective': 'multi:softprob'}\n",
      "0.905 (+/-0.120) for {'learning_rate': 0.01, 'max_depth': 6, 'n_estimators': 80, 'objective': 'multi:softmax'}\n",
      "0.905 (+/-0.114) for {'learning_rate': 0.01, 'max_depth': 8, 'n_estimators': 20, 'objective': 'multi:softprob'}\n",
      "0.905 (+/-0.114) for {'learning_rate': 0.01, 'max_depth': 8, 'n_estimators': 20, 'objective': 'multi:softmax'}\n",
      "0.911 (+/-0.116) for {'learning_rate': 0.01, 'max_depth': 8, 'n_estimators': 40, 'objective': 'multi:softprob'}\n",
      "0.911 (+/-0.116) for {'learning_rate': 0.01, 'max_depth': 8, 'n_estimators': 40, 'objective': 'multi:softmax'}\n",
      "0.914 (+/-0.118) for {'learning_rate': 0.01, 'max_depth': 8, 'n_estimators': 60, 'objective': 'multi:softprob'}\n",
      "0.914 (+/-0.118) for {'learning_rate': 0.01, 'max_depth': 8, 'n_estimators': 60, 'objective': 'multi:softmax'}\n",
      "0.916 (+/-0.120) for {'learning_rate': 0.01, 'max_depth': 8, 'n_estimators': 80, 'objective': 'multi:softprob'}\n",
      "0.916 (+/-0.120) for {'learning_rate': 0.01, 'max_depth': 8, 'n_estimators': 80, 'objective': 'multi:softmax'}\n",
      "0.872 (+/-0.099) for {'learning_rate': 0.1, 'max_depth': 2, 'n_estimators': 20, 'objective': 'multi:softprob'}\n",
      "0.872 (+/-0.099) for {'learning_rate': 0.1, 'max_depth': 2, 'n_estimators': 20, 'objective': 'multi:softmax'}\n",
      "0.888 (+/-0.103) for {'learning_rate': 0.1, 'max_depth': 2, 'n_estimators': 40, 'objective': 'multi:softprob'}\n",
      "0.888 (+/-0.103) for {'learning_rate': 0.1, 'max_depth': 2, 'n_estimators': 40, 'objective': 'multi:softmax'}\n",
      "0.897 (+/-0.107) for {'learning_rate': 0.1, 'max_depth': 2, 'n_estimators': 60, 'objective': 'multi:softprob'}\n",
      "0.897 (+/-0.107) for {'learning_rate': 0.1, 'max_depth': 2, 'n_estimators': 60, 'objective': 'multi:softmax'}\n",
      "0.903 (+/-0.111) for {'learning_rate': 0.1, 'max_depth': 2, 'n_estimators': 80, 'objective': 'multi:softprob'}\n",
      "0.903 (+/-0.111) for {'learning_rate': 0.1, 'max_depth': 2, 'n_estimators': 80, 'objective': 'multi:softmax'}\n",
      "0.904 (+/-0.116) for {'learning_rate': 0.1, 'max_depth': 4, 'n_estimators': 20, 'objective': 'multi:softprob'}\n",
      "0.904 (+/-0.116) for {'learning_rate': 0.1, 'max_depth': 4, 'n_estimators': 20, 'objective': 'multi:softmax'}\n",
      "0.917 (+/-0.131) for {'learning_rate': 0.1, 'max_depth': 4, 'n_estimators': 40, 'objective': 'multi:softprob'}\n",
      "0.917 (+/-0.131) for {'learning_rate': 0.1, 'max_depth': 4, 'n_estimators': 40, 'objective': 'multi:softmax'}\n",
      "0.927 (+/-0.127) for {'learning_rate': 0.1, 'max_depth': 4, 'n_estimators': 60, 'objective': 'multi:softprob'}\n",
      "0.927 (+/-0.127) for {'learning_rate': 0.1, 'max_depth': 4, 'n_estimators': 60, 'objective': 'multi:softmax'}\n",
      "0.931 (+/-0.126) for {'learning_rate': 0.1, 'max_depth': 4, 'n_estimators': 80, 'objective': 'multi:softprob'}\n",
      "0.931 (+/-0.126) for {'learning_rate': 0.1, 'max_depth': 4, 'n_estimators': 80, 'objective': 'multi:softmax'}\n",
      "0.918 (+/-0.127) for {'learning_rate': 0.1, 'max_depth': 6, 'n_estimators': 20, 'objective': 'multi:softprob'}\n",
      "0.918 (+/-0.127) for {'learning_rate': 0.1, 'max_depth': 6, 'n_estimators': 20, 'objective': 'multi:softmax'}\n",
      "0.932 (+/-0.126) for {'learning_rate': 0.1, 'max_depth': 6, 'n_estimators': 40, 'objective': 'multi:softprob'}\n",
      "0.932 (+/-0.126) for {'learning_rate': 0.1, 'max_depth': 6, 'n_estimators': 40, 'objective': 'multi:softmax'}\n",
      "0.938 (+/-0.125) for {'learning_rate': 0.1, 'max_depth': 6, 'n_estimators': 60, 'objective': 'multi:softprob'}\n",
      "0.938 (+/-0.125) for {'learning_rate': 0.1, 'max_depth': 6, 'n_estimators': 60, 'objective': 'multi:softmax'}\n",
      "0.943 (+/-0.120) for {'learning_rate': 0.1, 'max_depth': 6, 'n_estimators': 80, 'objective': 'multi:softprob'}\n",
      "0.943 (+/-0.120) for {'learning_rate': 0.1, 'max_depth': 6, 'n_estimators': 80, 'objective': 'multi:softmax'}\n",
      "0.927 (+/-0.124) for {'learning_rate': 0.1, 'max_depth': 8, 'n_estimators': 20, 'objective': 'multi:softprob'}\n",
      "0.927 (+/-0.124) for {'learning_rate': 0.1, 'max_depth': 8, 'n_estimators': 20, 'objective': 'multi:softmax'}\n",
      "0.942 (+/-0.111) for {'learning_rate': 0.1, 'max_depth': 8, 'n_estimators': 40, 'objective': 'multi:softprob'}\n",
      "0.942 (+/-0.111) for {'learning_rate': 0.1, 'max_depth': 8, 'n_estimators': 40, 'objective': 'multi:softmax'}\n",
      "0.947 (+/-0.109) for {'learning_rate': 0.1, 'max_depth': 8, 'n_estimators': 60, 'objective': 'multi:softprob'}\n",
      "0.947 (+/-0.109) for {'learning_rate': 0.1, 'max_depth': 8, 'n_estimators': 60, 'objective': 'multi:softmax'}\n",
      "0.951 (+/-0.105) for {'learning_rate': 0.1, 'max_depth': 8, 'n_estimators': 80, 'objective': 'multi:softprob'}\n",
      "0.951 (+/-0.105) for {'learning_rate': 0.1, 'max_depth': 8, 'n_estimators': 80, 'objective': 'multi:softmax'}\n"
     ]
    }
   ],
   "source": [
    "estimator = XGBClassifier(\n",
    "    objective= 'multi:softprob',\n",
    "    nthread=4,\n",
    "    seed=42\n",
    ")\n",
    "\n",
    "#parameters = {\n",
    "#    'objective': ['multi:softprob', 'multi:softmax'],\n",
    "#    'max_depth': range (2, 10, 3),\n",
    "#    'n_estimators': range(20, 200, 20),\n",
    "#    'learning_rate': [1, 0.9, 0.8, 0.7, 0.6, 0.5, 0.4, 0.3, 0.2, 0.1, 0.05],\n",
    "#    \n",
    "#}\n",
    "\n",
    "parameters = {\n",
    "    'objective': ['multi:softprob', 'multi:softmax'],\n",
    "    'max_depth': range (2, 10, 2),\n",
    "    'n_estimators': range(20, 100, 20),\n",
    "    'learning_rate': [1, 0.01, 0.1],\n",
    "    \n",
    "}\n",
    "\n",
    "grid_search = GridSearchCV(\n",
    "    estimator=estimator,\n",
    "    param_grid=parameters,\n",
    "    scoring = 'roc_auc_ovr',\n",
    "    n_jobs = 10,\n",
    "    cv = 5,\n",
    "    verbose=True, \n",
    "    error_score=\"raise\"\n",
    ")\n",
    "\n",
    "\n",
    "grid_search.fit(X, y)\n",
    "\n",
    "\n",
    "\n",
    "print(\"Grid scores on development set:\")\n",
    "means = grid_search.cv_results_['mean_test_score']\n",
    "stds = grid_search.cv_results_['std_test_score']\n",
    "\n",
    "\n",
    "means_res = []\n",
    "learning_rate = []\n",
    "max_depth =[]\n",
    "n_estimators = []\n",
    "objective = []\n",
    "train_acc_score = []\n",
    "test_acc_score = []\n",
    "\n",
    "\n",
    "for mean, std, params in zip(means, stds, grid_search.cv_results_['params']):\n",
    "    print(\"%0.3f (+/-%0.03f) for %r\"\n",
    "          % (mean, std * 2, params))\n",
    "\n",
    "    means_res.append(mean)\n",
    "    learning_rate.append(params['learning_rate'])\n",
    "    max_depth.append(params['max_depth'])\n",
    "    n_estimators.append(params['n_estimators'])\n",
    "    objective.append(params['objective'])\n",
    "\n",
    "    train_score, test_score = calculate_acc(params['objective'], params['max_depth'],\\\n",
    "         params['learning_rate'], params['n_estimators'])\n",
    "\n",
    "    train_acc_score.append(train_score)\n",
    "    test_acc_score.append(test_score)\n",
    "\n",
    "\n",
    "\n",
    "\n",
    "dict = {'CV_Score': means_res, 'learning_rate': learning_rate, 'max_depth': max_depth,\\\n",
    "      'n_estimators': n_estimators,'objective': objective,\\\n",
    "        'Train_Score': train_acc_score, 'Test_Acc_Score': test_acc_score } \n",
    "   \n",
    "df = pd.DataFrame(dict)\n",
    "\n",
    "\n",
    "df.to_csv('dataframe.csv', index = False)\n"
   ]
  },
  {
   "cell_type": "code",
   "execution_count": 50,
   "metadata": {},
   "outputs": [
    {
     "data": {
      "text/html": [
       "<div>\n",
       "<style scoped>\n",
       "    .dataframe tbody tr th:only-of-type {\n",
       "        vertical-align: middle;\n",
       "    }\n",
       "\n",
       "    .dataframe tbody tr th {\n",
       "        vertical-align: top;\n",
       "    }\n",
       "\n",
       "    .dataframe thead th {\n",
       "        text-align: right;\n",
       "    }\n",
       "</style>\n",
       "<table border=\"1\" class=\"dataframe\">\n",
       "  <thead>\n",
       "    <tr style=\"text-align: right;\">\n",
       "      <th></th>\n",
       "      <th>CV_Score</th>\n",
       "      <th>learning_rate</th>\n",
       "      <th>max_depth</th>\n",
       "      <th>n_estimators</th>\n",
       "      <th>objective</th>\n",
       "      <th>Train_Score</th>\n",
       "      <th>Test_Acc_Score</th>\n",
       "    </tr>\n",
       "  </thead>\n",
       "  <tbody>\n",
       "    <tr>\n",
       "      <th>0</th>\n",
       "      <td>0.922004</td>\n",
       "      <td>1.0</td>\n",
       "      <td>2</td>\n",
       "      <td>20</td>\n",
       "      <td>multi:softprob</td>\n",
       "      <td>0.867062</td>\n",
       "      <td>0.767773</td>\n",
       "    </tr>\n",
       "    <tr>\n",
       "      <th>1</th>\n",
       "      <td>0.922004</td>\n",
       "      <td>1.0</td>\n",
       "      <td>2</td>\n",
       "      <td>20</td>\n",
       "      <td>multi:softmax</td>\n",
       "      <td>0.867062</td>\n",
       "      <td>0.767773</td>\n",
       "    </tr>\n",
       "    <tr>\n",
       "      <th>2</th>\n",
       "      <td>0.932571</td>\n",
       "      <td>1.0</td>\n",
       "      <td>2</td>\n",
       "      <td>40</td>\n",
       "      <td>multi:softprob</td>\n",
       "      <td>0.922255</td>\n",
       "      <td>0.793839</td>\n",
       "    </tr>\n",
       "    <tr>\n",
       "      <th>3</th>\n",
       "      <td>0.932571</td>\n",
       "      <td>1.0</td>\n",
       "      <td>2</td>\n",
       "      <td>40</td>\n",
       "      <td>multi:softmax</td>\n",
       "      <td>0.922255</td>\n",
       "      <td>0.793839</td>\n",
       "    </tr>\n",
       "    <tr>\n",
       "      <th>4</th>\n",
       "      <td>0.934862</td>\n",
       "      <td>1.0</td>\n",
       "      <td>2</td>\n",
       "      <td>60</td>\n",
       "      <td>multi:softprob</td>\n",
       "      <td>0.957270</td>\n",
       "      <td>0.791469</td>\n",
       "    </tr>\n",
       "    <tr>\n",
       "      <th>...</th>\n",
       "      <td>...</td>\n",
       "      <td>...</td>\n",
       "      <td>...</td>\n",
       "      <td>...</td>\n",
       "      <td>...</td>\n",
       "      <td>...</td>\n",
       "      <td>...</td>\n",
       "    </tr>\n",
       "    <tr>\n",
       "      <th>91</th>\n",
       "      <td>0.942326</td>\n",
       "      <td>0.1</td>\n",
       "      <td>8</td>\n",
       "      <td>40</td>\n",
       "      <td>multi:softmax</td>\n",
       "      <td>0.987537</td>\n",
       "      <td>0.817536</td>\n",
       "    </tr>\n",
       "    <tr>\n",
       "      <th>92</th>\n",
       "      <td>0.946930</td>\n",
       "      <td>0.1</td>\n",
       "      <td>8</td>\n",
       "      <td>60</td>\n",
       "      <td>multi:softprob</td>\n",
       "      <td>0.995252</td>\n",
       "      <td>0.841232</td>\n",
       "    </tr>\n",
       "    <tr>\n",
       "      <th>93</th>\n",
       "      <td>0.946930</td>\n",
       "      <td>0.1</td>\n",
       "      <td>8</td>\n",
       "      <td>60</td>\n",
       "      <td>multi:softmax</td>\n",
       "      <td>0.995252</td>\n",
       "      <td>0.841232</td>\n",
       "    </tr>\n",
       "    <tr>\n",
       "      <th>94</th>\n",
       "      <td>0.950520</td>\n",
       "      <td>0.1</td>\n",
       "      <td>8</td>\n",
       "      <td>80</td>\n",
       "      <td>multi:softprob</td>\n",
       "      <td>1.000000</td>\n",
       "      <td>0.836493</td>\n",
       "    </tr>\n",
       "    <tr>\n",
       "      <th>95</th>\n",
       "      <td>0.950520</td>\n",
       "      <td>0.1</td>\n",
       "      <td>8</td>\n",
       "      <td>80</td>\n",
       "      <td>multi:softmax</td>\n",
       "      <td>1.000000</td>\n",
       "      <td>0.836493</td>\n",
       "    </tr>\n",
       "  </tbody>\n",
       "</table>\n",
       "<p>96 rows × 7 columns</p>\n",
       "</div>"
      ],
      "text/plain": [
       "    CV_Score  learning_rate  max_depth  n_estimators       objective  \\\n",
       "0   0.922004            1.0          2            20  multi:softprob   \n",
       "1   0.922004            1.0          2            20   multi:softmax   \n",
       "2   0.932571            1.0          2            40  multi:softprob   \n",
       "3   0.932571            1.0          2            40   multi:softmax   \n",
       "4   0.934862            1.0          2            60  multi:softprob   \n",
       "..       ...            ...        ...           ...             ...   \n",
       "91  0.942326            0.1          8            40   multi:softmax   \n",
       "92  0.946930            0.1          8            60  multi:softprob   \n",
       "93  0.946930            0.1          8            60   multi:softmax   \n",
       "94  0.950520            0.1          8            80  multi:softprob   \n",
       "95  0.950520            0.1          8            80   multi:softmax   \n",
       "\n",
       "    Train_Score  Test_Acc_Score  \n",
       "0      0.867062        0.767773  \n",
       "1      0.867062        0.767773  \n",
       "2      0.922255        0.793839  \n",
       "3      0.922255        0.793839  \n",
       "4      0.957270        0.791469  \n",
       "..          ...             ...  \n",
       "91     0.987537        0.817536  \n",
       "92     0.995252        0.841232  \n",
       "93     0.995252        0.841232  \n",
       "94     1.000000        0.836493  \n",
       "95     1.000000        0.836493  \n",
       "\n",
       "[96 rows x 7 columns]"
      ]
     },
     "execution_count": 50,
     "metadata": {},
     "output_type": "execute_result"
    }
   ],
   "source": [
    "df"
   ]
  },
  {
   "cell_type": "code",
   "execution_count": null,
   "metadata": {},
   "outputs": [
    {
     "data": {
      "text/plain": [
       "0.8388625592417062"
      ]
     },
     "execution_count": 45,
     "metadata": {},
     "output_type": "execute_result"
    }
   ],
   "source": [
    "X_train, X_test, y_train, y_test = train_test_split(X, y, test_size=0.2, random_state=42)\n",
    "\n",
    "#{'learning_rate': 1, 'max_depth': 8, 'n_estimators': 20}\n",
    "# declare parameters\n",
    "params = {\n",
    "            'objective':'multi:softprob',\n",
    "            'max_depth': 8,\n",
    "            #'alpha': 10,\n",
    "            'learning_rate': 1,\n",
    "            'n_estimators':20\n",
    "        }         \n",
    "           \n",
    "\n",
    "\n",
    "\n",
    "# instantiate the classifier \n",
    "xgb_clf = XGBClassifier(**params)\n",
    "\n",
    "\n",
    "# fit the classifier to the training data\n",
    "xgb_clf.fit(X_train, y_train)\n",
    "\n",
    "y_pred = xgb_clf.predict(X_test)\n",
    "accuracy_score(y_pred, y_test)"
   ]
  },
  {
   "cell_type": "code",
   "execution_count": null,
   "metadata": {},
   "outputs": [
    {
     "data": {
      "text/plain": [
       "array([0.49926595, 0.59734122, 0.63019478, 0.6469731 , 0.65977126,\n",
       "       0.58664426, 0.64185791, 0.66258025, 0.67729425, 0.68278108,\n",
       "       0.61458928, 0.66169565, 0.69372296, 0.70888551, 0.71082648,\n",
       "       0.63200463, 0.68165304, 0.70482869, 0.72295486, 0.72368828,\n",
       "       0.65534868, 0.70168134, 0.71484561, 0.72024771, 0.72672161,\n",
       "       0.65912095, 0.70192677, 0.71303456, 0.71936808, 0.72231244,\n",
       "       0.6673703 , 0.6958711 , 0.7137429 , 0.71804297, 0.7210014 ,\n",
       "       0.67199771, 0.70488848, 0.71598178, 0.7204318 , 0.71949021,\n",
       "       0.43785917, 0.48223061, 0.50053784, 0.50869957, 0.51887161,\n",
       "       0.53494268, 0.55203054, 0.57941923, 0.59046777, 0.5973974 ,\n",
       "       0.56784597, 0.60317088, 0.60625511, 0.60950998, 0.61863746,\n",
       "       0.61309068, 0.61922936, 0.62989252, 0.62961024, 0.63199737,\n",
       "       0.61545745, 0.64219467, 0.65207654, 0.65382505, 0.65566646,\n",
       "       0.63126103, 0.65017015, 0.65711814, 0.66241925, 0.66736965,\n",
       "       0.64140624, 0.6573257 , 0.6621755 , 0.66389281, 0.67529787,\n",
       "       0.64759904, 0.66696707, 0.67261613, 0.67219418, 0.67805886,\n",
       "       0.48257147, 0.55586487, 0.594809  , 0.60785111, 0.62185257,\n",
       "       0.54882136, 0.61554025, 0.63384908, 0.65757395, 0.66252079,\n",
       "       0.59406312, 0.64010537, 0.6579389 , 0.68304079, 0.69450846,\n",
       "       0.62110623, 0.64415726, 0.67807132, 0.69557371, 0.70587789,\n",
       "       0.63975642, 0.65940483, 0.69237847, 0.70739002, 0.71606922,\n",
       "       0.64923739, 0.66867811, 0.70108459, 0.71249193, 0.71668362,\n",
       "       0.66132492, 0.67675531, 0.69799282, 0.71412427, 0.71684314,\n",
       "       0.66922163, 0.68585874, 0.70482296, 0.71164246, 0.72270668])"
      ]
     },
     "execution_count": 124,
     "metadata": {},
     "output_type": "execute_result"
    }
   ],
   "source": [
    "grid_search.cv_results_['mean_test_score']"
   ]
  },
  {
   "cell_type": "code",
   "execution_count": null,
   "metadata": {},
   "outputs": [
    {
     "data": {
      "text/plain": [
       "({'max_depth': 3, 'min_child_weight': 1}, nan)"
      ]
     },
     "execution_count": 115,
     "metadata": {},
     "output_type": "execute_result"
    }
   ],
   "source": [
    "# Create a new instance of the classifier\n",
    "xgbr =  xgb.XGBClassifier()\n",
    "# Create a new pipeline with preprocessing steps and model (imballanced learn)\n",
    "pipeline  = imb_pipeline([\n",
    "                          ('preprocess', preprocess), # Encode and transform categorical variables\n",
    "                          ('re-sample', samplers[0]), # re-samples data to ballanced state\n",
    "                          ('scale', scalers[0]), # scales the data\n",
    "                          ('model', xgbr), # models\n",
    "                          ])\n",
    "\n",
    "\n",
    "\n",
    "params = { \n",
    "    'model__max_depth': [3, 4, 5, 6, 8, 10, 12, 15],\n",
    "    'model__learning_rate': [0.001, 0.01, 0.1, 0.20, 0.25, 0.30],\n",
    "    \"model__gamma\":[0, 0.25, 0.5, 0.75,1],\n",
    "    'model__n_estimators': [100, 500, 1000],\n",
    "    \"model__subsample\":[0.9],\n",
    "    \"model__colsample_bytree\":[0.5],\n",
    "    \"model__early_stopping_rounds\": [10], \n",
    "    \"model__random_state\": [random_state], \n",
    "}\n",
    "\n",
    "grid = GridSearchCV(\n",
    "    estimator = pipeline,\n",
    "    param_grid = params,\n",
    "    scoring = 'roc_auc',\n",
    "    n_jobs = -1,\n",
    "    cv = 5,\n",
    "    verbose = 3,\n",
    ")\n",
    "\n",
    "# Model fitting\n",
    "grid = grid.fit(X_train, Y_train, eval_set=[(X_test, Y_test)])\n",
    "\n",
    "eval_auc = sklearn.metrics.roc_auc_score( Y_test, grid.best_estimator_.predict_proba(X_test)[:,1])"
   ]
  },
  {
   "cell_type": "code",
   "execution_count": null,
   "metadata": {},
   "outputs": [],
   "source": [
    "# Adj R2, MAE, RMSE"
   ]
  },
  {
   "cell_type": "code",
   "execution_count": null,
   "metadata": {},
   "outputs": [],
   "source": []
  },
  {
   "cell_type": "code",
   "execution_count": null,
   "metadata": {},
   "outputs": [],
   "source": []
  },
  {
   "cell_type": "code",
   "execution_count": null,
   "metadata": {},
   "outputs": [
    {
     "data": {
      "text/html": [
       "<style>#sk-container-id-5 {color: black;background-color: white;}#sk-container-id-5 pre{padding: 0;}#sk-container-id-5 div.sk-toggleable {background-color: white;}#sk-container-id-5 label.sk-toggleable__label {cursor: pointer;display: block;width: 100%;margin-bottom: 0;padding: 0.3em;box-sizing: border-box;text-align: center;}#sk-container-id-5 label.sk-toggleable__label-arrow:before {content: \"▸\";float: left;margin-right: 0.25em;color: #696969;}#sk-container-id-5 label.sk-toggleable__label-arrow:hover:before {color: black;}#sk-container-id-5 div.sk-estimator:hover label.sk-toggleable__label-arrow:before {color: black;}#sk-container-id-5 div.sk-toggleable__content {max-height: 0;max-width: 0;overflow: hidden;text-align: left;background-color: #f0f8ff;}#sk-container-id-5 div.sk-toggleable__content pre {margin: 0.2em;color: black;border-radius: 0.25em;background-color: #f0f8ff;}#sk-container-id-5 input.sk-toggleable__control:checked~div.sk-toggleable__content {max-height: 200px;max-width: 100%;overflow: auto;}#sk-container-id-5 input.sk-toggleable__control:checked~label.sk-toggleable__label-arrow:before {content: \"▾\";}#sk-container-id-5 div.sk-estimator input.sk-toggleable__control:checked~label.sk-toggleable__label {background-color: #d4ebff;}#sk-container-id-5 div.sk-label input.sk-toggleable__control:checked~label.sk-toggleable__label {background-color: #d4ebff;}#sk-container-id-5 input.sk-hidden--visually {border: 0;clip: rect(1px 1px 1px 1px);clip: rect(1px, 1px, 1px, 1px);height: 1px;margin: -1px;overflow: hidden;padding: 0;position: absolute;width: 1px;}#sk-container-id-5 div.sk-estimator {font-family: monospace;background-color: #f0f8ff;border: 1px dotted black;border-radius: 0.25em;box-sizing: border-box;margin-bottom: 0.5em;}#sk-container-id-5 div.sk-estimator:hover {background-color: #d4ebff;}#sk-container-id-5 div.sk-parallel-item::after {content: \"\";width: 100%;border-bottom: 1px solid gray;flex-grow: 1;}#sk-container-id-5 div.sk-label:hover label.sk-toggleable__label {background-color: #d4ebff;}#sk-container-id-5 div.sk-serial::before {content: \"\";position: absolute;border-left: 1px solid gray;box-sizing: border-box;top: 0;bottom: 0;left: 50%;z-index: 0;}#sk-container-id-5 div.sk-serial {display: flex;flex-direction: column;align-items: center;background-color: white;padding-right: 0.2em;padding-left: 0.2em;position: relative;}#sk-container-id-5 div.sk-item {position: relative;z-index: 1;}#sk-container-id-5 div.sk-parallel {display: flex;align-items: stretch;justify-content: center;background-color: white;position: relative;}#sk-container-id-5 div.sk-item::before, #sk-container-id-5 div.sk-parallel-item::before {content: \"\";position: absolute;border-left: 1px solid gray;box-sizing: border-box;top: 0;bottom: 0;left: 50%;z-index: -1;}#sk-container-id-5 div.sk-parallel-item {display: flex;flex-direction: column;z-index: 1;position: relative;background-color: white;}#sk-container-id-5 div.sk-parallel-item:first-child::after {align-self: flex-end;width: 50%;}#sk-container-id-5 div.sk-parallel-item:last-child::after {align-self: flex-start;width: 50%;}#sk-container-id-5 div.sk-parallel-item:only-child::after {width: 0;}#sk-container-id-5 div.sk-dashed-wrapped {border: 1px dashed gray;margin: 0 0.4em 0.5em 0.4em;box-sizing: border-box;padding-bottom: 0.4em;background-color: white;}#sk-container-id-5 div.sk-label label {font-family: monospace;font-weight: bold;display: inline-block;line-height: 1.2em;}#sk-container-id-5 div.sk-label-container {text-align: center;}#sk-container-id-5 div.sk-container {/* jupyter's `normalize.less` sets `[hidden] { display: none; }` but bootstrap.min.css set `[hidden] { display: none !important; }` so we also need the `!important` here to be able to override the default hidden behavior on the sphinx rendered scikit-learn.org. See: https://github.com/scikit-learn/scikit-learn/issues/21755 */display: inline-block !important;position: relative;}#sk-container-id-5 div.sk-text-repr-fallback {display: none;}</style><div id=\"sk-container-id-5\" class=\"sk-top-container\"><div class=\"sk-text-repr-fallback\"><pre>GridSearchCV(cv=5,\n",
       "             estimator=XGBClassifier(base_score=None, booster=None,\n",
       "                                     callbacks=None, colsample_bylevel=None,\n",
       "                                     colsample_bynode=None,\n",
       "                                     colsample_bytree=0.8, device=None,\n",
       "                                     early_stopping_rounds=None,\n",
       "                                     enable_categorical=False, eval_metric=None,\n",
       "                                     feature_types=None, gamma=0,\n",
       "                                     grow_policy=None, importance_type=None,\n",
       "                                     interaction_constraints=None,\n",
       "                                     learning_rate=0.1, max_bin=None,\n",
       "                                     max_cat_threshold=None,\n",
       "                                     max_cat_to_onehot=None,\n",
       "                                     max_delta_step=None, max_depth=5,\n",
       "                                     max_leaves=None, min_child_weight=1,\n",
       "                                     missing=nan, monotone_constraints=None,\n",
       "                                     multi_strategy=None, n_estimators=140,\n",
       "                                     n_jobs=None, nthread=4,\n",
       "                                     num_parallel_tree=None, ...),\n",
       "             n_jobs=4,\n",
       "             param_grid={&#x27;max_depth&#x27;: range(3, 10, 2),\n",
       "                         &#x27;min_child_weight&#x27;: range(1, 6, 2)},\n",
       "             scoring=&#x27;roc_auc&#x27;)</pre><b>In a Jupyter environment, please rerun this cell to show the HTML representation or trust the notebook. <br />On GitHub, the HTML representation is unable to render, please try loading this page with nbviewer.org.</b></div><div class=\"sk-container\" hidden><div class=\"sk-item sk-dashed-wrapped\"><div class=\"sk-label-container\"><div class=\"sk-label sk-toggleable\"><input class=\"sk-toggleable__control sk-hidden--visually\" id=\"sk-estimator-id-5\" type=\"checkbox\" ><label for=\"sk-estimator-id-5\" class=\"sk-toggleable__label sk-toggleable__label-arrow\">GridSearchCV</label><div class=\"sk-toggleable__content\"><pre>GridSearchCV(cv=5,\n",
       "             estimator=XGBClassifier(base_score=None, booster=None,\n",
       "                                     callbacks=None, colsample_bylevel=None,\n",
       "                                     colsample_bynode=None,\n",
       "                                     colsample_bytree=0.8, device=None,\n",
       "                                     early_stopping_rounds=None,\n",
       "                                     enable_categorical=False, eval_metric=None,\n",
       "                                     feature_types=None, gamma=0,\n",
       "                                     grow_policy=None, importance_type=None,\n",
       "                                     interaction_constraints=None,\n",
       "                                     learning_rate=0.1, max_bin=None,\n",
       "                                     max_cat_threshold=None,\n",
       "                                     max_cat_to_onehot=None,\n",
       "                                     max_delta_step=None, max_depth=5,\n",
       "                                     max_leaves=None, min_child_weight=1,\n",
       "                                     missing=nan, monotone_constraints=None,\n",
       "                                     multi_strategy=None, n_estimators=140,\n",
       "                                     n_jobs=None, nthread=4,\n",
       "                                     num_parallel_tree=None, ...),\n",
       "             n_jobs=4,\n",
       "             param_grid={&#x27;max_depth&#x27;: range(3, 10, 2),\n",
       "                         &#x27;min_child_weight&#x27;: range(1, 6, 2)},\n",
       "             scoring=&#x27;roc_auc&#x27;)</pre></div></div></div><div class=\"sk-parallel\"><div class=\"sk-parallel-item\"><div class=\"sk-item\"><div class=\"sk-label-container\"><div class=\"sk-label sk-toggleable\"><input class=\"sk-toggleable__control sk-hidden--visually\" id=\"sk-estimator-id-6\" type=\"checkbox\" ><label for=\"sk-estimator-id-6\" class=\"sk-toggleable__label sk-toggleable__label-arrow\">estimator: XGBClassifier</label><div class=\"sk-toggleable__content\"><pre>XGBClassifier(base_score=None, booster=None, callbacks=None,\n",
       "              colsample_bylevel=None, colsample_bynode=None,\n",
       "              colsample_bytree=0.8, device=None, early_stopping_rounds=None,\n",
       "              enable_categorical=False, eval_metric=None, feature_types=None,\n",
       "              gamma=0, grow_policy=None, importance_type=None,\n",
       "              interaction_constraints=None, learning_rate=0.1, max_bin=None,\n",
       "              max_cat_threshold=None, max_cat_to_onehot=None,\n",
       "              max_delta_step=None, max_depth=5, max_leaves=None,\n",
       "              min_child_weight=1, missing=nan, monotone_constraints=None,\n",
       "              multi_strategy=None, n_estimators=140, n_jobs=None, nthread=4,\n",
       "              num_parallel_tree=None, ...)</pre></div></div></div><div class=\"sk-serial\"><div class=\"sk-item\"><div class=\"sk-estimator sk-toggleable\"><input class=\"sk-toggleable__control sk-hidden--visually\" id=\"sk-estimator-id-7\" type=\"checkbox\" ><label for=\"sk-estimator-id-7\" class=\"sk-toggleable__label sk-toggleable__label-arrow\">XGBClassifier</label><div class=\"sk-toggleable__content\"><pre>XGBClassifier(base_score=None, booster=None, callbacks=None,\n",
       "              colsample_bylevel=None, colsample_bynode=None,\n",
       "              colsample_bytree=0.8, device=None, early_stopping_rounds=None,\n",
       "              enable_categorical=False, eval_metric=None, feature_types=None,\n",
       "              gamma=0, grow_policy=None, importance_type=None,\n",
       "              interaction_constraints=None, learning_rate=0.1, max_bin=None,\n",
       "              max_cat_threshold=None, max_cat_to_onehot=None,\n",
       "              max_delta_step=None, max_depth=5, max_leaves=None,\n",
       "              min_child_weight=1, missing=nan, monotone_constraints=None,\n",
       "              multi_strategy=None, n_estimators=140, n_jobs=None, nthread=4,\n",
       "              num_parallel_tree=None, ...)</pre></div></div></div></div></div></div></div></div></div></div>"
      ],
      "text/plain": [
       "GridSearchCV(cv=5,\n",
       "             estimator=XGBClassifier(base_score=None, booster=None,\n",
       "                                     callbacks=None, colsample_bylevel=None,\n",
       "                                     colsample_bynode=None,\n",
       "                                     colsample_bytree=0.8, device=None,\n",
       "                                     early_stopping_rounds=None,\n",
       "                                     enable_categorical=False, eval_metric=None,\n",
       "                                     feature_types=None, gamma=0,\n",
       "                                     grow_policy=None, importance_type=None,\n",
       "                                     interaction_constraints=None,\n",
       "                                     learning_rate=0.1, max_bin=None,\n",
       "                                     max_cat_threshold=None,\n",
       "                                     max_cat_to_onehot=None,\n",
       "                                     max_delta_step=None, max_depth=5,\n",
       "                                     max_leaves=None, min_child_weight=1,\n",
       "                                     missing=nan, monotone_constraints=None,\n",
       "                                     multi_strategy=None, n_estimators=140,\n",
       "                                     n_jobs=None, nthread=4,\n",
       "                                     num_parallel_tree=None, ...),\n",
       "             n_jobs=4,\n",
       "             param_grid={'max_depth': range(3, 10, 2),\n",
       "                         'min_child_weight': range(1, 6, 2)},\n",
       "             scoring='roc_auc')"
      ]
     },
     "execution_count": 49,
     "metadata": {},
     "output_type": "execute_result"
    }
   ],
   "source": [
    "\n",
    "#gsearch1.grid_scores_, gsearch1.best_params_, gsearch1.best_score_"
   ]
  },
  {
   "cell_type": "code",
   "execution_count": null,
   "metadata": {},
   "outputs": [
    {
     "data": {
      "text/plain": [
       "nan"
      ]
     },
     "execution_count": 50,
     "metadata": {},
     "output_type": "execute_result"
    }
   ],
   "source": [
    "gsearch1.best_score_\n"
   ]
  },
  {
   "cell_type": "code",
   "execution_count": null,
   "metadata": {},
   "outputs": [],
   "source": []
  }
 ],
 "metadata": {
  "kernelspec": {
   "display_name": "aws",
   "language": "python",
   "name": "python3"
  },
  "language_info": {
   "codemirror_mode": {
    "name": "ipython",
    "version": 3
   },
   "file_extension": ".py",
   "mimetype": "text/x-python",
   "name": "python",
   "nbconvert_exporter": "python",
   "pygments_lexer": "ipython3",
   "version": "3.10.13"
  }
 },
 "nbformat": 4,
 "nbformat_minor": 2
}
